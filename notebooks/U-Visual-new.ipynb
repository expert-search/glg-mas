{
 "cells": [
  {
   "cell_type": "code",
   "execution_count": 98,
   "id": "526f1b4e-3493-4660-8be1-40da02d6fc9f",
   "metadata": {},
   "outputs": [
    {
     "name": "stdout",
     "output_type": "stream",
     "text": [
      "Collecting sklearn\n",
      "  Using cached sklearn-0.0.tar.gz (1.1 kB)\n",
      "Collecting scikit-learn\n",
      "  Downloading scikit_learn-0.24.2-cp39-cp39-macosx_10_13_x86_64.whl (7.3 MB)\n",
      "\u001b[K     |████████████████████████████████| 7.3 MB 3.7 MB/s eta 0:00:01\n",
      "\u001b[?25hRequirement already satisfied: numpy>=1.13.3 in /Users/spenno_fr/Applications/conda_installs/anaconda3/envs/glg_research/lib/python3.9/site-packages (from scikit-learn->sklearn) (1.21.1)\n",
      "Requirement already satisfied: scipy>=0.19.1 in /Users/spenno_fr/Applications/conda_installs/anaconda3/envs/glg_research/lib/python3.9/site-packages (from scikit-learn->sklearn) (1.7.1)\n",
      "Collecting threadpoolctl>=2.0.0\n",
      "  Using cached threadpoolctl-2.2.0-py3-none-any.whl (12 kB)\n",
      "Requirement already satisfied: joblib>=0.11 in /Users/spenno_fr/Applications/conda_installs/anaconda3/envs/glg_research/lib/python3.9/site-packages (from scikit-learn->sklearn) (1.0.1)\n",
      "Building wheels for collected packages: sklearn\n",
      "  Building wheel for sklearn (setup.py) ... \u001b[?25ldone\n",
      "\u001b[?25h  Created wheel for sklearn: filename=sklearn-0.0-py2.py3-none-any.whl size=1317 sha256=60f4d436dc3a6988273e308287714dc0c77cc1108c5fb4424c669ff5941ba421\n",
      "  Stored in directory: /Users/spenno_fr/Library/Caches/pip/wheels/e4/7b/98/b6466d71b8d738a0c547008b9eb39bf8676d1ff6ca4b22af1c\n",
      "Successfully built sklearn\n",
      "Installing collected packages: threadpoolctl, scikit-learn, sklearn\n",
      "Successfully installed scikit-learn-0.24.2 sklearn-0.0 threadpoolctl-2.2.0\n"
     ]
    }
   ],
   "source": [
    "!pip install sklearn"
   ]
  },
  {
   "cell_type": "code",
   "execution_count": 99,
   "id": "6f1ea2e0",
   "metadata": {},
   "outputs": [],
   "source": [
    "import pandas as pd\n",
    "import numpy as np\n",
    "import gensim\n",
    "from datetime import datetime, timedelta\n",
    "import matplotlib.pyplot as plt\n",
    "import pickle\n",
    "\n",
    "from sklearn.feature_extraction.text import TfidfVectorizer\n",
    "from sklearn.metrics.pairwise import cosine_similarity\n",
    "from scipy.cluster.hierarchy import ward, dendrogram"
   ]
  },
  {
   "cell_type": "code",
   "execution_count": 96,
   "id": "631091e1",
   "metadata": {},
   "outputs": [],
   "source": [
    "dft = pd.read_csv('250k_full_lda_185.csv')\n",
    "dft['article_words'] = [eval(item) for item in dft['article_words']]"
   ]
  },
  {
   "cell_type": "code",
   "execution_count": 6,
   "id": "cd386b0b",
   "metadata": {},
   "outputs": [],
   "source": [
    "filename = 'models/7passes_265_topics_ldamodel.id2word'\n",
    "file = open(filename,'rb')\n",
    "id2word = pickle.load(file)\n",
    "\n",
    "lda_model = gensim.models.ldamodel.LdaModel.load('models/7passes_265_topics_ldamodel')\n",
    "                                                 \n",
    "filename = 'models/topics_dict.pkl'\n",
    "file = open(filename,'rb')\n",
    "topics_dict = pickle.load(file)                                                                                                                                                  "
   ]
  },
  {
   "cell_type": "code",
   "execution_count": 7,
   "id": "0bf6638f",
   "metadata": {},
   "outputs": [],
   "source": [
    "tech_labels = ['robots & robotics','meat substitutes','tech m&a','laptops, mobile devices, gadgets','audio tech',\n",
    "              'climate science','digital advertising','ridesharing services e-scooters & e-bikes',\n",
    "               'wireless charging technology','e-commerce & online delivery','apple devices','astrophysics',\n",
    "               'automotive technology1','virtual reality','audio streaming and apps','virtual assistants, smart home tech',\n",
    "              'data breaches & data privacy','data protection & govt intervention','drones & unmanned aerial tech',\n",
    "              '5g % mobile networks','autonomous vehicles1','hacks & data theft','astrophysics','battery technology',\n",
    "              'tech investments, vc, new initiatives1','space exploration','cryptocurrency','cybersecurity',\n",
    "               'gene editing, genetic engineering','cutting-edge mobile devices, gadgets','quantum computing',\n",
    "               'fintech & payments','microsoft apps, os, devices','earth sciences','faang','climate science & technology',\n",
    "               'meteorology','automotive technology2','tech investments, vc, new initiatives2','artificial intelligence',\n",
    "               'chips & processors','astronomy & astrophysics','software/service glitches, bugs & outages',\n",
    "               'tech investments, vc, new initiatives3','nuclear tech','aviation & aerospace','code & software',\n",
    "               'satellites & rockets','dark web & online privacy','autonomous vehicles1','surveillance tech',\n",
    "               'mobile networks, carriers & eqpt','space exploration','apps, gadgets & devices']\n",
    "\n",
    "health_labels = ['drugs, clinical trials, approvals','intl big business','marijuana & CBD',\n",
    "             'menstrual health','cancer treatments & trials','food poisoning, allergies, household chemicals',\n",
    "            'health insurance & washington legislation','organ donation','livestock viral diseases','skincare',\n",
    "            'food & diet','fitness, exercise & diet','mood disorders','product recalls','sleep health','infectious diseases',\n",
    "            'big tech govt intervention','sexual assault & harassment','health aspects of body art',\n",
    "            'infant nutrition','smoking, vaping & e-cigs','bloodborne diseases & vaccines','medical devices',\n",
    "             'bacteria & viruses','the human brain','blood and blood diseases','sex and relationships','clinical care',\n",
    "             'birth control & reproductive health',\"children's health\",'lgbtq issues','mental health & disorders',\n",
    "             'prescription drugs']\n",
    "\n",
    "tech_health_labels = tech_labels + health_labels"
   ]
  },
  {
   "cell_type": "markdown",
   "id": "22487940",
   "metadata": {},
   "source": [
    "## Visualize 2"
   ]
  },
  {
   "cell_type": "code",
   "execution_count": 94,
   "id": "91246bc7",
   "metadata": {},
   "outputs": [
    {
     "ename": "NameError",
     "evalue": "name 'dft' is not defined",
     "output_type": "error",
     "traceback": [
      "\u001b[0;31m---------------------------------------------------------------------------\u001b[0m",
      "\u001b[0;31mNameError\u001b[0m                                 Traceback (most recent call last)",
      "\u001b[0;32m/var/folders/4m/q87n_21926l1_ggb72_9dmq00000gp/T/ipykernel_49703/1791654892.py\u001b[0m in \u001b[0;36m<module>\u001b[0;34m\u001b[0m\n\u001b[1;32m      2\u001b[0m \u001b[0mend\u001b[0m \u001b[0;34m=\u001b[0m \u001b[0;34m'2018-05-12'\u001b[0m\u001b[0;34m\u001b[0m\u001b[0;34m\u001b[0m\u001b[0m\n\u001b[1;32m      3\u001b[0m \u001b[0;34m\u001b[0m\u001b[0m\n\u001b[0;32m----> 4\u001b[0;31m \u001b[0mmini_df\u001b[0m \u001b[0;34m=\u001b[0m \u001b[0mdft\u001b[0m\u001b[0;34m[\u001b[0m\u001b[0;34m(\u001b[0m\u001b[0mdft\u001b[0m\u001b[0;34m[\u001b[0m\u001b[0;34m'date'\u001b[0m\u001b[0;34m]\u001b[0m \u001b[0;34m>=\u001b[0m \u001b[0mstart\u001b[0m\u001b[0;34m)\u001b[0m \u001b[0;34m&\u001b[0m \u001b[0;34m(\u001b[0m\u001b[0mdft\u001b[0m\u001b[0;34m[\u001b[0m\u001b[0;34m'date'\u001b[0m\u001b[0;34m]\u001b[0m \u001b[0;34m<=\u001b[0m \u001b[0mend\u001b[0m\u001b[0;34m)\u001b[0m\u001b[0;34m]\u001b[0m\u001b[0;34m\u001b[0m\u001b[0;34m\u001b[0m\u001b[0m\n\u001b[0m\u001b[1;32m      5\u001b[0m \u001b[0mmini_df\u001b[0m\u001b[0;34m.\u001b[0m\u001b[0mshape\u001b[0m\u001b[0;34m\u001b[0m\u001b[0;34m\u001b[0m\u001b[0m\n",
      "\u001b[0;31mNameError\u001b[0m: name 'dft' is not defined"
     ]
    }
   ],
   "source": [
    "start = '2018-05-12'\n",
    "end = '2018-05-12'\n",
    "\n",
    "mini_df = dft[(dft['date'] >= start) & (dft['date'] <= end)]\n",
    "mini_df.shape"
   ]
  },
  {
   "cell_type": "code",
   "execution_count": 22,
   "id": "41128611",
   "metadata": {},
   "outputs": [],
   "source": [
    "def dummy_func(doc):\n",
    "    return doc\n",
    "\n",
    "tfidf = TfidfVectorizer(\n",
    "    analyzer='word',\n",
    "    tokenizer=dummy_func,\n",
    "    preprocessor=dummy_func,\n",
    "    token_pattern=None,\n",
    "    max_df=0.8,\n",
    "    min_df=3,\n",
    "    use_idf=True,)  \n",
    "\n",
    "tfidf_matrix = tfidf.fit_transform(mini_df['article_words'])\n",
    "\n",
    "dist = 1 - cosine_similarity(tfidf_matrix)"
   ]
  },
  {
   "cell_type": "code",
   "execution_count": 23,
   "id": "5ab17cfa",
   "metadata": {},
   "outputs": [
    {
     "data": {
      "image/png": "[encoded data removed]",
      "text/plain": [
       "<Figure size 1080x1440 with 1 Axes>"
      ]
     },
     "metadata": {
      "needs_background": "light"
     },
     "output_type": "display_data"
    }
   ],
   "source": [
    "linkage_matrix = ward(dist) #define the linkage_matrix using ward clustering pre-computed distances\n",
    "\n",
    "fig, ax = plt.subplots(figsize=(15, 20)) # set size\n",
    "\n",
    "lda_topics = [mini_df.iloc[i,14] for i in range(len(mini_df))]\n",
    "label_names = [topics_dict[topic] for topic in lda_topics]\n",
    "label_names = [label if label in tech_health_labels else '' for label in label_names]\n",
    "\n",
    "ax = dendrogram(linkage_matrix, orientation=\"right\", labels=label_names);\n",
    "\n",
    "plt.tick_params(\\\n",
    "    axis= 'x',          # changes apply to the x-axis\n",
    "    which='both',      # both major and minor ticks are affected\n",
    "    bottom='off',      # ticks along the bottom edge are off\n",
    "    top='off',         # ticks along the top edge are off\n",
    "    labelbottom='off')\n",
    "\n",
    "#plt.tight_layout() #show plot with tight layout"
   ]
  },
  {
   "cell_type": "code",
   "execution_count": 2,
   "id": "40255579",
   "metadata": {},
   "outputs": [],
   "source": [
    "import pickle\n",
    "import pandas as pd"
   ]
  },
  {
   "cell_type": "code",
   "execution_count": 8,
   "id": "93c41b0e",
   "metadata": {},
   "outputs": [],
   "source": [
    "with open('/Users/spenno_fr/Projects/nlp-glg-mas/models/NER/0.1/' + '14passes_265_ents_dict(stripped_final_sep_14).pkl', 'rb') as file:\n",
    "    ner_topic_dict = pickle.load(file)"
   ]
  },
  {
   "cell_type": "code",
   "execution_count": 11,
   "id": "1a263ecd-1210-4121-98d9-b2242966163c",
   "metadata": {},
   "outputs": [
    {
     "data": {
      "text/plain": [
       "{'French-gpe': 55,\n",
       " 'Chinese-gpe': 30,\n",
       " 'German-gpe': 20,\n",
       " 'Indian-gpe': 15,\n",
       " 'American-gpe': 14,\n",
       " 'AT T-org': 138,\n",
       " 'Justice Department-org': 55,\n",
       " 'CNN-org': 47,\n",
       " 'NXP-org': 45,\n",
       " 'CBS-org': 45,\n",
       " 'Time Warner-per': 81,\n",
       " 'Qualcomm-per': 30,\n",
       " 'T Mobile-per': 21,\n",
       " 'Trump-per': 17,\n",
       " 'Stephenson-per': 15,\n",
       " 'Qualcomm-geo': 57,\n",
       " 'Broadcom-geo': 51,\n",
       " 'Viacom-geo': 43,\n",
       " 'Cigna-geo': 30,\n",
       " 'Comcast-geo': 27}"
      ]
     },
     "execution_count": 11,
     "metadata": {},
     "output_type": "execute_result"
    }
   ],
   "source": [
    "ner_topic_dict[10]"
   ]
  },
  {
   "cell_type": "code",
   "execution_count": 19,
   "id": "6c7204c8-afcc-49e7-b826-087eba9a35d9",
   "metadata": {},
   "outputs": [],
   "source": [
    "# ner_topic_df = pd.DataFrame(ner_topic_dict)"
   ]
  },
  {
   "cell_type": "code",
   "execution_count": 57,
   "id": "7f3f2509-f53d-4e41-8073-7268f2bfdd1e",
   "metadata": {},
   "outputs": [],
   "source": []
  },
  {
   "cell_type": "code",
   "execution_count": 1,
   "id": "bac127c2-9851-4a95-b015-dfe2e60d6529",
   "metadata": {},
   "outputs": [],
   "source": [
    "def unpack_top5_entities_per_topic(ner_topic_dict):\n",
    "    \n",
    "    # Copy the keys from the input dictionary to a new one for parsing into\n",
    "    topic_to_top5_ner_entities = dict.fromkeys(ner_topic_dict.keys(), None)\n",
    "    \n",
    "    # Iterate through each topic number and append\n",
    "    for topic_id in ner_topic_dict.keys(): \n",
    "\n",
    "        # Create a dictionary structure to hold the top 5 entities extracted within each topic\n",
    "        ent_types_dict = {'org':[], 'geo':[], 'gpe':[], 'per':[], 'tim':[], 'art':[]}\n",
    "\n",
    "        # Iterate through each entity type\n",
    "        for ent_type in ent_types_dict.keys():\n",
    "\n",
    "            # For a given entity type, find the top 5 entities\n",
    "            ent_type_top_5 = [(key[:key.find(ent_type) - 1], value) for key, value in ner_topic_dict[topic_id].items() if key.find(ent_type) > 0]\n",
    "\n",
    "            # Append to the entity_dictionary\n",
    "            ent_types_dict[ent_type] = ent_types_dict[ent_type] + ent_type_top_5\n",
    "\n",
    "        topic_to_top5_ner_entities[topic_id] = ent_types_dict\n",
    "    \n",
    "    # Return fully parsed topic_to_ner_dictionary\n",
    "    return topic_to_top5_ner_entities"
   ]
  },
  {
   "cell_type": "code",
   "execution_count": 12,
   "id": "3d10a403-9cd9-428c-a2aa-6155301a232d",
   "metadata": {},
   "outputs": [],
   "source": [
    "topic_to_top5_ner_entities = unpack_top5_entities_per_topic(ner_topic_dict)"
   ]
  },
  {
   "cell_type": "code",
   "execution_count": 15,
   "id": "d750a39c-5463-406c-a056-d4c05ec59378",
   "metadata": {},
   "outputs": [],
   "source": [
    "# Write to pickle for loading in deployed app\n",
    "with open('/Users/spenno_fr/Projects/nlp-glg-mas/models/NER/0.1/' + 'topic_to_top5_ner_entities_v0.1.pkl', 'wb') as file:\n",
    "    pickle.dump(topic_to_top5_ner_entities, file, protocol=pickle.HIGHEST_PROTOCOL)"
   ]
  },
  {
   "cell_type": "code",
   "execution_count": 14,
   "id": "c1576758-96d9-4c05-a164-ba7317084f50",
   "metadata": {},
   "outputs": [
    {
     "data": {
      "text/plain": [
       "{'org': [('Apple', 14141),\n",
       "  ('Apple Watch', 902),\n",
       "  ('Apple TV', 451),\n",
       "  ('Bloomberg', 367),\n",
       "  ('CNBC', 318)],\n",
       " 'geo': [('China', 1074),\n",
       "  ('Pro', 451),\n",
       "  ('India', 351),\n",
       "  ('Samsung', 261),\n",
       "  ('United States', 226)],\n",
       " 'gpe': [('Chinese', 377),\n",
       "  ('American', 83),\n",
       "  ('Indian', 81),\n",
       "  ('Japanese', 37),\n",
       "  ('French', 22)],\n",
       " 'per': [('Cook', 796),\n",
       "  ('Mac', 492),\n",
       "  ('Trump', 275),\n",
       "  ('Kuo', 259),\n",
       "  ('Siri', 254)],\n",
       " 'tim': [],\n",
       " 'art': []}"
      ]
     },
     "execution_count": 14,
     "metadata": {},
     "output_type": "execute_result"
    }
   ],
   "source": [
    "topic_to_top5_ner_entities[31]"
   ]
  },
  {
   "cell_type": "code",
   "execution_count": null,
   "id": "d11cfbe3-eef3-4c45-af9d-8cb8d5dde783",
   "metadata": {},
   "outputs": [],
   "source": [
    "'One of the studies looked at more than 600,000 virus infections in 13 states, representing about one quarter of the U.S. population, between April and July. The researchers concluded that Americans who were not fully vaccinated were far more susceptible to infections, illness and death from the virus. Even after the Delta variant became dominant in the United States over the summer, the vaccines’ protections remained strong: Compared with vaccinated adults, those who were not fully vaccinated were 4.5 times as likely to become infected, 10 times as likely to be hospitalized and 11 times as likely to die of Covid.'"
   ]
  },
  {
   "cell_type": "code",
   "execution_count": 79,
   "id": "6b402713-0007-4f06-9ee2-a36e7e271daf",
   "metadata": {},
   "outputs": [],
   "source": [
    "# Dump v1 topic_dict\n",
    "topics_dict = {0:'ind',1:'sweden money-laundering',2:'libya politics',3:'gossip/celebrity life',4:'international business/economics',\n",
    "\t\t\t   5:'mideast oil/business',6:'us politics',7:'international energy/renewables',8:'vietnam',9:'activism/protests',\n",
    "\t\t\t   10:'nutrition/health science',11:'international diplomacy/politics',12:'washington politics',13:'celebrity life',\n",
    "\t\t\t   14:'ind',15:'immunology/bloodborne diseases',16:'german-language business',17:'islamic geopolitics',\n",
    "\t\t\t   18:'international oil/politics',19:'baseball/football',20:'art and museums',21:'international trade',\n",
    "\t\t\t   22:'travel and tourism',23:'defence/military',24:'movies/video clips',25:'defence/weapons tech',\n",
    "\t\t\t   26:'ind',27:'bankruptcy/corporate debt/m&a',28:'fashion',29:'heavy metals, minerals and mining',\n",
    "\t\t\t   30:'gossip/celebrity life',31:'intl govt/politics',32:'no topic',33:'urban/city life',34:'gossip/celebrity life',\n",
    "\t\t\t   35:'washington politics',36:'words and wordplay',37:'tax and tax policy',38:'ind',39:'beauty pageant',\n",
    "\t\t\t   40:'stock earnings reports',41:'us census/treasury',42:'french current affairs',43:'obama',44:'beauty & makeup',\n",
    "\t\t\t   45:'weather and natural disasters',46:None,47:'ind',48:'us politics',49:'showbiz awards',50:'global macroeconomics',\n",
    "\t\t\t   51:'charitable donations/campaign contributions',52:'cybersecurity/hacking',53:'ind',54:'combat sports',\n",
    "\t\t\t   55:None,56:'star wars franchise',57:'ugandan shilling',58:'sexual harrassment/assault',59:'consumer electronics',\n",
    "\t\t\t   60:'global banking',61:'global c-suite executive',62:'trump',63:'climate and severe weather',64:'festivals and special occasions',\n",
    "\t\t\t   65:'legal analysis',66:'immigration, refugees and asylum',67:'tech gadgets',68:'olympics',69:'wildfires/mexico politics',\n",
    "\t\t\t   70:'nissan',71:'horoscopes',72:'washington politics',73:'myanmar',74:None,75:'ind',76:'global banking',77:'tennis',\n",
    "\t\t\t   78:'telecommunications',79:'supreme court',80:None,81:'education',82:'rifles (russian language)',83:None,84:'ind',\n",
    "\t\t\t   85:'wellness, self-help, relationships',86:'ind',87:'us sports',88:'game of thrones',\n",
    "\t\t\t   89:'streaming/media svcs',90:'celebrities and sports stars',91:None,92:'gaming and VR',\n",
    "\t\t\t   93:'intl corporate earnings',94:'future-tech, AI and crypto',95:'conservative politics',\n",
    "\t\t\t   96:'Brazil business & politics',97:'tech vc, m&a, ipos, restructuring',98:'ind',99:'crimes/arrests',\n",
    "\t\t\t   100:'physical and mental health',101:'college admissions scandal',102:'coronavirus',\n",
    "\t\t\t   103:'international markets/monetary matters',104:'racing',105:'employment',106:'church and religion',\n",
    "\t\t\t   107:'mid-east - US relations',108:'guns/shootings',109:'elon musk',110:'regulation, laws, govt oversight',\n",
    "\t\t\t   111:'ind',112:'healthcare coverage/insurance',113:None,114:'social media providers',115:'sports',\n",
    "\t\t\t   116:'trump white house investigations',117:'industrial workers and unions',118:'washington politics',\n",
    "\t\t\t   119:'wildlife, aquatics and marine life',120:'ind',121:None,122:'stocks',123:'south american business',\n",
    "\t\t\t   124:'le culture francais',125:'south asian/African business/politics',126:'music',127:'russia politics',\n",
    "\t\t\t   128:'apps and mobile technology',129:'ind',130:'us/intl monetary policy',131:'jokes, parodies, trivia',\n",
    "\t\t\t   132:'north korea relations',133:'misc lists and trivia',134:'aviation and aerospace',135:'homes and real estate',\n",
    "\t\t\t   136:'espanol',137:'israeli-palestinian conflict',138:None,139:'celebs/reality tv stars',140:'astrophysics/space tech/sci fi',\n",
    "\t\t\t   141:None,142:'biotechnology & pharmaceuticals',143:'ind',144:'south africa',145:'climate & environmental issues',\n",
    "\t\t\t   146:'movies, tv, showbiz',147:'mobile devices, laptops, smart home tech',148:'performing arts',149:'ind',150:'celebrity hair & beauty',\n",
    "\t\t\t   151:'ind',152:'recreational & medical marijuana',153:'pets, animals',154:'cross-border trade',155:'reproduction and birth control',\n",
    "\t\t\t   156:'e-cigarettes, vaping and tobacco',157:'apple',158:'stock market & big business',159:'addiction and public health',\n",
    "\t\t\t   160:'agriculture & farming',161:'food and drink',162:'space & space travel',163:'international politics & finance',\n",
    "\t\t\t   164:'ind',165:'trump allies',166:'ind',167:'books, writing and writers',168:'politics & polls',169:'US elections',      \n",
    "\t\t\t   170:'UK/EU economics, politics',171:'healthcare, insurance & retirement benefits',172:'cuba',173:'snackfoods, desserts & beverages',\n",
    "\t\t\t   174:'misc lists and trivia',175:'desus & mero',176:'automakers & ride-sharing',177:'icebergs & glaciers',\n",
    "\t\t\t   178:'ice hockey',179:'global big business',180:'washington politics',181:'China/HK business',182:'LGBTQ matters',\n",
    "\t\t\t   183:'royalty and monarchy', 184:'retail'}"
   ]
  },
  {
   "cell_type": "code",
   "execution_count": 80,
   "id": "0fb6043e-21ac-4c92-8cbb-8d036e40ccb1",
   "metadata": {},
   "outputs": [],
   "source": [
    "# Write to pickle for loading in deployed app\n",
    "with open('/Users/spenno_fr/Projects/nlp-glg-mas/models/LDA/0.1/topic_mapping/' + 'topics_dict_v0.1.pkl', 'wb') as file:\n",
    "    pickle.dump(topics_dict, file, protocol=pickle.HIGHEST_PROTOCOL)"
   ]
  },
  {
   "cell_type": "code",
   "execution_count": null,
   "id": "07edc07f-7796-467a-b06c-800b82115dd8",
   "metadata": {},
   "outputs": [],
   "source": []
  },
  {
   "cell_type": "code",
   "execution_count": null,
   "id": "29592706-90b4-424e-b6a1-defadc319823",
   "metadata": {},
   "outputs": [],
   "source": []
  },
  {
   "cell_type": "code",
   "execution_count": null,
   "id": "f389b298-e61f-4ef0-b0b2-becd8ab045c1",
   "metadata": {},
   "outputs": [],
   "source": []
  },
  {
   "cell_type": "code",
   "execution_count": 89,
   "id": "4aa0499c-7fee-4b40-abc6-238412974437",
   "metadata": {},
   "outputs": [],
   "source": [
    "# Write to pickle for loading in deployed app\n",
    "with open('/Users/spenno_fr/Projects/nlp-glg-mas/models/LDA/0.3/topic_mapping/' + 'topics_dict_v0.3.pkl', 'rb') as new_file:\n",
    "    topics_dict_v3 = pickle.load(new_file)"
   ]
  },
  {
   "cell_type": "code",
   "execution_count": 85,
   "id": "cc6aa1e7-26db-4096-bbc3-efaf36ccacb9",
   "metadata": {},
   "outputs": [
    {
     "name": "stdout",
     "output_type": "stream",
     "text": [
      "/Users/spenno_fr/Projects/nlp-glg-mas/notebooks\n"
     ]
    }
   ],
   "source": [
    "!pwd"
   ]
  },
  {
   "cell_type": "code",
   "execution_count": 87,
   "id": "ff62337e-84bf-4fbb-8845-7eb8cce5cdd7",
   "metadata": {},
   "outputs": [
    {
     "name": "stdout",
     "output_type": "stream",
     "text": [
      "topics_dict_v0.3.pkl\n"
     ]
    }
   ],
   "source": [
    "!ls '/Users/spenno_fr/Projects/nlp-glg-mas/models/LDA/0.3/topic_mapping/'"
   ]
  },
  {
   "cell_type": "code",
   "execution_count": 92,
   "id": "a7665e38-34bb-4913-95dd-4a89bef50885",
   "metadata": {},
   "outputs": [
    {
     "data": {
      "text/plain": [
       "{0: 'Mexican Telecommunications',\n",
       " 1: 'Education & Student Life',\n",
       " 2: '',\n",
       " 3: 'International Big Business',\n",
       " 4: 'Drugs, Clinical Trials, Approvals',\n",
       " 5: 'Robots & Robotics',\n",
       " 6: 'Indian Tech & Business',\n",
       " 7: 'Meat Substitutes',\n",
       " 8: 'Fish',\n",
       " 9: 'Israeli Tech & Business',\n",
       " 10: 'Tech M&A',\n",
       " 11: '',\n",
       " 12: 'Vacation Rental',\n",
       " 13: 'Laptops, Mobile Devices, Gadgets',\n",
       " 14: 'Audio Tech',\n",
       " 15: 'Climate Science',\n",
       " 16: 'International Govt Relations',\n",
       " 17: 'Digital Advertising',\n",
       " 18: '',\n",
       " 19: 'Marijuana & CBD',\n",
       " 20: 'Ridesharing Services, E-Scooters & E-Bikes',\n",
       " 21: '',\n",
       " 22: 'Wireless Charging Technology',\n",
       " 23: 'Diversity & Discrimination',\n",
       " 24: 'Basketball',\n",
       " 25: 'Mass Transit',\n",
       " 26: 'E-Commerce & Online Delivery',\n",
       " 27: 'European Alternative Energy',\n",
       " 28: 'Menstrual Health',\n",
       " 29: 'Cancer Treatments & Trials',\n",
       " 30: '',\n",
       " 31: 'Apple Devices',\n",
       " 32: 'Motor Racing',\n",
       " 33: 'Food Poisoning, Allergies, Household Chemicals',\n",
       " 34: 'Health Insurance & Washington Legislation',\n",
       " 35: 'Asian Business',\n",
       " 36: 'Astrophysics',\n",
       " 37: 'Chinese Big Business',\n",
       " 38: 'Latino-American Business',\n",
       " 39: 'International Trade, Subsidies & Tariffs',\n",
       " 40: 'Automotive Technology',\n",
       " 41: '',\n",
       " 42: 'Virtual Reality',\n",
       " 43: 'Organ Donation',\n",
       " 44: 'Audio Streaming And Apps',\n",
       " 45: 'Photo & Video Sharing',\n",
       " 46: 'Virtual Assistants, Smart Home Tech',\n",
       " 47: '',\n",
       " 48: 'International Oil & Gas',\n",
       " 49: 'Data Breaches & Data Privacy',\n",
       " 50: 'Livestock Viral Diseases',\n",
       " 51: 'Skincare',\n",
       " 52: 'Endangered Species, Illegal Animal Trading',\n",
       " 53: '',\n",
       " 54: 'Data Protection & Govt Intervention',\n",
       " 55: 'Food & Diet',\n",
       " 56: 'Ice Hockey',\n",
       " 57: '',\n",
       " 58: '',\n",
       " 59: 'Incarceration',\n",
       " 60: 'Government Legislation',\n",
       " 61: '',\n",
       " 62: 'Power & Renewable Energy',\n",
       " 63: 'Drones & Unmanned Aerial Tech',\n",
       " 64: 'Mobile Networks, 5G',\n",
       " 65: 'Global Big Business',\n",
       " 66: 'Fitness, Exercise & Diet',\n",
       " 67: 'Us Politics',\n",
       " 68: 'Mid-East Business',\n",
       " 69: 'Mood Disorders',\n",
       " 70: 'Studies And Polls',\n",
       " 71: 'Autonomous Vehicles',\n",
       " 72: 'Product Recalls',\n",
       " 73: '',\n",
       " 74: 'Big Business Earnings',\n",
       " 75: 'Facebook Govt Intervention',\n",
       " 76: 'Tv And Movies',\n",
       " 77: 'Hacks & Data Theft',\n",
       " 78: 'Gaming Platforms',\n",
       " 79: 'Dakota',\n",
       " 80: 'Astrophysics',\n",
       " 81: 'Global Currency, Equity And Fixed Income',\n",
       " 82: 'Brazilian/French Business',\n",
       " 83: 'Italian Politics',\n",
       " 84: '',\n",
       " 85: 'Battery Technology',\n",
       " 86: '',\n",
       " 87: 'Tech Investments, Vc, New Initiatives',\n",
       " 88: 'Plants & Trees',\n",
       " 89: 'Guns And Shootings',\n",
       " 90: 'Latino-American Business',\n",
       " 91: 'Space Exploration',\n",
       " 92: 'Sleep Health',\n",
       " 93: 'Infectious Diseases',\n",
       " 94: 'Big Tech Govt Intervention',\n",
       " 95: 'Sexual Assault & Harassment',\n",
       " 96: 'Fake News, Misinformation, Dangerous Online Content',\n",
       " 97: '',\n",
       " 98: '',\n",
       " 99: 'UK Affairs',\n",
       " 100: '',\n",
       " 101: 'Cryptocurrency',\n",
       " 102: 'Human Rights In Developing World',\n",
       " 103: 'Health Aspects Of Body Art',\n",
       " 104: '',\n",
       " 105: 'Asia Activism',\n",
       " 106: 'Twitter',\n",
       " 107: 'Cybersecurity',\n",
       " 108: 'Infant Nutrition',\n",
       " 109: 'Mining',\n",
       " 110: 'Cities & Urban Life',\n",
       " 111: 'Mid-East Politics, Terrorism',\n",
       " 112: 'Art And Design',\n",
       " 113: 'Wearable Devices',\n",
       " 114: 'Food Delivery',\n",
       " 115: '',\n",
       " 116: 'North Korea Politics',\n",
       " 117: 'Smoking, Vaping & E-Cigs',\n",
       " 118: 'Genetic Engineering',\n",
       " 119: 'Water Resources',\n",
       " 120: 'Bloodborne Diseases & Vaccines',\n",
       " 121: 'Australasian Business',\n",
       " 122: 'International Equities/Derivatives',\n",
       " 123: 'Sports/Esports',\n",
       " 124: 'Rare Earth Minerals',\n",
       " 125: 'International Politics',\n",
       " 126: 'Cutting-Edge Mobile Devices, Gadgets',\n",
       " 127: 'Disney',\n",
       " 128: '',\n",
       " 129: 'Quantum Computing',\n",
       " 130: 'International Macroeconomics',\n",
       " 131: 'Fintech & Payments',\n",
       " 132: 'Weed & Legal Matters',\n",
       " 133: 'Puerto Rico',\n",
       " 134: '',\n",
       " 135: 'Microsoft Apps, Os, Devices',\n",
       " 136: 'Medical Devices',\n",
       " 137: 'Telecoms Networks & Providers',\n",
       " 138: 'International Banking & Finance',\n",
       " 139: 'Financial Markets',\n",
       " 140: 'Smartphone Tech',\n",
       " 141: 'Medical Devices',\n",
       " 142: 'Earth Sciences',\n",
       " 143: 'Global Currency, Equity And Fixed Income',\n",
       " 144: 'FAANG',\n",
       " 145: '',\n",
       " 146: 'Sports',\n",
       " 147: 'Climate Science & Technology',\n",
       " 148: 'Public policy & Political Ideology',\n",
       " 149: 'Price Movements & Fluctuations',\n",
       " 150: 'Baseball',\n",
       " 151: 'Meteorology',\n",
       " 152: '',\n",
       " 153: 'Aliens',\n",
       " 154: '',\n",
       " 155: 'Automotive Technology',\n",
       " 156: 'Tech Investments, Vc, New Initiatives',\n",
       " 157: 'Artificial Intelligence',\n",
       " 158: '',\n",
       " 159: '',\n",
       " 160: 'Chips & Processors',\n",
       " 161: '',\n",
       " 162: 'Astronomy & Astrophysics',\n",
       " 163: 'Bacteria & Viruses',\n",
       " 164: 'International Stock Markets',\n",
       " 165: '',\n",
       " 166: 'The Human Brain',\n",
       " 167: 'Fashion & Apparel',\n",
       " 168: '',\n",
       " 169: '',\n",
       " 170: '',\n",
       " 171: '',\n",
       " 172: 'Blood And Blood Diseases',\n",
       " 173: '',\n",
       " 174: 'Global Currency, Equity And Fixed Income',\n",
       " 175: 'Software/Service Glitches, Bugs & Outages',\n",
       " 176: '',\n",
       " 177: 'Video Games',\n",
       " 178: 'Natural & Man-Made Disasters',\n",
       " 179: 'Tech Investments, Vc, New Initiatives',\n",
       " 180: '',\n",
       " 181: 'Nuclear Tech',\n",
       " 182: '',\n",
       " 183: 'Artificial Intelligence',\n",
       " 184: '',\n",
       " 185: 'Sex And Relationships',\n",
       " 186: '',\n",
       " 187: 'Commodities, Natural Resources',\n",
       " 188: 'Clinical Care',\n",
       " 189: 'Sports',\n",
       " 190: 'European Macroeconomics',\n",
       " 191: '',\n",
       " 192: 'International Banking & Finance',\n",
       " 193: 'African Govt Affairs',\n",
       " 194: 'Canadian Business',\n",
       " 195: '',\n",
       " 196: '',\n",
       " 197: 'Mid-East Oil & Gas',\n",
       " 198: 'Emoji',\n",
       " 199: 'Big Business Earnings',\n",
       " 200: 'Bloodborne Diseases & Vaccines',\n",
       " 201: '',\n",
       " 202: '',\n",
       " 203: 'Litigation & Court Rulings',\n",
       " 204: '',\n",
       " 205: '',\n",
       " 206: 'Messaging Platforms',\n",
       " 207: 'Aviation & Aerospace',\n",
       " 208: 'Video Games',\n",
       " 209: '',\n",
       " 210: 'Amazon',\n",
       " 211: 'Birth Control & Reproductive Health',\n",
       " 212: '',\n",
       " 213: 'European Business',\n",
       " 214: 'Marine Life & Maritime Affairs',\n",
       " 215: '',\n",
       " 216: '',\n",
       " 217: '',\n",
       " 218: '',\n",
       " 219: 'Code & Software',\n",
       " 220: 'Co-Working Spaces',\n",
       " 221: 'Sports',\n",
       " 222: \"Children's Health\",\n",
       " 223: 'Computer Peripherals',\n",
       " 224: 'Astronomy & Astrophysics',\n",
       " 225: '',\n",
       " 226: 'Animals',\n",
       " 227: '',\n",
       " 228: '',\n",
       " 229: 'International Oil & Gas',\n",
       " 230: 'Satellites & Rockets',\n",
       " 231: 'Marine Life & Maritime Affairs',\n",
       " 232: 'Dark Web & Online Privacy',\n",
       " 233: '',\n",
       " 234: 'Supermarkets',\n",
       " 235: 'Global Currency, Equity And Fixed Income',\n",
       " 236: '',\n",
       " 237: 'Tech Investments, Vc, New Initiatives',\n",
       " 238: '',\n",
       " 239: 'Autonomous Vehicles',\n",
       " 240: '',\n",
       " 241: 'Lgbtq Issues',\n",
       " 242: 'Surveillance Tech',\n",
       " 243: '',\n",
       " 244: 'Ecology, Environment & Archaeology',\n",
       " 245: 'Mobile Networks, Carriers & Eqpt',\n",
       " 246: '',\n",
       " 247: '',\n",
       " 248: 'Global Currency, Equity And Fixed Income',\n",
       " 249: '',\n",
       " 250: 'Space Exploration',\n",
       " 251: '',\n",
       " 252: 'Employment Issues',\n",
       " 253: '',\n",
       " 254: '',\n",
       " 255: 'Cutting-Edge Mobile Devices, Gadgets',\n",
       " 256: '',\n",
       " 257: 'Mental Health & Disorders',\n",
       " 258: 'Executive Level Management',\n",
       " 259: '',\n",
       " 260: 'Prescription Drugs',\n",
       " 261: 'Bees',\n",
       " 262: '',\n",
       " 263: 'Experimental Studies',\n",
       " 264: 'Apps, Gadgets & Devices'}"
      ]
     },
     "execution_count": 92,
     "metadata": {},
     "output_type": "execute_result"
    }
   ],
   "source": [
    "topics_dict_v3"
   ]
  },
  {
   "cell_type": "code",
   "execution_count": null,
   "id": "00da3dfc-12bf-4aeb-914d-fa3cbce6b5eb",
   "metadata": {},
   "outputs": [],
   "source": []
  }
 ],
 "metadata": {
  "kernelspec": {
   "display_name": "Python 3 (ipykernel)",
   "language": "python",
   "name": "python3"
  },
  "language_info": {
   "codemirror_mode": {
    "name": "ipython",
    "version": 3
   },
   "file_extension": ".py",
   "mimetype": "text/x-python",
   "name": "python",
   "nbconvert_exporter": "python",
   "pygments_lexer": "ipython3",
   "version": "3.9.6"
  }
 },
 "nbformat": 4,
 "nbformat_minor": 5
}
