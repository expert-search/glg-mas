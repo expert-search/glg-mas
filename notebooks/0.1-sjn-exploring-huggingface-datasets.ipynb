{
 "cells": [
  {
   "cell_type": "code",
   "execution_count": 129,
   "id": "c84a13f7-9457-4fd8-a72f-1530dbbe713a",
   "metadata": {},
   "outputs": [],
   "source": [
    "import datasets\n",
    "import pandas as pd\n",
    "import numpy as np\n",
    "import pickle\n",
    "from collections import defaultdict\n",
    "import gensim\n",
    "import re\n",
    "\n",
    "# Import NLTK for Text Preprocessing\n",
    "from nltk.tokenize import regexp_tokenize\n",
    "from nltk import pos_tag, download\n",
    "from nltk.stem import WordNetLemmatizer\n",
    "from nltk.corpus import stopwords\n",
    "import matplotlib.pyplot as plt\n",
    "\n",
    "from sklearn.metrics import classification_report"
   ]
  },
  {
   "cell_type": "markdown",
   "id": "2626ace0-b3a8-4469-ab56-8df7669550bd",
   "metadata": {},
   "source": [
    "### Load Latest LDA Model"
   ]
  },
  {
   "cell_type": "code",
   "execution_count": 4,
   "id": "7326907f-3579-4341-a683-e4cae5ef0481",
   "metadata": {},
   "outputs": [
    {
     "name": "stdout",
     "output_type": "stream",
     "text": [
      "/Users/spenno_fr/Projects/nlp-glg-mas/notebooks\n"
     ]
    }
   ],
   "source": [
    "!pwd"
   ]
  },
  {
   "cell_type": "code",
   "execution_count": 7,
   "id": "b2173fc5-2b43-41e9-b0ff-6713031c34ae",
   "metadata": {},
   "outputs": [],
   "source": [
    "filename = '../models/LDA/0.31/embedding/id2word_v0.3.pkl'\n",
    "file = open(filename,'rb')\n",
    "id2word = pickle.load(file)\n",
    "\n",
    "lda_model = gensim.models.ldamodel.LdaModel.load('../models/LDA/0.31/model/lda_model_v0.31')\n",
    "                                                 \n",
    "filename = '../models/LDA/0.31/topic_mapping/topics_dict_v0.31.pkl'\n",
    "file = open(filename,'rb')\n",
    "topics_dict = pickle.load(file)                                                                                                                                                  "
   ]
  },
  {
   "cell_type": "code",
   "execution_count": 185,
   "id": "aa49b302-2edd-4628-8930-db16bf218cc8",
   "metadata": {},
   "outputs": [
    {
     "data": {
      "text/plain": [
       "{0: 'Mexican Telecommunications',\n",
       " 1: 'Education & Student Life',\n",
       " 2: '',\n",
       " 3: 'International Big Business',\n",
       " 4: 'Drugs, Clinical Trials, Approvals',\n",
       " 5: 'Robots & Robotics',\n",
       " 6: 'Indian Tech & Business',\n",
       " 7: 'Meat Substitutes',\n",
       " 8: 'Fish',\n",
       " 9: 'Israeli Tech & Business',\n",
       " 10: 'Tech M&A',\n",
       " 11: '',\n",
       " 12: 'Vacation Rental',\n",
       " 13: 'Laptops, Mobile Devices, Gadgets',\n",
       " 14: 'Audio Tech',\n",
       " 15: 'Climate Science',\n",
       " 16: 'International Govt Relations',\n",
       " 17: 'Digital Advertising',\n",
       " 18: '',\n",
       " 19: 'Marijuana & CBD',\n",
       " 20: 'Ridesharing Services, E-Scooters & E-Bikes',\n",
       " 21: '',\n",
       " 22: 'Wireless Charging Technology',\n",
       " 23: 'Diversity & Discrimination',\n",
       " 24: 'Basketball',\n",
       " 25: 'Mass Transit',\n",
       " 26: 'E-Commerce & Online Delivery',\n",
       " 27: 'European Alternative Energy',\n",
       " 28: 'Menstrual Health',\n",
       " 29: 'Cancer Treatments & Trials',\n",
       " 30: '',\n",
       " 31: 'Apple Devices',\n",
       " 32: 'Motor Racing',\n",
       " 33: 'Food Poisoning, Allergies, Household Chemicals',\n",
       " 34: 'Health Insurance & Washington Legislation',\n",
       " 35: 'Asian Business',\n",
       " 36: 'Astrophysics',\n",
       " 37: 'Chinese Big Business',\n",
       " 38: 'Latino-American Business',\n",
       " 39: 'International Trade, Subsidies & Tariffs',\n",
       " 40: 'Automotive Technology',\n",
       " 41: '',\n",
       " 42: 'Virtual Reality',\n",
       " 43: 'Organ Donation',\n",
       " 44: 'Audio Streaming And Apps',\n",
       " 45: 'Photo & Video Sharing',\n",
       " 46: 'Virtual Assistants, Smart Home Tech',\n",
       " 47: '',\n",
       " 48: 'International Oil & Gas',\n",
       " 49: 'Data Breaches & Data Privacy',\n",
       " 50: 'Livestock Viral Diseases',\n",
       " 51: 'Skincare',\n",
       " 52: 'Endangered Species, Illegal Animal Trading',\n",
       " 53: '',\n",
       " 54: 'Data Protection & Govt Intervention',\n",
       " 55: 'Food & Diet',\n",
       " 56: 'Ice Hockey',\n",
       " 57: '',\n",
       " 58: '',\n",
       " 59: 'Incarceration',\n",
       " 60: 'Government Legislation',\n",
       " 61: '',\n",
       " 62: 'Power & Renewable Energy',\n",
       " 63: 'Drones & Unmanned Aerial Tech',\n",
       " 64: 'Mobile Networks, 5G',\n",
       " 65: 'Global Big Business',\n",
       " 66: 'Fitness, Exercise & Diet',\n",
       " 67: 'US Politics',\n",
       " 68: 'Mid-East Business',\n",
       " 69: 'Mood Disorders',\n",
       " 70: 'Studies And Polls',\n",
       " 71: 'Autonomous Vehicles',\n",
       " 72: 'Product Recalls',\n",
       " 73: '',\n",
       " 74: 'Big Business Earnings',\n",
       " 75: 'Facebook Govt Intervention',\n",
       " 76: 'Tv And Movies',\n",
       " 77: 'Hacks & Data Theft',\n",
       " 78: 'Gaming Platforms',\n",
       " 79: 'Dakota',\n",
       " 80: 'Astrophysics',\n",
       " 81: 'Global Currency, Equity And Fixed Income',\n",
       " 82: 'Brazilian/French Business',\n",
       " 83: 'Italian Politics',\n",
       " 84: '',\n",
       " 85: 'Battery Technology',\n",
       " 86: '',\n",
       " 87: 'Tech Investments, VC, New Initiatives',\n",
       " 88: 'Plants & Trees',\n",
       " 89: 'Guns And Shootings',\n",
       " 90: 'Latino-American Business',\n",
       " 91: 'Space Exploration',\n",
       " 92: 'Sleep Health',\n",
       " 93: 'Infectious Diseases',\n",
       " 94: 'Big Tech Govt Intervention',\n",
       " 95: 'Sexual Assault & Harassment',\n",
       " 96: 'Fake News, Misinformation, Dangerous Online Content',\n",
       " 97: '',\n",
       " 98: '',\n",
       " 99: 'UK Affairs',\n",
       " 100: '',\n",
       " 101: 'Cryptocurrency',\n",
       " 102: 'Human Rights In Developing World',\n",
       " 103: 'Health Aspects Of Body Art',\n",
       " 104: '',\n",
       " 105: 'Asia Activism',\n",
       " 106: 'Twitter',\n",
       " 107: 'Cybersecurity',\n",
       " 108: 'Infant Nutrition',\n",
       " 109: 'Mining',\n",
       " 110: 'Cities & Urban Life',\n",
       " 111: 'Mid-East Politics, Terrorism',\n",
       " 112: 'Art And Design',\n",
       " 113: 'Wearable Devices',\n",
       " 114: 'Food Delivery',\n",
       " 115: '',\n",
       " 116: 'North Korea Politics',\n",
       " 117: 'Smoking, Vaping & E-Cigs',\n",
       " 118: 'Genetic Engineering',\n",
       " 119: 'Water Resources',\n",
       " 120: 'Bloodborne Diseases & Vaccines',\n",
       " 121: 'Australasian Business',\n",
       " 122: 'International Equities/Derivatives',\n",
       " 123: 'Sports/Esports',\n",
       " 124: 'Rare Earth Minerals',\n",
       " 125: 'International Politics',\n",
       " 126: 'Cutting-Edge Mobile Devices, Gadgets',\n",
       " 127: 'Disney',\n",
       " 128: '',\n",
       " 129: 'Quantum Computing',\n",
       " 130: 'International Macroeconomics',\n",
       " 131: 'Fintech & Payments',\n",
       " 132: 'Weed & Legal Matters',\n",
       " 133: 'Puerto Rico',\n",
       " 134: '',\n",
       " 135: 'Microsoft Apps, OS, Devices',\n",
       " 136: 'Medical Devices',\n",
       " 137: 'Telecoms Networks & Providers',\n",
       " 138: 'International Banking & Finance',\n",
       " 139: 'Financial Markets',\n",
       " 140: 'Smartphone Tech',\n",
       " 141: 'Medical Devices',\n",
       " 142: 'Earth Sciences',\n",
       " 143: 'Global Currency, Equity And Fixed Income',\n",
       " 144: 'FAANG',\n",
       " 145: '',\n",
       " 146: 'Sports',\n",
       " 147: 'Climate Science & Technology',\n",
       " 148: 'Public policy & Political Ideology',\n",
       " 149: 'Price Movements & Fluctuations',\n",
       " 150: 'Baseball',\n",
       " 151: 'Meteorology',\n",
       " 152: '',\n",
       " 153: 'Aliens',\n",
       " 154: '',\n",
       " 155: 'Automotive Technology',\n",
       " 156: 'Tech Investments, VC, New Initiatives',\n",
       " 157: 'Artificial Intelligence',\n",
       " 158: '',\n",
       " 159: '',\n",
       " 160: 'Chips & Processors',\n",
       " 161: '',\n",
       " 162: 'Astronomy & Astrophysics',\n",
       " 163: 'Bacteria & Viruses',\n",
       " 164: 'International Stock Markets',\n",
       " 165: '',\n",
       " 166: 'The Human Brain',\n",
       " 167: 'Fashion & Apparel',\n",
       " 168: '',\n",
       " 169: '',\n",
       " 170: '',\n",
       " 171: '',\n",
       " 172: 'Blood And Blood Diseases',\n",
       " 173: '',\n",
       " 174: 'Global Currency, Equity And Fixed Income',\n",
       " 175: 'Software/Service Glitches, Bugs & Outages',\n",
       " 176: '',\n",
       " 177: 'Video Games',\n",
       " 178: 'Natural & Man-Made Disasters',\n",
       " 179: 'Tech Investments, VC, New Initiatives',\n",
       " 180: '',\n",
       " 181: 'Nuclear Tech',\n",
       " 182: '',\n",
       " 183: 'Artificial Intelligence',\n",
       " 184: '',\n",
       " 185: 'Sex And Relationships',\n",
       " 186: '',\n",
       " 187: 'Commodities, Natural Resources',\n",
       " 188: 'Clinical Care',\n",
       " 189: 'Sports',\n",
       " 190: 'European Macroeconomics',\n",
       " 191: '',\n",
       " 192: 'International Banking & Finance',\n",
       " 193: 'African Govt Affairs',\n",
       " 194: 'Canadian Business',\n",
       " 195: '',\n",
       " 196: '',\n",
       " 197: 'Mid-East Oil & Gas',\n",
       " 198: 'Emoji',\n",
       " 199: 'Big Business Earnings',\n",
       " 200: 'Bloodborne Diseases & Vaccines',\n",
       " 201: '',\n",
       " 202: '',\n",
       " 203: 'Litigation & Court Rulings',\n",
       " 204: '',\n",
       " 205: '',\n",
       " 206: 'Messaging Platforms',\n",
       " 207: 'Aviation & Aerospace',\n",
       " 208: 'Video Games',\n",
       " 209: '',\n",
       " 210: 'Amazon',\n",
       " 211: 'Birth Control & Reproductive Health',\n",
       " 212: '',\n",
       " 213: 'European Business',\n",
       " 214: 'Marine Life & Maritime Affairs',\n",
       " 215: '',\n",
       " 216: '',\n",
       " 217: '',\n",
       " 218: '',\n",
       " 219: 'Code & Software',\n",
       " 220: 'Co-Working Spaces',\n",
       " 221: 'Sports',\n",
       " 222: \"Children's Health\",\n",
       " 223: 'Computer Peripherals',\n",
       " 224: 'Astronomy & Astrophysics',\n",
       " 225: '',\n",
       " 226: 'Animals',\n",
       " 227: '',\n",
       " 228: '',\n",
       " 229: 'International Oil & Gas',\n",
       " 230: 'Satellites & Rockets',\n",
       " 231: 'Marine Life & Maritime Affairs',\n",
       " 232: 'Dark Web & Online Privacy',\n",
       " 233: '',\n",
       " 234: 'Supermarkets',\n",
       " 235: 'Global Currency, Equity And Fixed Income',\n",
       " 236: '',\n",
       " 237: 'Tech Investments, VC, New Initiatives',\n",
       " 238: '',\n",
       " 239: 'Autonomous Vehicles',\n",
       " 240: '',\n",
       " 241: 'LGBTQ+ Issues',\n",
       " 242: 'Surveillance Tech',\n",
       " 243: '',\n",
       " 244: 'Ecology, Environment & Archaeology',\n",
       " 245: 'Mobile Networks, Carriers & Eqpt',\n",
       " 246: '',\n",
       " 247: '',\n",
       " 248: 'Global Currency, Equity And Fixed Income',\n",
       " 249: '',\n",
       " 250: 'Space Exploration',\n",
       " 251: '',\n",
       " 252: 'Employment Issues',\n",
       " 253: '',\n",
       " 254: '',\n",
       " 255: 'Cutting-Edge Mobile Devices, Gadgets',\n",
       " 256: '',\n",
       " 257: 'Mental Health & Disorders',\n",
       " 258: 'Executive Level Management',\n",
       " 259: '',\n",
       " 260: 'Prescription Drugs',\n",
       " 261: 'Bees',\n",
       " 262: '',\n",
       " 263: 'Experimental Studies',\n",
       " 264: 'Apps, Gadgets & Devices'}"
      ]
     },
     "execution_count": 185,
     "metadata": {},
     "output_type": "execute_result"
    }
   ],
   "source": [
    "topics_dict"
   ]
  },
  {
   "cell_type": "code",
   "execution_count": 37,
   "id": "e4aabecb-937e-46b6-8e82-b311ab2ca2b7",
   "metadata": {},
   "outputs": [],
   "source": [
    "tech_labels = set(['Robots & Robotics','Indian Tech & Business','Israeli Tech & Business','Tech M&A',\n",
    "               'Laptops, Mobile Devices, Gadgets','Laptops, Mobile Devices, Gadgets','Audio Tech',\n",
    "               'Climate Science','Digital Advertising','Ridesharing Services, E-Scooters & E-Bikes',\n",
    "               'Wireless Charging Technology','E-Commerce & Online Delivery',\n",
    "               'Apple Devices','Astrophysics','Automotive Technology','Virtual Reality','Audio Streaming And Apps',\n",
    "               'Photo & Video Sharing','Virtual Assistants, Smart Home Tech','Data Breaches & Data Privacy',\n",
    "               'Drones & Unmanned Aerial Tech','Mobile Networks, 5G','Autonomous Vehicles','Facebook Govt Intervention',\n",
    "               'Hacks & Data Theft','Gaming Platforms','Astrophysics','Battery Technology',\n",
    "               'Tech Investments, VC, New Initiatives',\n",
    "               'New Initiatives','Space Exploration','Big Tech Govt Intervention',\n",
    "               'Fake News, Misinformation, Dangerous Online Content','Twitter','Cybersecurity','Wearable Devices',\n",
    "               'Cutting-Edge Mobile Devices, Gadgets','Quantum Computing','Fintech & Payments','Microsoft Apps, OS, Devices',\n",
    "               'Telecoms Networks & Providers','Smartphone Tech','FAANG','Climate Science & Technology',\n",
    "               'Automotive Technology','Artificial Intelligence','Chips & Processors','Astronomy & Astrophysics',\n",
    "               'Software/Service Glitches, Bugs & Outages','Video Games','Nuclear Tech','Messaging Platforms',\n",
    "               'Aviation & Aerospace','Amazon','Code & Software','Computer Peripherals','Satellites & Rockets',\n",
    "               'Dark Web & Online Privacy','Surveillance Tech','Mobile Networks, Carriers & Eqpt','Space Exploration',\n",
    "               'Apps, Gadgets & Devices'])\n",
    "health_labels = (['Drugs, Clinical Trials, Approvals','Meat Substitutes','Menstrual Health',\n",
    "                 'Cancer Treatments & Trials','Food Poisoning, Allergies, Household Chemicals',\n",
    "                 'Health Insurance & Washington Legislation','Organ Donation','Skincare','Food & Diet', 'Product Recalls',\n",
    "                 'Fitness, Exercise & Diet','Mood Disorders','Sleep Health','Infectious Diseases',\n",
    "                 'Health Aspects Of Body Art','Infant Nutrition','Genetic Engineering','Bloodborne Diseases & Vaccines',\n",
    "                 'Medical Devices','Bacteria & Viruses','The Human Brain','Blood And Blood Diseases',\n",
    "                 'Sex And Relationships','Clinical Care','Birth Control & Reproductive Health',\"Children's Health\",\n",
    "                 'Mental Health & Disorders','Prescription Drugs','Experimental Studies'])\n",
    "\n",
    "\n",
    "# tech_health_labels = tech_labels + health_labels"
   ]
  },
  {
   "cell_type": "code",
   "execution_count": 127,
   "id": "6330102f-6bda-4554-b443-d79ede7ecb5d",
   "metadata": {},
   "outputs": [],
   "source": [
    "# Predict Topics\n",
    "def topic_predict(tokenized_query, embedding, lda_model, topics_dict):  \n",
    "\n",
    "    # Clean up the text into a corpus\n",
    "    # tokenized_input = clean_query(query)\n",
    "\n",
    "    # Mapped embedding from Cleaned corpus text in list form\n",
    "    corpus = embedding.doc2bow(tokenized_query)\n",
    "\n",
    "    np.random.seed(4)\n",
    "\n",
    "    # Model Predicts on cleaned corpus\n",
    "    output = list(lda_model[corpus])\n",
    "    \n",
    "    # Edge Case: Garbage in gets mapped to 83 so that it predicts the 'other' class\n",
    "    if len(output) == 0:\n",
    "        return [83]\n",
    "\n",
    "    # Post-Process Output for Display\n",
    "    ordered = sorted(output,key=lambda x:x[1],reverse=True)\n",
    "\n",
    "\n",
    "    # DEBUGGING\n",
    "#     print(len(ordered), ordered)\n",
    "\n",
    "\n",
    "    # Issue Here\n",
    "    primary_topic = ordered[0][0]\n",
    "\n",
    "    threshold = 0.5\n",
    "\n",
    "    secondary_topics = [pair[0] for pair in ordered[1:] if pair[1] / ordered[0][1] > threshold]\n",
    "\n",
    "    # Promote Secondary Topics in case the Primary Topic was NULL\n",
    "    # Check LDA output and try to bump any non-empty-string 2ndary topics to 1ary if necessary\n",
    "    primary_topic, secondary_topics = check_topics(topics_dict, primary_topic, secondary_topics)\n",
    "\n",
    "    # Will return integer topics\n",
    "    return primary_topic, secondary_topics"
   ]
  },
  {
   "cell_type": "code",
   "execution_count": 54,
   "id": "c4d336d5-b1d7-462f-84d8-38d3d242dfd4",
   "metadata": {},
   "outputs": [],
   "source": [
    "# Lemmatize Text\n",
    "def func_lemmatize(words, wnl):\n",
    "    lemmatized = []\n",
    "    \n",
    "    for word, tag in pos_tag(words):\n",
    "        wntag = tag[0].lower()\n",
    "        wntag = wntag if wntag in ['a','r','n','v'] else None\n",
    "        \n",
    "        # Call to 'wnl' object\n",
    "        lemma = wnl.lemmatize(word,wntag) if wntag else word\n",
    "        \n",
    "        lemmatized.append(lemma)\n",
    "    return lemmatized\n",
    "\n",
    "\n",
    "# Return Cleaned Words\n",
    "def clean_query(query, pattern, stop, wnl):\n",
    "\n",
    "    # Call to regex pattern\n",
    "    tokenized = regexp_tokenize(query, pattern)\n",
    "    indiv_words = [word for word in tokenized if word.isalpha()]\n",
    "    lemmatized = func_lemmatize(indiv_words, wnl)\n",
    "    \n",
    "    # Call to 'stop' for stopword removal\n",
    "    words = [word.lower() for word in lemmatized if word not in stop]\n",
    "\n",
    "    return words\n",
    "\n",
    "\n",
    "# Run Text Cleaning Routine\n",
    "\n",
    "#### Q: Mukesh/Gaurav: THIS SHOULD BE RUN ON INSTANCE STARTUP?\n",
    "# Instantiate Lemmatizer, Stopwords Object, and Regex Pattern\n",
    "def session_nltk_objects_init():\n",
    "\n",
    "\twnl = WordNetLemmatizer()\n",
    "\tstop = set(stopwords.words('english'))\n",
    "\tpattern = r'(\\w+)'\n",
    "\n",
    "\treturn wnl, stop, pattern\n",
    "\n",
    "\n",
    "# NER Preprocessing Functions\n",
    "class NERSentenceGetter(object):\n",
    "    \n",
    "    def __init__(self, data):\n",
    "        self.n_sent = 1\n",
    "        self.data = data\n",
    "        self.empty = False\n",
    "        agg_func = lambda s: [(w, p, t) for w, p, t in zip(s['Word'].values.tolist(), \n",
    "                                                           s['POS'].values.tolist(), \n",
    "                                                           s['Tag'].values.tolist())]\n",
    "        self.grouped = self.data.groupby('Sentence #').apply(agg_func)\n",
    "        self.sentences = [s for s in self.grouped]\n",
    "\n",
    "def word2features(sent, i):\n",
    "    word = sent[i][0]\n",
    "    postag = sent[i][1]\n",
    "    \n",
    "    features = {\n",
    "        'bias': 1.0, \n",
    "        'word.lower()': word.lower(), \n",
    "        'word[-3:]': word[-3:],\n",
    "        'word[-2:]': word[-2:],\n",
    "        'word.isupper()': word.isupper(),\n",
    "        'word.istitle()': word.istitle(),\n",
    "        'word.isdigit()': word.isdigit(),\n",
    "        'postag': postag,\n",
    "        'postag[:2]': postag[:2],\n",
    "    }\n",
    "    if i > 0:\n",
    "        word1 = sent[i-1][0]\n",
    "        postag1 = sent[i-1][1]\n",
    "        features.update({\n",
    "            '-1:word.lower()': word1.lower(),\n",
    "            '-1:word.istitle()': word1.istitle(),\n",
    "            '-1:word.isupper()': word1.isupper(),\n",
    "            '-1:postag': postag1,\n",
    "            '-1:postag[:2]': postag1[:2],\n",
    "        })\n",
    "    else:\n",
    "        features['BOS'] = True\n",
    "    if i < len(sent)-1:\n",
    "        word1 = sent[i+1][0]\n",
    "        postag1 = sent[i+1][1]\n",
    "        features.update({\n",
    "            '+1:word.lower()': word1.lower(),\n",
    "            '+1:word.istitle()': word1.istitle(),\n",
    "            '+1:word.isupper()': word1.isupper(),\n",
    "            '+1:postag': postag1,\n",
    "            '+1:postag[:2]': postag1[:2],\n",
    "        })\n",
    "    else:\n",
    "        features['EOS'] = True\n",
    "    return features\n",
    "\n",
    "def sent2features(sent):\n",
    "    return [word2features(sent, i) for i in range(len(sent))]\n",
    "\n",
    "def sent2labels(sent):\n",
    "    return [label for token, postag, label in sent]\n",
    "\n",
    "def sent2tokens(sent):\n",
    "    return [token for token, postag, label in sent]\n",
    "\n",
    "\n",
    "def prep_query_for_NER(phrase):\n",
    "    split_query = re.findall(r\"[\\w']+|[.,!?;]\", phrase)\n",
    "    \n",
    "    pos_tags = pos_tag(split_query)\n",
    "    \n",
    "    df_query = pd.DataFrame({'Sentence #':['Sentence: 1'] * len(pos_tags),\n",
    "                            'Word':[pair[0] for pair in pos_tags],\n",
    "                            'POS':[pair[1] for pair in pos_tags],\n",
    "                            'Tag':[None] * len(pos_tags)})\n",
    "       \n",
    "    return df_query"
   ]
  },
  {
   "cell_type": "code",
   "execution_count": 55,
   "id": "79ec5507-40da-4d55-981b-ac26cbe4673e",
   "metadata": {},
   "outputs": [],
   "source": [
    "def check_topics(topics_dict, primary_topic, secondary_topics):\n",
    "    while True:\n",
    "        # If the primary topic is an empty string and there are secondary topics...\n",
    "        if (len(topics_dict[primary_topic]) == 0) & (len(secondary_topics) !=0):\n",
    "            # Iterate through secondary topics\n",
    "            for i in range(len(secondary_topics)):\n",
    "                # Find the first secondary topic whose name is not an empty string\n",
    "                if len(topics_dict[secondary_topics[i]]) != 0:\n",
    "                    # Set that topic to primary status\n",
    "                    primary_topic = secondary_topics.pop(i)\n",
    "                    break\n",
    "            else:\n",
    "                break\n",
    "        else:\n",
    "            break\n",
    "    return primary_topic, secondary_topics"
   ]
  },
  {
   "cell_type": "code",
   "execution_count": 14,
   "id": "306c3c1a-cb7a-4444-8f51-4602c870864e",
   "metadata": {},
   "outputs": [],
   "source": [
    "wnl = WordNetLemmatizer()\n",
    "wnl.lemmatize('cats')\n",
    "stop = set(stopwords.words('english'))\n",
    "pattern = r'(\\w+)'"
   ]
  },
  {
   "cell_type": "markdown",
   "id": "44f5032f-4580-46af-9303-976b174695a8",
   "metadata": {},
   "source": [
    "### Load Health Fact Dataset"
   ]
  },
  {
   "cell_type": "code",
   "execution_count": 159,
   "id": "12321818-37eb-4a11-b082-66f0483499d5",
   "metadata": {},
   "outputs": [],
   "source": [
    "# hf = datasets.load_dataset('health_fact')"
   ]
  },
  {
   "cell_type": "markdown",
   "id": "33381f83-63f9-494e-a1c0-2f909e93ab75",
   "metadata": {},
   "source": [
    "### Load ag_news Dataset which has Sci/Tech Topics\n",
    "---\n",
    "- label: a classification label, with possible values including World (0), Sports (1), Business (2), Sci/Tech (3).\n"
   ]
  },
  {
   "cell_type": "code",
   "execution_count": 16,
   "id": "5729332a-55e1-4aba-8eec-8ca59e5f3ad1",
   "metadata": {},
   "outputs": [
    {
     "name": "stderr",
     "output_type": "stream",
     "text": [
      "Using custom data configuration default\n",
      "Reusing dataset ag_news (/Users/spenno_fr/.cache/huggingface/datasets/ag_news/default/0.0.0/bc2bcb40336ace1a0374767fc29bb0296cdaf8a6da7298436239c54d79180548)\n"
     ]
    }
   ],
   "source": [
    "ag_news = datasets.load_dataset('ag_news')"
   ]
  },
  {
   "cell_type": "code",
   "execution_count": 61,
   "id": "cf2427bb-6d94-4af6-9755-219af0891fda",
   "metadata": {},
   "outputs": [
    {
     "data": {
      "text/plain": [
       "DatasetDict({\n",
       "    train: Dataset({\n",
       "        features: ['text', 'label'],\n",
       "        num_rows: 120000\n",
       "    })\n",
       "    test: Dataset({\n",
       "        features: ['text', 'label'],\n",
       "        num_rows: 7600\n",
       "    })\n",
       "})"
      ]
     },
     "execution_count": 61,
     "metadata": {},
     "output_type": "execute_result"
    }
   ],
   "source": [
    "ag_news"
   ]
  },
  {
   "cell_type": "code",
   "execution_count": 59,
   "id": "42e7bea8-a087-447a-bc11-a09d8c8f1579",
   "metadata": {},
   "outputs": [],
   "source": [
    "ag_df = pd.DataFrame(ag_news['test'])"
   ]
  },
  {
   "cell_type": "code",
   "execution_count": 63,
   "id": "5b1a79f2-9802-4803-aee0-420673fbf3b7",
   "metadata": {},
   "outputs": [
    {
     "data": {
      "text/plain": [
       "'The Race is On: Second Private Team Sets Launch Date for Human Spaceflight (SPACE.com) SPACE.com - TORONTO, Canada -- A second\\\\team of rocketeers competing for the  #36;10 million Ansari X Prize, a contest for\\\\privately funded suborbital space flight, has officially announced the first\\\\launch date for its manned rocket.'"
      ]
     },
     "execution_count": 63,
     "metadata": {},
     "output_type": "execute_result"
    }
   ],
   "source": [
    "# 1900 Test Examples\n",
    "ag_df[ag_df.label == 3].text.iloc[0]"
   ]
  },
  {
   "cell_type": "code",
   "execution_count": 153,
   "id": "c815da6c-7a1d-454c-9fbe-4838f6bafe6c",
   "metadata": {},
   "outputs": [],
   "source": [
    "cleaned_ag_text_sample = ag_df.text.apply(lambda raw_text: clean_query(raw_text, pattern, stop, wnl))"
   ]
  },
  {
   "cell_type": "code",
   "execution_count": 154,
   "id": "7475dc42-a9f8-49a1-a32b-d0cc3e27b038",
   "metadata": {},
   "outputs": [],
   "source": [
    "predicted_topic_ids = cleaned_ag_text_sample.apply(lambda cleaned_text: topic_predict(cleaned_text, id2word, lda_model, topics_dict)[0])"
   ]
  },
  {
   "cell_type": "code",
   "execution_count": 66,
   "id": "e0db8b69-fd35-47e6-886d-7141e6cc9b6c",
   "metadata": {},
   "outputs": [
    {
     "data": {
      "text/plain": [
       "0.6478947368421053"
      ]
     },
     "execution_count": 66,
     "metadata": {},
     "output_type": "execute_result"
    }
   ],
   "source": [
    "# 0.65% out of 1900 training examples from ag_news on the 'sci/tech' category\n",
    "predicted_topic_ids.apply(lambda topic_id: 1 if topics_dict[topic_id] in tech_labels else 0).sum()/predicted_topic_ids.shape[0]"
   ]
  },
  {
   "cell_type": "code",
   "execution_count": 152,
   "id": "3f90fb7d-53c5-427f-9fd9-36efc4dfcb92",
   "metadata": {},
   "outputs": [],
   "source": [
    "ag_df['y_true'] = ag_df.label.apply(lambda val: np.where(val == 3, 1, 0))"
   ]
  },
  {
   "cell_type": "code",
   "execution_count": 147,
   "id": "2b44bf64-d5cd-4ed5-bd2e-8413b6e90293",
   "metadata": {},
   "outputs": [],
   "source": [
    "y_true = np.ones(ag_df[ag_df.label == 3].shape[0])"
   ]
  },
  {
   "cell_type": "code",
   "execution_count": 156,
   "id": "6c7e0365-f802-4335-a9cc-65abd22f7bc6",
   "metadata": {},
   "outputs": [],
   "source": [
    "ag_df['y_pred'] = predicted_topic_ids.apply(lambda topic_id: 1 if topics_dict[topic_id] in tech_labels else 0)"
   ]
  },
  {
   "cell_type": "code",
   "execution_count": 157,
   "id": "9682c544-916f-46be-86a5-3a8f75fa9cd9",
   "metadata": {},
   "outputs": [
    {
     "name": "stdout",
     "output_type": "stream",
     "text": [
      "              precision    recall  f1-score   support\n",
      "\n",
      "       Other       0.88      0.86      0.87      5700\n",
      "  Technology       0.61      0.64      0.63      1900\n",
      "\n",
      "    accuracy                           0.81      7600\n",
      "   macro avg       0.74      0.75      0.75      7600\n",
      "weighted avg       0.81      0.81      0.81      7600\n",
      "\n"
     ]
    }
   ],
   "source": [
    "target_names = ['Other', 'Technology']\n",
    "print(classification_report(ag_df['y_true'], ag_df['y_pred'], target_names=target_names))"
   ]
  },
  {
   "cell_type": "markdown",
   "id": "95925b9c-6952-4812-8fcf-13ac7e6fe075",
   "metadata": {},
   "source": [
    "### Load s2orc Dataset"
   ]
  },
  {
   "cell_type": "code",
   "execution_count": 184,
   "id": "f7dd486f-5f0c-45f1-b2b2-d0b74abcc876",
   "metadata": {},
   "outputs": [],
   "source": [
    "# s2orc = datasets.load_dataset('s2orc')"
   ]
  },
  {
   "cell_type": "code",
   "execution_count": null,
   "id": "43558a1c-05e0-4da8-9517-403ce93e8e57",
   "metadata": {},
   "outputs": [],
   "source": []
  },
  {
   "cell_type": "markdown",
   "id": "97db4c14-ef33-456e-8642-547bf6a7d258",
   "metadata": {},
   "source": [
    "### Load Grail QA"
   ]
  },
  {
   "cell_type": "code",
   "execution_count": 70,
   "id": "db0e1ced-c17f-4db5-8bca-4fcedad1d1dc",
   "metadata": {},
   "outputs": [
    {
     "name": "stderr",
     "output_type": "stream",
     "text": [
      "Using custom data configuration default\n",
      "Reusing dataset grail_qa (/Users/spenno_fr/.cache/huggingface/datasets/grail_qa/default/0.0.0/2be99c6902e842f3ba87dd36fa96a2236206438ebb67c5e5464a36e4049fd3fb)\n"
     ]
    }
   ],
   "source": [
    "grail_qa = datasets.load_dataset('grail_qa')"
   ]
  },
  {
   "cell_type": "code",
   "execution_count": 71,
   "id": "ea7f9c96-cbb2-415c-bc19-12920b6663fc",
   "metadata": {},
   "outputs": [
    {
     "data": {
      "text/plain": [
       "DatasetDict({\n",
       "    train: Dataset({\n",
       "        features: ['qid', 'question', 'answer', 'function', 'num_node', 'num_edge', 'graph_query', 'sparql_query', 'domains', 'level', 's_expression'],\n",
       "        num_rows: 44337\n",
       "    })\n",
       "    validation: Dataset({\n",
       "        features: ['qid', 'question', 'answer', 'function', 'num_node', 'num_edge', 'graph_query', 'sparql_query', 'domains', 'level', 's_expression'],\n",
       "        num_rows: 6763\n",
       "    })\n",
       "    test: Dataset({\n",
       "        features: ['qid', 'question', 'answer', 'function', 'num_node', 'num_edge', 'graph_query', 'sparql_query', 'domains', 'level', 's_expression'],\n",
       "        num_rows: 13231\n",
       "    })\n",
       "})"
      ]
     },
     "execution_count": 71,
     "metadata": {},
     "output_type": "execute_result"
    }
   ],
   "source": [
    "grail_qa"
   ]
  },
  {
   "cell_type": "code",
   "execution_count": 74,
   "id": "3324b6f9-f2d9-44b9-ad89-747d2da1455e",
   "metadata": {},
   "outputs": [],
   "source": [
    "grail_qa_df = pd.DataFrame(grail_qa['validation'])"
   ]
  },
  {
   "cell_type": "code",
   "execution_count": 122,
   "id": "1a91d18f-3ccb-40bd-b59b-0bfecb69208f",
   "metadata": {},
   "outputs": [
    {
     "data": {
      "text/plain": [
       "(6763, 16)"
      ]
     },
     "execution_count": 122,
     "metadata": {},
     "output_type": "execute_result"
    }
   ],
   "source": [
    "grail_qa_df.shape"
   ]
  },
  {
   "cell_type": "code",
   "execution_count": 92,
   "id": "b38f0f76-6a31-43ea-85aa-64fa51d3cc92",
   "metadata": {},
   "outputs": [],
   "source": [
    "# Clean the Domain Label\n",
    "grail_qa_df['cleaned_domain'] = grail_qa_df.domains.apply(lambda domain_list: domain_list[0])"
   ]
  },
  {
   "cell_type": "code",
   "execution_count": 96,
   "id": "2ccc101b-2cf3-4712-a2c8-7dc08e30725a",
   "metadata": {},
   "outputs": [],
   "source": [
    "def parse_healthcare_map(domain_string):\n",
    "    \n",
    "    if type(gqa_healthcare_mapper[domain_string]) == int:\n",
    "        prediction = gqa_healthcare_mapper[domain_string]\n",
    "    else:\n",
    "        prediction = 0\n",
    "\n",
    "    return prediction"
   ]
  },
  {
   "cell_type": "code",
   "execution_count": 104,
   "id": "8abc1ffb-0d27-4274-9d76-3321f973b3e6",
   "metadata": {},
   "outputs": [],
   "source": [
    "def parse_technology_map(domain_string):\n",
    "    \n",
    "    if type(gqa_technology_mapper[domain_string]) == int:\n",
    "        prediction = gqa_technology_mapper[domain_string]\n",
    "    else:\n",
    "        prediction = 0\n",
    "\n",
    "    return prediction"
   ]
  },
  {
   "cell_type": "code",
   "execution_count": 100,
   "id": "31a65183-4085-4c14-90e5-e328c9a6ef41",
   "metadata": {},
   "outputs": [],
   "source": [
    "grail_qa_df['healthcare_label'] = grail_qa_df.cleaned_domain.apply(lambda domain_string: parse_healthcare_map(domain_string))"
   ]
  },
  {
   "cell_type": "code",
   "execution_count": 105,
   "id": "0a7cd076-77af-4655-bc04-d0f30f75e00b",
   "metadata": {},
   "outputs": [],
   "source": [
    "grail_qa_df['technology_label'] = grail_qa_df.cleaned_domain.apply(lambda domain_string: parse_technology_map(domain_string))"
   ]
  },
  {
   "cell_type": "code",
   "execution_count": 132,
   "id": "c42b7f8d-e46d-4a45-a8ea-f0c28125a460",
   "metadata": {},
   "outputs": [],
   "source": [
    "# Parse Away the list brackets\n",
    "grail_qa_df['domains_clean'] = grail_qa_df.domains.apply(lambda val: ', '.join([label for label in val]))\n",
    "# str.replace('[','').head()"
   ]
  },
  {
   "cell_type": "code",
   "execution_count": 111,
   "id": "692e94eb-5980-4a70-bd1c-bba6d451cbc0",
   "metadata": {},
   "outputs": [],
   "source": [
    "grail_qa_df['cleaned_text'] = grail_qa_df.question.apply(lambda raw_text: clean_query(raw_text, pattern, stop, wnl))"
   ]
  },
  {
   "cell_type": "code",
   "execution_count": 128,
   "id": "a7fedac0-45db-434d-9e68-5146378c674f",
   "metadata": {},
   "outputs": [],
   "source": [
    "grail_qa_df['y_hat_topic_id'] = grail_qa_df['cleaned_text'].apply(lambda cleaned_text: topic_predict(cleaned_text, id2word, lda_model, topics_dict)[0])"
   ]
  },
  {
   "cell_type": "code",
   "execution_count": 136,
   "id": "541e107b-c292-4ef3-9283-3a8ae5381774",
   "metadata": {},
   "outputs": [],
   "source": [
    "# Performance Report\n",
    "grail_qa_df['y_hat'] = grail_qa_df['y_hat_topic_id'].apply(lambda topic_id: np.where(topics_dict[topic_id] in health_labels, 0, np.where(topics_dict[topic_id] in tech_labels, 1, 2)))"
   ]
  },
  {
   "cell_type": "code",
   "execution_count": 139,
   "id": "0eddc44b-5bf4-4ac2-b515-af8c37b0d9fc",
   "metadata": {},
   "outputs": [
    {
     "name": "stdout",
     "output_type": "stream",
     "text": [
      "              precision    recall  f1-score   support\n",
      "\n",
      "  Healthcare       0.26      0.66      0.38       304\n",
      "  Technology       0.17      0.59      0.26       869\n",
      "       Other       0.86      0.45      0.59      5590\n",
      "\n",
      "    accuracy                           0.48      6763\n",
      "   macro avg       0.43      0.57      0.41      6763\n",
      "weighted avg       0.75      0.48      0.54      6763\n",
      "\n"
     ]
    }
   ],
   "source": [
    "target_names = ['Healthcare', 'Technology', 'Other']\n",
    "print(classification_report(grail_qa_df['y'], grail_qa_df['y_hat'], target_names=target_names))"
   ]
  },
  {
   "cell_type": "code",
   "execution_count": 175,
   "id": "133134e7-491e-40fc-a63d-250c916d0b4d",
   "metadata": {},
   "outputs": [
    {
     "data": {
      "text/plain": [
       "0.4786337424220021"
      ]
     },
     "execution_count": 175,
     "metadata": {},
     "output_type": "execute_result"
    }
   ],
   "source": [
    "from sklearn.metrics import accuracy_score\n",
    "accuracy_score(grail_qa_df['y'], grail_qa_df['y_hat'])"
   ]
  },
  {
   "cell_type": "code",
   "execution_count": 67,
   "id": "05de0948-c690-48d4-9640-ed5a64753438",
   "metadata": {},
   "outputs": [],
   "source": [
    "# Export Columns for Mapping to Technology, Healthcare, Other Domains\n",
    "# grail_qa_df.domains_clean.value_counts().to_csv('./grail_qa_topics.csv')"
   ]
  },
  {
   "cell_type": "code",
   "execution_count": 85,
   "id": "d39cce1d-9f65-4d0e-acfc-59f9afc8a128",
   "metadata": {},
   "outputs": [],
   "source": [
    "grail_qa_healthcare_map = {'music':0,\n",
    "'fictional_universe':0,\n",
    "'book':0,\n",
    "'medicine':1,\n",
    "'computer':0,\n",
    "'astronomy':0,\n",
    "'people':0,\n",
    "'sports':0,\n",
    "'spaceflight':0,\n",
    "'tv':0,\n",
    "'biology':1,\n",
    "'government':0,\n",
    "'food':0,\n",
    "'comic_books':0,\n",
    "'education':0,\n",
    "'aviation':0,\n",
    "'business':0,\n",
    "'time':0,\n",
    "'architecture':0,\n",
    "'religion':0,\n",
    "'automotive':0,\n",
    "'meteorology':0,\n",
    "'amusement_parks':0,\n",
    "'broadcast':0,\n",
    "'digicams':0,\n",
    "'law':0,\n",
    "'geography':0,\n",
    "'media_common':0,\n",
    "'visual_art':0,\n",
    "'theater':0,\n",
    "'olympics':0,\n",
    "'internet':0,\n",
    "'boats':0,\n",
    "'cricket':0,\n",
    "'organization':0,\n",
    "'travel':0,\n",
    "'royalty':0,\n",
    "'engineering':0,\n",
    "'wine':0,\n",
    "'opera':0,\n",
    "'language':0,\n",
    "'soccer':0,\n",
    "'distilled_spirits':0,\n",
    "'exhibitions':0,\n",
    "'military':0,\n",
    "'tennis':0,\n",
    "'interests':0,\n",
    "'skiing':0,\n",
    "'protected_sites':0,\n",
    "'ice_hockey':0,\n",
    "'martial_arts':0,\n",
    "'freebase':0,\n",
    "'dining':0,\n",
    "'basketball':0,\n",
    "'transportation':0,\n",
    "'base.lightweight':0,\n",
    "'zoos':0,\n",
    "'projects':0,\n",
    "'physics':0,\n",
    "'symbols':0,\n",
    "'base.exoplanetology':0,\n",
    "'common':0,\n",
    "'bicycles':0,\n",
    "'education, people':0,\n",
    "'comic_strips':0,\n",
    "'time, religion':0,\n",
    "'celebrities':0,\n",
    "'geology':0,\n",
    "'fashion':0,\n",
    "'chess':0,\n",
    "'boxing':0,\n",
    "'religion, people':0,\n",
    "'fictional_universe, comic_books':0,\n",
    "'food, wine':0,\n",
    "'library':0,\n",
    "'book, education':0,\n",
    "'royalty, people':0,\n",
    "'business, organization':0,\n",
    "'soccer, time':0,\n",
    "'dining, food':0,\n",
    "'fictional_universe, media_common':0,\n",
    "'book, media_common':0,\n",
    "'book, periodicals':0,\n",
    "'business, digicams':0,\n",
    "'book, people':0,\n",
    "'influence':0,\n",
    "'dining, travel':0,\n",
    "'media_common, tv':0,\n",
    "'music, tv':0,\n",
    "'business, people':0,\n",
    "'theater, media_common':0,\n",
    "'opera, music':0,\n",
    "'book, fictional_universe':0,\n",
    "'astronomy, base.exoplanetology':0,\n",
    "'media_common, comic_books':0,\n",
    "'user.patrick.default_domain':0,\n",
    "'martial_arts, education, people':0,\n",
    "'media_common, people':0,\n",
    "'periodicals':0,\n",
    "'dining, people':0,\n",
    "'government, organization':0,\n",
    "'transportation, travel':0,\n",
    "'travel, organization':0,\n",
    "'sports, broadcast, people':0,\n",
    "'biology, people':0,\n",
    "'architecture, travel':0,\n",
    "'basketball, media_common':0,\n",
    "'business, medicine':1,\n",
    "'food, dining':0,\n",
    "'theater, architecture':0,\n",
    "'fictional_universe, sports':0,\n",
    "'automotive, organization':0,\n",
    "'time, military':0,\n",
    "'broadcast, tv':0,\n",
    "'language, tv':0,\n",
    "'book, music':0,\n",
    "'soccer, sports':0,\n",
    "'interests, people':0,\n",
    "'common, tv':0,\n",
    "'user.jonathanwlowe.location':0,\n",
    "'type':0,\n",
    "'broadcast, education':0,\n",
    "'engineering, projects':0,\n",
    "'sports, ice_hockey':0,\n",
    "'book, language':0,\n",
    "'fictional_universe, people':0,\n",
    "'fictional_universe, media_common, comic_books':0,\n",
    "'biology, geology':0,\n",
    "'time, media_common, spaceflight':0,\n",
    "'medicine, organization':1,\n",
    "'people, law':0,\n",
    "'aviation, common':0,\n",
    "'aviation, time':0,\n",
    "'boxing, sports':0,\n",
    "'astronomy, education':0,\n",
    "'type, people':0,\n",
    "'medicine, people':1,\n",
    "'book, travel':0,\n",
    "'comic_strips, media_common':0,\n",
    "'soccer, media_common':0,\n",
    "'comedy':0,\n",
    "'opera, people':0,\n",
    "'people, geography':0,\n",
    "'time, olympics':0,\n",
    "'biology, zoos':0,\n",
    "'food, people':0}\n",
    "\n",
    "gqa_healthcare_mapper = defaultdict(list, grail_qa_healthcare_map)"
   ]
  },
  {
   "cell_type": "code",
   "execution_count": 102,
   "id": "5f5cd0f2-dae9-44c8-8a60-ae5a34fe5db3",
   "metadata": {},
   "outputs": [],
   "source": [
    "# gqa_healthcare_mapper['biologicalsciences']"
   ]
  },
  {
   "cell_type": "code",
   "execution_count": 103,
   "id": "ebebd67c-dafb-4e53-acc1-6b27c488fa30",
   "metadata": {},
   "outputs": [],
   "source": [
    "grail_qa_technology_map = {'music':0,\n",
    "'fictional_universe':0,\n",
    "'book':0,\n",
    "'medicine':0,\n",
    "'computer':1,\n",
    "'astronomy':1,\n",
    "'people':0,\n",
    "'sports':0,\n",
    "'spaceflight':1,\n",
    "'tv':1,\n",
    "'biology':0,\n",
    "'government':0,\n",
    "'food':0,\n",
    "'comic_books':0,\n",
    "'education':0,\n",
    "'aviation':1,\n",
    "'business':0,\n",
    "'time':0,\n",
    "'architecture':1,\n",
    "'religion':0,\n",
    "'automotive':1,\n",
    "'meteorology':1,\n",
    "'amusement_parks':0,\n",
    "'broadcast':1,\n",
    "'digicams':1,\n",
    "'law':0,\n",
    "'geography':0,\n",
    "'media_common':0,\n",
    "'visual_art':0,\n",
    "'theater':0,\n",
    "'olympics':0,\n",
    "'internet':1,\n",
    "'boats':0,\n",
    "'cricket':0,\n",
    "'organization':0,\n",
    "'travel':0,\n",
    "'royalty':0,\n",
    "'engineering':1,\n",
    "'wine':0,\n",
    "'opera':0,\n",
    "'language':0,\n",
    "'soccer':0,\n",
    "'distilled_spirits':0,\n",
    "'exhibitions':0,\n",
    "'military':0,\n",
    "'tennis':0,\n",
    "'interests':0,\n",
    "'skiing':0,\n",
    "'protected_sites':0,\n",
    "'ice_hockey':0,\n",
    "'martial_arts':0,\n",
    "'freebase':0,\n",
    "'dining':0,\n",
    "'basketball':0,\n",
    "'transportation':0,\n",
    "'base.lightweight':0,\n",
    "'zoos':0,\n",
    "'projects':0,\n",
    "'physics':1,\n",
    "'symbols':0,\n",
    "'base.exoplanetology':1,\n",
    "'common':0,\n",
    "'bicycles':0,\n",
    "'education, people':0,\n",
    "'comic_strips':0,\n",
    "'time, religion':0,\n",
    "'celebrities':0,\n",
    "'geology':0,\n",
    "'fashion':0,\n",
    "'chess':0,\n",
    "'boxing':0,\n",
    "'religion, people':0,\n",
    "'fictional_universe, comic_books':0,\n",
    "'food, wine':0,\n",
    "'library':0,\n",
    "'book, education':0,\n",
    "'royalty, people':0,\n",
    "'business, organization':0,\n",
    "'soccer, time':0,\n",
    "'dining, food':0,\n",
    "'fictional_universe, media_common':0,\n",
    "'book, media_common':0,\n",
    "'book, periodicals':0,\n",
    "'business, digicams':0,\n",
    "'book, people':0,\n",
    "'influence':0,\n",
    "'dining, travel':0,\n",
    "'media_common, tv':1,\n",
    "'music, tv':0,\n",
    "'business, people':0,\n",
    "'theater, media_common':0,\n",
    "'opera, music':0,\n",
    "'book, fictional_universe':0,\n",
    "'astronomy, base.exoplanetology':1,\n",
    "'media_common, comic_books':0,\n",
    "'user.patrick.default_domain':0,\n",
    "'martial_arts, education, people':0,\n",
    "'media_common, people':0,\n",
    "'periodicals':0,\n",
    "'dining, people':0,\n",
    "'government, organization':0,\n",
    "'transportation, travel':0,\n",
    "'travel, organization':0,\n",
    "'sports, broadcast, people':0,\n",
    "'biology, people':0,\n",
    "'architecture, travel':0,\n",
    "'basketball, media_common':0,\n",
    "'business, medicine':0,\n",
    "'food, dining':0,\n",
    "'theater, architecture':0,\n",
    "'fictional_universe, sports':0,\n",
    "'automotive, organization':0,\n",
    "'time, military':0,\n",
    "'broadcast, tv':1,\n",
    "'language, tv':0,\n",
    "'book, music':0,\n",
    "'soccer, sports':0,\n",
    "'interests, people':0,\n",
    "'common, tv':0,\n",
    "'user.jonathanwlowe.location':0,\n",
    "'type':0,\n",
    "'broadcast, education':0,\n",
    "'engineering, projects':1,\n",
    "'sports, ice_hockey':0,\n",
    "'book, language':0,\n",
    "'fictional_universe, people':0,\n",
    "'fictional_universe, media_common, comic_books':0,\n",
    "'biology, geology':0,\n",
    "'time, media_common, spaceflight':0,\n",
    "'medicine, organization':0,\n",
    "'people, law':0,\n",
    "'aviation, common':0,\n",
    "'aviation, time':1,\n",
    "'boxing, sports':0,\n",
    "'astronomy, education':1,\n",
    "'type, people':0,\n",
    "'medicine, people':0,\n",
    "'book, travel':0,\n",
    "'comic_strips, media_common':0,\n",
    "'soccer, media_common':0,\n",
    "'comedy':0,\n",
    "'opera, people':0,\n",
    "'people, geography':0,\n",
    "'time, olympics':0,\n",
    "'biology, zoos':0,\n",
    "'food, people':0}\n",
    "\n",
    "gqa_technology_mapper = defaultdict(list, grail_qa_technology_map)"
   ]
  },
  {
   "cell_type": "code",
   "execution_count": 151,
   "id": "d90bf3da-0199-4901-8f61-b8b9ce1777cb",
   "metadata": {},
   "outputs": [],
   "source": []
  },
  {
   "cell_type": "code",
   "execution_count": 107,
   "id": "945b8dd5-60fd-4204-9ac7-942052b51793",
   "metadata": {},
   "outputs": [],
   "source": [
    "# Build One Column for y_label\n",
    "grail_qa_df['y'] = np.where(grail_qa_df['healthcare_label'] == 1, 0, \n",
    "                     np.where(grail_qa_df['technology_label'] == 1, 1, 2))"
   ]
  },
  {
   "cell_type": "code",
   "execution_count": null,
   "id": "ffe76b8e-c291-4c6e-87d9-f30ad33a5976",
   "metadata": {},
   "outputs": [],
   "source": [
    "# class_map = {'healthcare':0, 'technology':1, 'other':2}"
   ]
  },
  {
   "cell_type": "code",
   "execution_count": null,
   "id": "efceeab2-217a-4a1b-a4e6-a846b7d96337",
   "metadata": {},
   "outputs": [],
   "source": []
  },
  {
   "cell_type": "code",
   "execution_count": null,
   "id": "9b2b1c2a-36a9-45d9-bfdb-5c5515e11e7f",
   "metadata": {},
   "outputs": [],
   "source": []
  },
  {
   "cell_type": "code",
   "execution_count": null,
   "id": "12685433-cf1b-455a-baa3-3ece8f1744ec",
   "metadata": {},
   "outputs": [],
   "source": []
  },
  {
   "cell_type": "markdown",
   "id": "e9bca657-11cd-4e76-a539-4079281112f1",
   "metadata": {},
   "source": [
    "### Load sd-nlp\n",
    "---\n",
    "- The dataset is pre-tokenized with the roberta-base tokenizer"
   ]
  },
  {
   "cell_type": "code",
   "execution_count": 102,
   "id": "ed3ed232-9679-415e-bbe8-bcb4d0ee107e",
   "metadata": {},
   "outputs": [
    {
     "data": {
      "application/vnd.jupyter.widget-view+json": {
       "model_id": "03c438260aa14a11b8688edcf2af69d6",
       "version_major": 2,
       "version_minor": 0
      },
      "text/plain": [
       "Downloading:   0%|          | 0.00/8.22k [00:00<?, ?B/s]"
      ]
     },
     "metadata": {},
     "output_type": "display_data"
    },
    {
     "data": {
      "application/vnd.jupyter.widget-view+json": {
       "model_id": "334ee8a002104993bfb26ceadaa31a71",
       "version_major": 2,
       "version_minor": 0
      },
      "text/plain": [
       "Downloading:   0%|          | 0.00/6.90k [00:00<?, ?B/s]"
      ]
     },
     "metadata": {},
     "output_type": "display_data"
    },
    {
     "name": "stderr",
     "output_type": "stream",
     "text": [
      "No config specified, defaulting to: source_data_nlp/NER\n"
     ]
    },
    {
     "name": "stdout",
     "output_type": "stream",
     "text": [
      "Downloading and preparing dataset source_data_nlp/NER (download: 21.46 MiB, generated: 56.37 MiB, post-processed: Unknown size, total: 77.83 MiB) to /Users/spenno_fr/.cache/huggingface/datasets/source_data_nlp/NER/0.0.1/1ae41bd5b05b4d21841533f784520bd1db4cf6e954412d017d51db42395908ae...\n"
     ]
    },
    {
     "data": {
      "application/vnd.jupyter.widget-view+json": {
       "model_id": "a175cef79b04411181ed95303db3fd66",
       "version_major": 2,
       "version_minor": 0
      },
      "text/plain": [
       "Downloading:   0%|          | 0.00/22.5M [00:00<?, ?B/s]"
      ]
     },
     "metadata": {},
     "output_type": "display_data"
    },
    {
     "data": {
      "application/vnd.jupyter.widget-view+json": {
       "model_id": "",
       "version_major": 2,
       "version_minor": 0
      },
      "text/plain": [
       "0 examples [00:00, ? examples/s]"
      ]
     },
     "metadata": {},
     "output_type": "display_data"
    },
    {
     "data": {
      "application/vnd.jupyter.widget-view+json": {
       "model_id": "",
       "version_major": 2,
       "version_minor": 0
      },
      "text/plain": [
       "0 examples [00:00, ? examples/s]"
      ]
     },
     "metadata": {},
     "output_type": "display_data"
    },
    {
     "data": {
      "application/vnd.jupyter.widget-view+json": {
       "model_id": "",
       "version_major": 2,
       "version_minor": 0
      },
      "text/plain": [
       "0 examples [00:00, ? examples/s]"
      ]
     },
     "metadata": {},
     "output_type": "display_data"
    },
    {
     "name": "stdout",
     "output_type": "stream",
     "text": [
      "Dataset source_data_nlp downloaded and prepared to /Users/spenno_fr/.cache/huggingface/datasets/source_data_nlp/NER/0.0.1/1ae41bd5b05b4d21841533f784520bd1db4cf6e954412d017d51db42395908ae. Subsequent calls will reuse this data.\n"
     ]
    }
   ],
   "source": [
    "embo_ner = datasets.load_dataset('EMBO/sd-nlp')"
   ]
  },
  {
   "cell_type": "code",
   "execution_count": 104,
   "id": "5cee01d8-7eca-4952-b76d-ba61a59b57b6",
   "metadata": {},
   "outputs": [
    {
     "data": {
      "text/plain": [
       "DatasetDict({\n",
       "    train: Dataset({\n",
       "        features: ['input_ids', 'labels', 'tag_mask'],\n",
       "        num_rows: 31410\n",
       "    })\n",
       "    test: Dataset({\n",
       "        features: ['input_ids', 'labels', 'tag_mask'],\n",
       "        num_rows: 4224\n",
       "    })\n",
       "    validation: Dataset({\n",
       "        features: ['input_ids', 'labels', 'tag_mask'],\n",
       "        num_rows: 8861\n",
       "    })\n",
       "})"
      ]
     },
     "execution_count": 104,
     "metadata": {},
     "output_type": "execute_result"
    }
   ],
   "source": [
    "embo_ner"
   ]
  },
  {
   "cell_type": "code",
   "execution_count": 105,
   "id": "a35d7236-c926-4828-a202-917d77bcad30",
   "metadata": {},
   "outputs": [],
   "source": [
    "embo_ner_df = pd.DataFrame(embo_ner['train'])"
   ]
  },
  {
   "cell_type": "code",
   "execution_count": 106,
   "id": "bcc79aeb-dbef-4fbd-bee6-df59fefec5c8",
   "metadata": {},
   "outputs": [
    {
     "data": {
      "text/html": [
       "<div>\n",
       "<style scoped>\n",
       "    .dataframe tbody tr th:only-of-type {\n",
       "        vertical-align: middle;\n",
       "    }\n",
       "\n",
       "    .dataframe tbody tr th {\n",
       "        vertical-align: top;\n",
       "    }\n",
       "\n",
       "    .dataframe thead th {\n",
       "        text-align: right;\n",
       "    }\n",
       "</style>\n",
       "<table border=\"1\" class=\"dataframe\">\n",
       "  <thead>\n",
       "    <tr style=\"text-align: right;\">\n",
       "      <th></th>\n",
       "      <th>input_ids</th>\n",
       "      <th>labels</th>\n",
       "      <th>tag_mask</th>\n",
       "    </tr>\n",
       "  </thead>\n",
       "  <tbody>\n",
       "    <tr>\n",
       "      <th>0</th>\n",
       "      <td>[0, 1640, 387, 43, 3385, 261, 13886, 4590, 58,...</td>\n",
       "      <td>[0, 0, 0, 0, 8, 7, 7, 7, 0, 0, 0, 0, 0, 0, 0, ...</td>\n",
       "      <td>[0, 0, 0, 0, 1, 1, 1, 1, 0, 0, 0, 0, 0, 0, 0, ...</td>\n",
       "    </tr>\n",
       "    <tr>\n",
       "      <th>1</th>\n",
       "      <td>[0, 250, 12, 347, 27490, 41601, 39287, 672, 36...</td>\n",
       "      <td>[0, 0, 0, 0, 0, 6, 5, 0, 0, 0, 0, 2, 1, 1, 0, ...</td>\n",
       "      <td>[0, 0, 0, 0, 0, 1, 1, 0, 0, 0, 0, 1, 1, 1, 0, ...</td>\n",
       "    </tr>\n",
       "    <tr>\n",
       "      <th>2</th>\n",
       "      <td>[0, 6842, 597, 14660, 21, 3032, 19, 1308, 438,...</td>\n",
       "      <td>[0, 0, 0, 0, 0, 0, 0, 4, 3, 0, 4, 3, 3, 3, 4, ...</td>\n",
       "      <td>[0, 0, 0, 0, 0, 0, 0, 1, 1, 0, 1, 1, 1, 1, 1, ...</td>\n",
       "    </tr>\n",
       "    <tr>\n",
       "      <th>3</th>\n",
       "      <td>[0, 2716, 12, 406, 102, 34496, 13458, 5, 83, 1...</td>\n",
       "      <td>[0, 4, 3, 3, 3, 0, 0, 0, 4, 3, 3, 14, 13, 13, ...</td>\n",
       "      <td>[0, 1, 1, 1, 1, 0, 0, 0, 1, 1, 1, 1, 1, 1, 0, ...</td>\n",
       "    </tr>\n",
       "    <tr>\n",
       "      <th>4</th>\n",
       "      <td>[0, 1640, 571, 43, 4680, 42825, 24756, 246, 12...</td>\n",
       "      <td>[0, 0, 0, 0, 0, 0, 4, 3, 0, 0, 0, 0, 8, 7, 0, ...</td>\n",
       "      <td>[0, 0, 0, 0, 0, 0, 1, 1, 0, 0, 0, 0, 1, 1, 0, ...</td>\n",
       "    </tr>\n",
       "  </tbody>\n",
       "</table>\n",
       "</div>"
      ],
      "text/plain": [
       "                                           input_ids  \\\n",
       "0  [0, 1640, 387, 43, 3385, 261, 13886, 4590, 58,...   \n",
       "1  [0, 250, 12, 347, 27490, 41601, 39287, 672, 36...   \n",
       "2  [0, 6842, 597, 14660, 21, 3032, 19, 1308, 438,...   \n",
       "3  [0, 2716, 12, 406, 102, 34496, 13458, 5, 83, 1...   \n",
       "4  [0, 1640, 571, 43, 4680, 42825, 24756, 246, 12...   \n",
       "\n",
       "                                              labels  \\\n",
       "0  [0, 0, 0, 0, 8, 7, 7, 7, 0, 0, 0, 0, 0, 0, 0, ...   \n",
       "1  [0, 0, 0, 0, 0, 6, 5, 0, 0, 0, 0, 2, 1, 1, 0, ...   \n",
       "2  [0, 0, 0, 0, 0, 0, 0, 4, 3, 0, 4, 3, 3, 3, 4, ...   \n",
       "3  [0, 4, 3, 3, 3, 0, 0, 0, 4, 3, 3, 14, 13, 13, ...   \n",
       "4  [0, 0, 0, 0, 0, 0, 4, 3, 0, 0, 0, 0, 8, 7, 0, ...   \n",
       "\n",
       "                                            tag_mask  \n",
       "0  [0, 0, 0, 0, 1, 1, 1, 1, 0, 0, 0, 0, 0, 0, 0, ...  \n",
       "1  [0, 0, 0, 0, 0, 1, 1, 0, 0, 0, 0, 1, 1, 1, 0, ...  \n",
       "2  [0, 0, 0, 0, 0, 0, 0, 1, 1, 0, 1, 1, 1, 1, 1, ...  \n",
       "3  [0, 1, 1, 1, 1, 0, 0, 0, 1, 1, 1, 1, 1, 1, 0, ...  \n",
       "4  [0, 0, 0, 0, 0, 0, 1, 1, 0, 0, 0, 0, 1, 1, 0, ...  "
      ]
     },
     "execution_count": 106,
     "metadata": {},
     "output_type": "execute_result"
    }
   ],
   "source": [
    "embo_ner_df.head()"
   ]
  },
  {
   "cell_type": "markdown",
   "id": "14e65692-2376-4d14-837f-f69a13f79aac",
   "metadata": {},
   "source": [
    "### Load medal Dataset"
   ]
  },
  {
   "cell_type": "code",
   "execution_count": 177,
   "id": "c535a71d-6167-41a9-b20d-0640e562d05d",
   "metadata": {},
   "outputs": [],
   "source": [
    "medal = datasets.load_dataset('medal')"
   ]
  },
  {
   "cell_type": "code",
   "execution_count": 181,
   "id": "aee434f1-ae84-4ab1-9fe1-aa9067cabe6c",
   "metadata": {},
   "outputs": [],
   "source": [
    "# !wget https://drive.google.com/file/d/1eTtRs5cUlBP5dXsx-FTAlmXuB6JQi2qj/view"
   ]
  },
  {
   "cell_type": "code",
   "execution_count": null,
   "id": "ecea05c9-0fb7-4f7f-a261-f270e368188b",
   "metadata": {},
   "outputs": [],
   "source": []
  },
  {
   "cell_type": "code",
   "execution_count": null,
   "id": "63749bda-5f55-45eb-9b28-8f9c211a3bac",
   "metadata": {},
   "outputs": [],
   "source": []
  },
  {
   "cell_type": "markdown",
   "id": "3eaa0762-925e-44e1-9999-12fca88d9051",
   "metadata": {},
   "source": [
    "### Load Hybrid QA Dataset"
   ]
  },
  {
   "cell_type": "code",
   "execution_count": 160,
   "id": "a20c7d5c-5778-4c0c-8bf2-197698621af4",
   "metadata": {},
   "outputs": [
    {
     "name": "stderr",
     "output_type": "stream",
     "text": [
      "Reusing dataset hybrid_qa (/Users/spenno_fr/.cache/huggingface/datasets/hybrid_qa/hybrid_qa/1.0.0/fabdc38783449dd6cb1acd25621af97b871e218fc3ab608191d492b408a93ab8)\n"
     ]
    }
   ],
   "source": [
    "hqa = datasets.load_dataset('hybrid_qa')"
   ]
  },
  {
   "cell_type": "code",
   "execution_count": 161,
   "id": "bc0f6d35-eac1-494e-8e12-d40dbbf8e79f",
   "metadata": {},
   "outputs": [
    {
     "data": {
      "text/plain": [
       "DatasetDict({\n",
       "    train: Dataset({\n",
       "        features: ['question_id', 'question', 'table_id', 'answer_text', 'question_postag', 'table'],\n",
       "        num_rows: 62682\n",
       "    })\n",
       "    validation: Dataset({\n",
       "        features: ['question_id', 'question', 'table_id', 'answer_text', 'question_postag', 'table'],\n",
       "        num_rows: 3466\n",
       "    })\n",
       "    test: Dataset({\n",
       "        features: ['question_id', 'question', 'table_id', 'answer_text', 'question_postag', 'table'],\n",
       "        num_rows: 3463\n",
       "    })\n",
       "})"
      ]
     },
     "execution_count": 161,
     "metadata": {},
     "output_type": "execute_result"
    }
   ],
   "source": [
    "hqa"
   ]
  },
  {
   "cell_type": "code",
   "execution_count": 162,
   "id": "eb19416d-5f89-44e2-b506-c02e7a3f7d20",
   "metadata": {},
   "outputs": [],
   "source": [
    "hqa_df = pd.DataFrame(hqa['train'])"
   ]
  },
  {
   "cell_type": "code",
   "execution_count": 163,
   "id": "89ec3386-df98-4654-9fc2-cebe10cf469e",
   "metadata": {},
   "outputs": [
    {
     "data": {
      "text/html": [
       "<div>\n",
       "<style scoped>\n",
       "    .dataframe tbody tr th:only-of-type {\n",
       "        vertical-align: middle;\n",
       "    }\n",
       "\n",
       "    .dataframe tbody tr th {\n",
       "        vertical-align: top;\n",
       "    }\n",
       "\n",
       "    .dataframe thead th {\n",
       "        text-align: right;\n",
       "    }\n",
       "</style>\n",
       "<table border=\"1\" class=\"dataframe\">\n",
       "  <thead>\n",
       "    <tr style=\"text-align: right;\">\n",
       "      <th></th>\n",
       "      <th>question_id</th>\n",
       "      <th>question</th>\n",
       "      <th>table_id</th>\n",
       "      <th>answer_text</th>\n",
       "      <th>question_postag</th>\n",
       "      <th>table</th>\n",
       "    </tr>\n",
       "  </thead>\n",
       "  <tbody>\n",
       "    <tr>\n",
       "      <th>0</th>\n",
       "      <td>00009b9649d0dd0a</td>\n",
       "      <td>Who were the builders of the mosque in Herat w...</td>\n",
       "      <td>List_of_mosques_in_Afghanistan_0</td>\n",
       "      <td>Ghurids</td>\n",
       "      <td>WP VBD DT NNS IN DT NN IN NNP IN NN NNS .</td>\n",
       "      <td>{'url': 'https://en.wikipedia.org/wiki/List_of...</td>\n",
       "    </tr>\n",
       "    <tr>\n",
       "      <th>1</th>\n",
       "      <td>00013190d4370f73</td>\n",
       "      <td>After what season did the number 7 competitor ...</td>\n",
       "      <td>1999_Kyalami_Superbike_World_Championship_round_0</td>\n",
       "      <td>2006</td>\n",
       "      <td>IN WP NN VBD DT NN CD NN NN .</td>\n",
       "      <td>{'url': 'https://en.wikipedia.org/wiki/1999_Ky...</td>\n",
       "    </tr>\n",
       "    <tr>\n",
       "      <th>2</th>\n",
       "      <td>00023988273478d0</td>\n",
       "      <td>What year was the 1971-72 ECAC Hockey Player o...</td>\n",
       "      <td>List_of_ECAC_Hockey_Player_of_the_Year_0</td>\n",
       "      <td>1950</td>\n",
       "      <td>WP NN VBD DT JJ NNP NNP NNP IN DT NNP VBN .</td>\n",
       "      <td>{'url': 'https://en.wikipedia.org/wiki/List_of...</td>\n",
       "    </tr>\n",
       "    <tr>\n",
       "      <th>3</th>\n",
       "      <td>000356071ebf888a</td>\n",
       "      <td>What battle did the man born on 7 December 183...</td>\n",
       "      <td>List_of_Zulu_War_Victoria_Cross_recipients_0</td>\n",
       "      <td>Battle of Hlobane</td>\n",
       "      <td>WP NN VBD DT NN VBN IN CD NNP CD NN IN .</td>\n",
       "      <td>{'url': 'https://en.wikipedia.org/wiki/List_of...</td>\n",
       "    </tr>\n",
       "    <tr>\n",
       "      <th>4</th>\n",
       "      <td>0003d159df86ed53</td>\n",
       "      <td>What is the borough in which Kia Oval is locat...</td>\n",
       "      <td>List_of_sports_venues_with_sole_naming_rights_36</td>\n",
       "      <td>Lambeth</td>\n",
       "      <td>WP VBZ DT NN IN WDT NNP NNP VBZ VBN .</td>\n",
       "      <td>{'url': 'https://en.wikipedia.org/wiki/List_of...</td>\n",
       "    </tr>\n",
       "  </tbody>\n",
       "</table>\n",
       "</div>"
      ],
      "text/plain": [
       "        question_id                                           question  \\\n",
       "0  00009b9649d0dd0a  Who were the builders of the mosque in Herat w...   \n",
       "1  00013190d4370f73  After what season did the number 7 competitor ...   \n",
       "2  00023988273478d0  What year was the 1971-72 ECAC Hockey Player o...   \n",
       "3  000356071ebf888a  What battle did the man born on 7 December 183...   \n",
       "4  0003d159df86ed53  What is the borough in which Kia Oval is locat...   \n",
       "\n",
       "                                            table_id        answer_text  \\\n",
       "0                   List_of_mosques_in_Afghanistan_0            Ghurids   \n",
       "1  1999_Kyalami_Superbike_World_Championship_round_0               2006   \n",
       "2           List_of_ECAC_Hockey_Player_of_the_Year_0               1950   \n",
       "3       List_of_Zulu_War_Victoria_Cross_recipients_0  Battle of Hlobane   \n",
       "4   List_of_sports_venues_with_sole_naming_rights_36            Lambeth   \n",
       "\n",
       "                               question_postag  \\\n",
       "0    WP VBD DT NNS IN DT NN IN NNP IN NN NNS .   \n",
       "1                IN WP NN VBD DT NN CD NN NN .   \n",
       "2  WP NN VBD DT JJ NNP NNP NNP IN DT NNP VBN .   \n",
       "3     WP NN VBD DT NN VBN IN CD NNP CD NN IN .   \n",
       "4        WP VBZ DT NN IN WDT NNP NNP VBZ VBN .   \n",
       "\n",
       "                                               table  \n",
       "0  {'url': 'https://en.wikipedia.org/wiki/List_of...  \n",
       "1  {'url': 'https://en.wikipedia.org/wiki/1999_Ky...  \n",
       "2  {'url': 'https://en.wikipedia.org/wiki/List_of...  \n",
       "3  {'url': 'https://en.wikipedia.org/wiki/List_of...  \n",
       "4  {'url': 'https://en.wikipedia.org/wiki/List_of...  "
      ]
     },
     "execution_count": 163,
     "metadata": {},
     "output_type": "execute_result"
    }
   ],
   "source": [
    "hqa_df.head()"
   ]
  },
  {
   "cell_type": "code",
   "execution_count": null,
   "id": "9492bd02-1f63-42b2-9ab4-fb4bdcfeb673",
   "metadata": {},
   "outputs": [],
   "source": []
  },
  {
   "cell_type": "code",
   "execution_count": null,
   "id": "09c57c1c-f492-4efe-82c6-7f25db98204b",
   "metadata": {},
   "outputs": [],
   "source": []
  },
  {
   "cell_type": "markdown",
   "id": "793765ae-1b14-426b-a4f3-594c500b25fd",
   "metadata": {},
   "source": [
    "### Load mqp Dataset"
   ]
  },
  {
   "cell_type": "code",
   "execution_count": 71,
   "id": "4978968f-3a9e-4cec-b2d3-ccb4e700bd23",
   "metadata": {},
   "outputs": [
    {
     "data": {
      "application/vnd.jupyter.widget-view+json": {
       "model_id": "2a1a17bf285341edab7290043b4c0bc1",
       "version_major": 2,
       "version_minor": 0
      },
      "text/plain": [
       "Downloading:   0%|          | 0.00/1.34k [00:00<?, ?B/s]"
      ]
     },
     "metadata": {},
     "output_type": "display_data"
    },
    {
     "data": {
      "application/vnd.jupyter.widget-view+json": {
       "model_id": "ca184b3ee31b45f6a13743107d60d36a",
       "version_major": 2,
       "version_minor": 0
      },
      "text/plain": [
       "Downloading:   0%|          | 0.00/569 [00:00<?, ?B/s]"
      ]
     },
     "metadata": {},
     "output_type": "display_data"
    },
    {
     "name": "stderr",
     "output_type": "stream",
     "text": [
      "Using custom data configuration default\n"
     ]
    },
    {
     "name": "stdout",
     "output_type": "stream",
     "text": [
      "Downloading and preparing dataset medical_questions_pairs/default (download: 650.09 KiB, generated: 685.21 KiB, post-processed: Unknown size, total: 1.30 MiB) to /Users/spenno_fr/.cache/huggingface/datasets/medical_questions_pairs/default/0.0.0/db30a35b934dceb7abed5ef6b73a432bb59682d00e26f9a1acd960635333bc80...\n"
     ]
    },
    {
     "data": {
      "application/vnd.jupyter.widget-view+json": {
       "model_id": "5460b2fb85524038a43808a0acf11f89",
       "version_major": 2,
       "version_minor": 0
      },
      "text/plain": [
       "Downloading:   0%|          | 0.00/174k [00:00<?, ?B/s]"
      ]
     },
     "metadata": {},
     "output_type": "display_data"
    },
    {
     "data": {
      "application/vnd.jupyter.widget-view+json": {
       "model_id": "",
       "version_major": 2,
       "version_minor": 0
      },
      "text/plain": [
       "0 examples [00:00, ? examples/s]"
      ]
     },
     "metadata": {},
     "output_type": "display_data"
    },
    {
     "name": "stdout",
     "output_type": "stream",
     "text": [
      "Dataset medical_questions_pairs downloaded and prepared to /Users/spenno_fr/.cache/huggingface/datasets/medical_questions_pairs/default/0.0.0/db30a35b934dceb7abed5ef6b73a432bb59682d00e26f9a1acd960635333bc80. Subsequent calls will reuse this data.\n"
     ]
    }
   ],
   "source": [
    "mqp = datasets.load_dataset('medical_questions_pairs')"
   ]
  },
  {
   "cell_type": "code",
   "execution_count": 74,
   "id": "a3fb90ad-8828-4699-8f03-9a4b0079c119",
   "metadata": {},
   "outputs": [],
   "source": [
    "mqp_df = pd.DataFrame(mqp['train'])"
   ]
  },
  {
   "cell_type": "code",
   "execution_count": 75,
   "id": "c774306e-cf65-4be3-a300-47f78a928a34",
   "metadata": {},
   "outputs": [
    {
     "data": {
      "text/html": [
       "<div>\n",
       "<style scoped>\n",
       "    .dataframe tbody tr th:only-of-type {\n",
       "        vertical-align: middle;\n",
       "    }\n",
       "\n",
       "    .dataframe tbody tr th {\n",
       "        vertical-align: top;\n",
       "    }\n",
       "\n",
       "    .dataframe thead th {\n",
       "        text-align: right;\n",
       "    }\n",
       "</style>\n",
       "<table border=\"1\" class=\"dataframe\">\n",
       "  <thead>\n",
       "    <tr style=\"text-align: right;\">\n",
       "      <th></th>\n",
       "      <th>dr_id</th>\n",
       "      <th>question_1</th>\n",
       "      <th>question_2</th>\n",
       "      <th>label</th>\n",
       "    </tr>\n",
       "  </thead>\n",
       "  <tbody>\n",
       "    <tr>\n",
       "      <th>0</th>\n",
       "      <td>1</td>\n",
       "      <td>After how many hour from drinking an antibioti...</td>\n",
       "      <td>I have a party tonight and I took my last dose...</td>\n",
       "      <td>1</td>\n",
       "    </tr>\n",
       "    <tr>\n",
       "      <th>1</th>\n",
       "      <td>1</td>\n",
       "      <td>After how many hour from drinking an antibioti...</td>\n",
       "      <td>I vomited this morning and I am not sure if it...</td>\n",
       "      <td>0</td>\n",
       "    </tr>\n",
       "    <tr>\n",
       "      <th>2</th>\n",
       "      <td>1</td>\n",
       "      <td>Am I over weight (192.9) for my age (39)?</td>\n",
       "      <td>I am a 39 y/o male currently weighing about 19...</td>\n",
       "      <td>1</td>\n",
       "    </tr>\n",
       "    <tr>\n",
       "      <th>3</th>\n",
       "      <td>1</td>\n",
       "      <td>Am I over weight (192.9) for my age (39)?</td>\n",
       "      <td>What diet is good for losing weight? Keto or v...</td>\n",
       "      <td>0</td>\n",
       "    </tr>\n",
       "    <tr>\n",
       "      <th>4</th>\n",
       "      <td>1</td>\n",
       "      <td>Aspirin allergy - is it worth getting a bracelet?</td>\n",
       "      <td>How much Aspirin can I take for my headache wi...</td>\n",
       "      <td>0</td>\n",
       "    </tr>\n",
       "    <tr>\n",
       "      <th>...</th>\n",
       "      <td>...</td>\n",
       "      <td>...</td>\n",
       "      <td>...</td>\n",
       "      <td>...</td>\n",
       "    </tr>\n",
       "    <tr>\n",
       "      <th>3043</th>\n",
       "      <td>11</td>\n",
       "      <td>15 million  sperm can be a father?</td>\n",
       "      <td>My sperm count is 15 millions and is there a c...</td>\n",
       "      <td>1</td>\n",
       "    </tr>\n",
       "    <tr>\n",
       "      <th>3044</th>\n",
       "      <td>11</td>\n",
       "      <td>26 yo m with history of progressive venous ins...</td>\n",
       "      <td>Hello doctor, can you please tell me some of t...</td>\n",
       "      <td>0</td>\n",
       "    </tr>\n",
       "    <tr>\n",
       "      <th>3045</th>\n",
       "      <td>11</td>\n",
       "      <td>26 yo m with history of progressive venous ins...</td>\n",
       "      <td>Hello doctor, I am 26 year old male wth progre...</td>\n",
       "      <td>1</td>\n",
       "    </tr>\n",
       "    <tr>\n",
       "      <th>3046</th>\n",
       "      <td>11</td>\n",
       "      <td>32 weeks pregnant. Headache strange leg weakne...</td>\n",
       "      <td>I am 32 weeks pregnant and had severe headache...</td>\n",
       "      <td>0</td>\n",
       "    </tr>\n",
       "    <tr>\n",
       "      <th>3047</th>\n",
       "      <td>11</td>\n",
       "      <td>32 weeks pregnant. Headache strange leg weakne...</td>\n",
       "      <td>I have headache, leg weakness and 32 weeks pre...</td>\n",
       "      <td>1</td>\n",
       "    </tr>\n",
       "  </tbody>\n",
       "</table>\n",
       "<p>3048 rows × 4 columns</p>\n",
       "</div>"
      ],
      "text/plain": [
       "      dr_id                                         question_1  \\\n",
       "0         1  After how many hour from drinking an antibioti...   \n",
       "1         1  After how many hour from drinking an antibioti...   \n",
       "2         1          Am I over weight (192.9) for my age (39)?   \n",
       "3         1          Am I over weight (192.9) for my age (39)?   \n",
       "4         1  Aspirin allergy - is it worth getting a bracelet?   \n",
       "...     ...                                                ...   \n",
       "3043     11                 15 million  sperm can be a father?   \n",
       "3044     11  26 yo m with history of progressive venous ins...   \n",
       "3045     11  26 yo m with history of progressive venous ins...   \n",
       "3046     11  32 weeks pregnant. Headache strange leg weakne...   \n",
       "3047     11  32 weeks pregnant. Headache strange leg weakne...   \n",
       "\n",
       "                                             question_2  label  \n",
       "0     I have a party tonight and I took my last dose...      1  \n",
       "1     I vomited this morning and I am not sure if it...      0  \n",
       "2     I am a 39 y/o male currently weighing about 19...      1  \n",
       "3     What diet is good for losing weight? Keto or v...      0  \n",
       "4     How much Aspirin can I take for my headache wi...      0  \n",
       "...                                                 ...    ...  \n",
       "3043  My sperm count is 15 millions and is there a c...      1  \n",
       "3044  Hello doctor, can you please tell me some of t...      0  \n",
       "3045  Hello doctor, I am 26 year old male wth progre...      1  \n",
       "3046  I am 32 weeks pregnant and had severe headache...      0  \n",
       "3047  I have headache, leg weakness and 32 weeks pre...      1  \n",
       "\n",
       "[3048 rows x 4 columns]"
      ]
     },
     "execution_count": 75,
     "metadata": {},
     "output_type": "execute_result"
    }
   ],
   "source": [
    "mqp_df"
   ]
  },
  {
   "cell_type": "markdown",
   "id": "6720b1d6-cc1c-4844-a967-7153b2d19a59",
   "metadata": {},
   "source": [
    "### Load XGLUE Dataset with `NC` News Classification"
   ]
  },
  {
   "cell_type": "code",
   "execution_count": 164,
   "id": "834876b7-8324-4009-8617-9e172dfb80cd",
   "metadata": {},
   "outputs": [
    {
     "name": "stderr",
     "output_type": "stream",
     "text": [
      "Reusing dataset x_glue (/Users/spenno_fr/.cache/huggingface/datasets/x_glue/nc/1.0.0/9d181dd4413e6dfb0502b603c5ced10d2988d7bc97dd4c899eabee4397234139)\n"
     ]
    }
   ],
   "source": [
    "xglue = datasets.load_dataset('xglue', 'nc')"
   ]
  },
  {
   "cell_type": "code",
   "execution_count": 165,
   "id": "4cf0cf6f-82e9-49e2-a140-101eed5b0c6c",
   "metadata": {},
   "outputs": [
    {
     "data": {
      "text/plain": [
       "{'train': (100000, 3),\n",
       " 'validation.en': (10000, 3),\n",
       " 'validation.de': (10000, 3),\n",
       " 'validation.es': (10000, 3),\n",
       " 'validation.fr': (10000, 3),\n",
       " 'validation.ru': (10000, 3),\n",
       " 'test.en': (10000, 3),\n",
       " 'test.de': (10000, 3),\n",
       " 'test.es': (10000, 3),\n",
       " 'test.fr': (10000, 3),\n",
       " 'test.ru': (10000, 3)}"
      ]
     },
     "execution_count": 165,
     "metadata": {},
     "output_type": "execute_result"
    }
   ],
   "source": [
    "xglue.shape"
   ]
  },
  {
   "cell_type": "code",
   "execution_count": 166,
   "id": "b63e5b7e-3352-4e47-bdde-876d2aaf7432",
   "metadata": {},
   "outputs": [],
   "source": [
    "# Example Instance\n",
    "xglue_df = pd.DataFrame(xglue['train'])"
   ]
  },
  {
   "cell_type": "code",
   "execution_count": 169,
   "id": "ac77a5d1-ecfa-4c8d-8965-17422a535c79",
   "metadata": {},
   "outputs": [
    {
     "data": {
      "text/html": [
       "<div>\n",
       "<style scoped>\n",
       "    .dataframe tbody tr th:only-of-type {\n",
       "        vertical-align: middle;\n",
       "    }\n",
       "\n",
       "    .dataframe tbody tr th {\n",
       "        vertical-align: top;\n",
       "    }\n",
       "\n",
       "    .dataframe thead th {\n",
       "        text-align: right;\n",
       "    }\n",
       "</style>\n",
       "<table border=\"1\" class=\"dataframe\">\n",
       "  <thead>\n",
       "    <tr style=\"text-align: right;\">\n",
       "      <th></th>\n",
       "      <th>news_title</th>\n",
       "      <th>news_body</th>\n",
       "      <th>news_category</th>\n",
       "    </tr>\n",
       "  </thead>\n",
       "  <tbody>\n",
       "    <tr>\n",
       "      <th>0</th>\n",
       "      <td>Lebanese Grilled Fish</td>\n",
       "      <td>Lebanese Grilled Fish</td>\n",
       "      <td>0</td>\n",
       "    </tr>\n",
       "    <tr>\n",
       "      <th>1</th>\n",
       "      <td>How to line a tart tin</td>\n",
       "      <td>Lining a tart tin is an important step in the ...</td>\n",
       "      <td>0</td>\n",
       "    </tr>\n",
       "    <tr>\n",
       "      <th>2</th>\n",
       "      <td>How to make pancake batter</td>\n",
       "      <td>Great British Chefs demonstrates how to make p...</td>\n",
       "      <td>0</td>\n",
       "    </tr>\n",
       "    <tr>\n",
       "      <th>3</th>\n",
       "      <td>How to poach an egg</td>\n",
       "      <td>Master the art of poaching an egg with the hel...</td>\n",
       "      <td>0</td>\n",
       "    </tr>\n",
       "    <tr>\n",
       "      <th>4</th>\n",
       "      <td>How to ice a cupcake</td>\n",
       "      <td>In this video, Great British Chefs demonstrate...</td>\n",
       "      <td>0</td>\n",
       "    </tr>\n",
       "  </tbody>\n",
       "</table>\n",
       "</div>"
      ],
      "text/plain": [
       "                   news_title  \\\n",
       "0       Lebanese Grilled Fish   \n",
       "1      How to line a tart tin   \n",
       "2  How to make pancake batter   \n",
       "3         How to poach an egg   \n",
       "4        How to ice a cupcake   \n",
       "\n",
       "                                           news_body  news_category  \n",
       "0                              Lebanese Grilled Fish              0  \n",
       "1  Lining a tart tin is an important step in the ...              0  \n",
       "2  Great British Chefs demonstrates how to make p...              0  \n",
       "3  Master the art of poaching an egg with the hel...              0  \n",
       "4  In this video, Great British Chefs demonstrate...              0  "
      ]
     },
     "execution_count": 169,
     "metadata": {},
     "output_type": "execute_result"
    }
   ],
   "source": [
    "xglue_df.head()"
   ]
  },
  {
   "cell_type": "code",
   "execution_count": 167,
   "id": "4df63f02-fd5e-40f1-8289-00c26c0cf45f",
   "metadata": {},
   "outputs": [
    {
     "data": {
      "text/plain": [
       "{0: 'cooking',\n",
       " 1: 'sports',\n",
       " 2: 'travel',\n",
       " 3: 'business_news',\n",
       " 4: 'unknown',\n",
       " 5: 'entertainment',\n",
       " 6: 'celebrities',\n",
       " 7: 'healthcare',\n",
       " 8: '',\n",
       " 9: 'transportation'}"
      ]
     },
     "execution_count": 167,
     "metadata": {},
     "output_type": "execute_result"
    }
   ],
   "source": [
    "# Classification Dictionary\n",
    "{0:'cooking', 1:'sports', 2:'travel', 3:'business_news', 4:'unknown', 5:'entertainment', 6:'celebrities', 7:'healthcare', 8:'', 9:'transportation'}"
   ]
  },
  {
   "cell_type": "code",
   "execution_count": 173,
   "id": "1afb3628-d7b0-44c4-9e1b-babea8d8831b",
   "metadata": {},
   "outputs": [
    {
     "data": {
      "text/plain": [
       "45     Have you ever flipped through an airline magaz...\n",
       "50     Twenty years ago, in the August 1994 issue of ...\n",
       "53     Because the current Jeep Wrangler suffers from...\n",
       "54     I spend a lot of time commuting from home to t...\n",
       "55     When we attended the first media event for the...\n",
       "56     Nissan has released details of the updates to ...\n",
       "59     The 2015 Volvo XC90 tease continues , this tim...\n",
       "60     While recent internet rumors suggested the Sub...\n",
       "61     The two turbos hanging off the F80 M3's 3.0-li...\n",
       "62     Take a look at the nose of the new Bentley Fly...\n",
       "63     All the attention has been focused on the 2015...\n",
       "64     Official power figures for the 2014 Callaway C...\n",
       "66     Although the Mitsubishi Lancer Evolution has b...\n",
       "67     A picture of Michelangelo's David, even in the...\n",
       "68     Vehicle Overview Minor changes are in store fo...\n",
       "69     NOTE: This story first appeared in the June 19...\n",
       "70     Like other Toyota trucks and SUVs, the 2010 4R...\n",
       "73     The new Infiniti M, seen in Tokyo in Nissan Fu...\n",
       "74     A little over a month after its world debut at...\n",
       "75     Right around the same time General Motors teas...\n",
       "76     Not to be confused with the Charles Schulz cha...\n",
       "77     Racing, by nature, creates drama. Some of thos...\n",
       "86     Although recent rumors suggest the next Mazda ...\n",
       "88     The 2014 Mercedes-Benz CLA250 is gaining a new...\n",
       "108    The 2.0-liter turbodiesel under the hood of th...\n",
       "115    In May 2008, the last time we compared the cro...\n",
       "129    With the addition of the 1.5-liter EcoBoost I-...\n",
       "130    Chrysler is recalling roughly 895,000 model-ye...\n",
       "132    The last shot for Fast & Furious 7 has been co...\n",
       "133    Our 2013 Nissan NV200 might be fully loaded bu...\n",
       "141    If you plan on taking the 2015 Mercedes-Benz S...\n",
       "161    Hyundai won't debut a redesigned version of th...\n",
       "181    Although the Audi Q5 and BMW X3 crossovers hav...\n",
       "188    There's a bit of good news for the folks at Vo...\n",
       "189    I've made peace with the fact that this is pri...\n",
       "216    At last! The annual exodus of gray, puffy enti...\n",
       "225    Toyota has announced the changes (or lack of c...\n",
       "226    Another 2017 Ford Mustang SVT prototype has be...\n",
       "227    Jaguar has set a date to reveal its new compac...\n",
       "228    Alien II. That's the color of our new long-ter...\n",
       "229    The 2016 Smart Fortwo has matured into a more ...\n",
       "230    Lamborghini only recently pulled the wraps of ...\n",
       "231    The 2015 Ram pickup trucks now have new tow ra...\n",
       "232    I'm still scratching my head as to exactly how...\n",
       "233    It's something we've repeated many times. Cros...\n",
       "235    Two U.S. Senators have proposed a bill that wo...\n",
       "238    Ford has been out of the Le Mans game for some...\n",
       "239    The pony car wars continue to rage on, and the...\n",
       "240    Well done: You've gotten your head around the ...\n",
       "245    We came away impressed after our first test of...\n",
       "Name: news_body, dtype: object"
      ]
     },
     "execution_count": 173,
     "metadata": {},
     "output_type": "execute_result"
    }
   ],
   "source": [
    "# \n",
    "xglue_df[xglue_df['news_category'] == 9]['news_body'][0:50]"
   ]
  },
  {
   "cell_type": "markdown",
   "id": "1cba6a88-2e52-41f9-b4c2-81ca003225cd",
   "metadata": {},
   "source": [
    "### NER Dataset"
   ]
  },
  {
   "cell_type": "code",
   "execution_count": 8,
   "id": "dce374fe-d9f7-4c9d-91b1-ea477b039224",
   "metadata": {},
   "outputs": [],
   "source": [
    "test_sentence = xglue['train']['words'][0]"
   ]
  },
  {
   "cell_type": "code",
   "execution_count": 6,
   "id": "93ef6911-5ec6-492a-babd-627f42a7f38d",
   "metadata": {},
   "outputs": [
    {
     "name": "stderr",
     "output_type": "stream",
     "text": [
      "None of PyTorch, TensorFlow >= 2.0, or Flax have been found. Models won't be available and only tokenizers, configuration and file/data utilities can be used.\n"
     ]
    }
   ],
   "source": [
    "from transformers import BertTokenizer"
   ]
  },
  {
   "cell_type": "code",
   "execution_count": 7,
   "id": "9ba26b45-8ebd-471f-a152-761237785f56",
   "metadata": {},
   "outputs": [
    {
     "data": {
      "application/vnd.jupyter.widget-view+json": {
       "model_id": "2aa8dd47a72f4d78b6b203e91f6a958b",
       "version_major": 2,
       "version_minor": 0
      },
      "text/plain": [
       "Downloading:   0%|          | 0.00/232k [00:00<?, ?B/s]"
      ]
     },
     "metadata": {},
     "output_type": "display_data"
    },
    {
     "data": {
      "application/vnd.jupyter.widget-view+json": {
       "model_id": "bde38cd3eae74ad39718a9468300a00e",
       "version_major": 2,
       "version_minor": 0
      },
      "text/plain": [
       "Downloading:   0%|          | 0.00/28.0 [00:00<?, ?B/s]"
      ]
     },
     "metadata": {},
     "output_type": "display_data"
    },
    {
     "data": {
      "application/vnd.jupyter.widget-view+json": {
       "model_id": "d4f676943fd245e39c3300737ff4a173",
       "version_major": 2,
       "version_minor": 0
      },
      "text/plain": [
       "Downloading:   0%|          | 0.00/466k [00:00<?, ?B/s]"
      ]
     },
     "metadata": {},
     "output_type": "display_data"
    },
    {
     "data": {
      "application/vnd.jupyter.widget-view+json": {
       "model_id": "2fc92e0957e740859e685ddfd3a7642a",
       "version_major": 2,
       "version_minor": 0
      },
      "text/plain": [
       "Downloading:   0%|          | 0.00/570 [00:00<?, ?B/s]"
      ]
     },
     "metadata": {},
     "output_type": "display_data"
    }
   ],
   "source": [
    "tokenizer = BertTokenizer.from_pretrained(\"bert-base-uncased\")"
   ]
  },
  {
   "cell_type": "code",
   "execution_count": 11,
   "id": "1ddfc05b-58e1-4376-ac4c-7bc84de8ded2",
   "metadata": {},
   "outputs": [],
   "source": [
    "# help(tokenizer)"
   ]
  },
  {
   "cell_type": "code",
   "execution_count": 12,
   "id": "44719e95-fd42-4896-80a1-70e3dddede55",
   "metadata": {},
   "outputs": [
    {
     "data": {
      "text/plain": [
       "{'input_ids': array([[  101,  7327,   102],\n",
       "       [  101, 19164,   102],\n",
       "       [  101,  2446,   102],\n",
       "       [  101,  2655,   102],\n",
       "       [  101,  2000,   102],\n",
       "       [  101, 17757,   102],\n",
       "       [  101,  2329,   102],\n",
       "       [  101, 12559,   102],\n",
       "       [  101,  1012,   102]]), 'token_type_ids': array([[0, 0, 0],\n",
       "       [0, 0, 0],\n",
       "       [0, 0, 0],\n",
       "       [0, 0, 0],\n",
       "       [0, 0, 0],\n",
       "       [0, 0, 0],\n",
       "       [0, 0, 0],\n",
       "       [0, 0, 0],\n",
       "       [0, 0, 0]]), 'attention_mask': array([[1, 1, 1],\n",
       "       [1, 1, 1],\n",
       "       [1, 1, 1],\n",
       "       [1, 1, 1],\n",
       "       [1, 1, 1],\n",
       "       [1, 1, 1],\n",
       "       [1, 1, 1],\n",
       "       [1, 1, 1],\n",
       "       [1, 1, 1]])}"
      ]
     },
     "execution_count": 12,
     "metadata": {},
     "output_type": "execute_result"
    }
   ],
   "source": [
    "# Tokenize the sample test sentence intp a numpy array with HuggingFace BertTokenizer\n",
    "tokenizer(test_sentence, padding=\"longest\", truncation=True, max_length=512, return_tensors=\"np\")"
   ]
  },
  {
   "cell_type": "code",
   "execution_count": 1,
   "id": "f9c87e21-0f90-4b27-b229-15ffa7b5eb14",
   "metadata": {},
   "outputs": [
    {
     "name": "stdout",
     "output_type": "stream",
     "text": [
      "/Users/spenno_fr/Projects/nlp-glg-mas/notebooks\n"
     ]
    }
   ],
   "source": [
    "!pwd"
   ]
  },
  {
   "cell_type": "code",
   "execution_count": null,
   "id": "680eda5d-6015-4979-88a9-9e6d70ef0d5e",
   "metadata": {},
   "outputs": [],
   "source": []
  }
 ],
 "metadata": {
  "kernelspec": {
   "display_name": "Python 3 (ipykernel)",
   "language": "python",
   "name": "python3"
  },
  "language_info": {
   "codemirror_mode": {
    "name": "ipython",
    "version": 3
   },
   "file_extension": ".py",
   "mimetype": "text/x-python",
   "name": "python",
   "nbconvert_exporter": "python",
   "pygments_lexer": "ipython3",
   "version": "3.9.6"
  }
 },
 "nbformat": 4,
 "nbformat_minor": 5
}
