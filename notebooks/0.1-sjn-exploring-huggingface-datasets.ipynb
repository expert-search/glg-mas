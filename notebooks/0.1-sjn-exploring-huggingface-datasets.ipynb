{
 "cells": [
  {
   "cell_type": "code",
   "execution_count": 1,
   "id": "c84a13f7-9457-4fd8-a72f-1530dbbe713a",
   "metadata": {},
   "outputs": [],
   "source": [
    "import datasets"
   ]
  },
  {
   "cell_type": "code",
   "execution_count": 2,
   "id": "834876b7-8324-4009-8617-9e172dfb80cd",
   "metadata": {},
   "outputs": [
    {
     "name": "stderr",
     "output_type": "stream",
     "text": [
      "Reusing dataset x_glue (/Users/spenno_fr/.cache/huggingface/datasets/x_glue/ner/1.0.0/9d181dd4413e6dfb0502b603c5ced10d2988d7bc97dd4c899eabee4397234139)\n"
     ]
    }
   ],
   "source": [
    "xglue = datasets.load_dataset('xglue', 'ner')"
   ]
  },
  {
   "cell_type": "code",
   "execution_count": 3,
   "id": "4cf0cf6f-82e9-49e2-a140-101eed5b0c6c",
   "metadata": {},
   "outputs": [
    {
     "data": {
      "text/plain": [
       "{'train': (14042, 2),\n",
       " 'validation.en': (3252, 2),\n",
       " 'validation.de': (2874, 2),\n",
       " 'validation.es': (1923, 2),\n",
       " 'validation.nl': (2895, 2),\n",
       " 'test.en': (3454, 2),\n",
       " 'test.de': (3007, 2),\n",
       " 'test.es': (1523, 2),\n",
       " 'test.nl': (5202, 2)}"
      ]
     },
     "execution_count": 3,
     "metadata": {},
     "output_type": "execute_result"
    }
   ],
   "source": [
    "xglue.shape"
   ]
  },
  {
   "cell_type": "code",
   "execution_count": 4,
   "id": "b63e5b7e-3352-4e47-bdde-876d2aaf7432",
   "metadata": {},
   "outputs": [
    {
     "data": {
      "text/plain": [
       "{'words': ['Peter',\n",
       "  'Hedblom',\n",
       "  '(',\n",
       "  'Sweden',\n",
       "  ')',\n",
       "  '70',\n",
       "  '75',\n",
       "  '75',\n",
       "  ',',\n",
       "  'Retief',\n",
       "  'Goosen',\n",
       "  '(',\n",
       "  'South'],\n",
       " 'ner': [2, 2, 0, 6, 0, 0, 0, 0, 0, 2, 2, 0, 6]}"
      ]
     },
     "execution_count": 4,
     "metadata": {},
     "output_type": "execute_result"
    }
   ],
   "source": [
    "xglue['train'][-10]"
   ]
  },
  {
   "cell_type": "code",
   "execution_count": 8,
   "id": "dce374fe-d9f7-4c9d-91b1-ea477b039224",
   "metadata": {},
   "outputs": [],
   "source": [
    "test_sentence = xglue['train']['words'][0]"
   ]
  },
  {
   "cell_type": "code",
   "execution_count": 6,
   "id": "93ef6911-5ec6-492a-babd-627f42a7f38d",
   "metadata": {},
   "outputs": [
    {
     "name": "stderr",
     "output_type": "stream",
     "text": [
      "None of PyTorch, TensorFlow >= 2.0, or Flax have been found. Models won't be available and only tokenizers, configuration and file/data utilities can be used.\n"
     ]
    }
   ],
   "source": [
    "from transformers import BertTokenizer"
   ]
  },
  {
   "cell_type": "code",
   "execution_count": 7,
   "id": "9ba26b45-8ebd-471f-a152-761237785f56",
   "metadata": {},
   "outputs": [
    {
     "data": {
      "application/vnd.jupyter.widget-view+json": {
       "model_id": "2aa8dd47a72f4d78b6b203e91f6a958b",
       "version_major": 2,
       "version_minor": 0
      },
      "text/plain": [
       "Downloading:   0%|          | 0.00/232k [00:00<?, ?B/s]"
      ]
     },
     "metadata": {},
     "output_type": "display_data"
    },
    {
     "data": {
      "application/vnd.jupyter.widget-view+json": {
       "model_id": "bde38cd3eae74ad39718a9468300a00e",
       "version_major": 2,
       "version_minor": 0
      },
      "text/plain": [
       "Downloading:   0%|          | 0.00/28.0 [00:00<?, ?B/s]"
      ]
     },
     "metadata": {},
     "output_type": "display_data"
    },
    {
     "data": {
      "application/vnd.jupyter.widget-view+json": {
       "model_id": "d4f676943fd245e39c3300737ff4a173",
       "version_major": 2,
       "version_minor": 0
      },
      "text/plain": [
       "Downloading:   0%|          | 0.00/466k [00:00<?, ?B/s]"
      ]
     },
     "metadata": {},
     "output_type": "display_data"
    },
    {
     "data": {
      "application/vnd.jupyter.widget-view+json": {
       "model_id": "2fc92e0957e740859e685ddfd3a7642a",
       "version_major": 2,
       "version_minor": 0
      },
      "text/plain": [
       "Downloading:   0%|          | 0.00/570 [00:00<?, ?B/s]"
      ]
     },
     "metadata": {},
     "output_type": "display_data"
    }
   ],
   "source": [
    "tokenizer = BertTokenizer.from_pretrained(\"bert-base-uncased\")"
   ]
  },
  {
   "cell_type": "code",
   "execution_count": 11,
   "id": "1ddfc05b-58e1-4376-ac4c-7bc84de8ded2",
   "metadata": {},
   "outputs": [],
   "source": [
    "# help(tokenizer)"
   ]
  },
  {
   "cell_type": "code",
   "execution_count": 12,
   "id": "44719e95-fd42-4896-80a1-70e3dddede55",
   "metadata": {},
   "outputs": [
    {
     "data": {
      "text/plain": [
       "{'input_ids': array([[  101,  7327,   102],\n",
       "       [  101, 19164,   102],\n",
       "       [  101,  2446,   102],\n",
       "       [  101,  2655,   102],\n",
       "       [  101,  2000,   102],\n",
       "       [  101, 17757,   102],\n",
       "       [  101,  2329,   102],\n",
       "       [  101, 12559,   102],\n",
       "       [  101,  1012,   102]]), 'token_type_ids': array([[0, 0, 0],\n",
       "       [0, 0, 0],\n",
       "       [0, 0, 0],\n",
       "       [0, 0, 0],\n",
       "       [0, 0, 0],\n",
       "       [0, 0, 0],\n",
       "       [0, 0, 0],\n",
       "       [0, 0, 0],\n",
       "       [0, 0, 0]]), 'attention_mask': array([[1, 1, 1],\n",
       "       [1, 1, 1],\n",
       "       [1, 1, 1],\n",
       "       [1, 1, 1],\n",
       "       [1, 1, 1],\n",
       "       [1, 1, 1],\n",
       "       [1, 1, 1],\n",
       "       [1, 1, 1],\n",
       "       [1, 1, 1]])}"
      ]
     },
     "execution_count": 12,
     "metadata": {},
     "output_type": "execute_result"
    }
   ],
   "source": [
    "# Tokenize the sample test sentence intp a numpy array with HuggingFace BertTokenizer\n",
    "tokenizer(test_sentence, padding=\"longest\", truncation=True, max_length=512, return_tensors=\"np\")"
   ]
  },
  {
   "cell_type": "code",
   "execution_count": null,
   "id": "f9c87e21-0f90-4b27-b229-15ffa7b5eb14",
   "metadata": {},
   "outputs": [],
   "source": []
  }
 ],
 "metadata": {
  "kernelspec": {
   "display_name": "Python 3 (ipykernel)",
   "language": "python",
   "name": "python3"
  },
  "language_info": {
   "codemirror_mode": {
    "name": "ipython",
    "version": 3
   },
   "file_extension": ".py",
   "mimetype": "text/x-python",
   "name": "python",
   "nbconvert_exporter": "python",
   "pygments_lexer": "ipython3",
   "version": "3.9.6"
  }
 },
 "nbformat": 4,
 "nbformat_minor": 5
}
