{
 "cells": [
  {
   "cell_type": "code",
   "execution_count": 1,
   "id": "6f1ea2e0",
   "metadata": {},
   "outputs": [
    {
     "name": "stderr",
     "output_type": "stream",
     "text": [
      "C:\\Users\\fergu\\anaconda3\\lib\\site-packages\\gensim\\similarities\\__init__.py:15: UserWarning: The gensim.similarities.levenshtein submodule is disabled, because the optional Levenshtein package <https://pypi.org/project/python-Levenshtein/> is unavailable. Install Levenhstein (e.g. `pip install python-Levenshtein`) to suppress this warning.\n",
      "  warnings.warn(msg)\n"
     ]
    }
   ],
   "source": [
    "import pandas as pd\n",
    "import numpy as np\n",
    "import gensim\n",
    "from datetime import datetime, timedelta\n",
    "import matplotlib.pyplot as plt\n",
    "import pickle\n",
    "\n",
    "from sklearn.feature_extraction.text import TfidfVectorizer\n",
    "from sklearn.metrics.pairwise import cosine_similarity\n",
    "from scipy.cluster.hierarchy import ward, dendrogram"
   ]
  },
  {
   "cell_type": "code",
   "execution_count": 5,
   "id": "631091e1",
   "metadata": {},
   "outputs": [],
   "source": [
    "dft = pd.read_csv('250k_full_lda_185.csv')\n",
    "dft['article_words'] = [eval(item) for item in dft['article_words']]"
   ]
  },
  {
   "cell_type": "code",
   "execution_count": 6,
   "id": "cd386b0b",
   "metadata": {},
   "outputs": [],
   "source": [
    "filename = 'models/7passes_265_topics_ldamodel.id2word'\n",
    "file = open(filename,'rb')\n",
    "id2word = pickle.load(file)\n",
    "\n",
    "lda_model = gensim.models.ldamodel.LdaModel.load('models/7passes_265_topics_ldamodel')\n",
    "                                                 \n",
    "filename = 'models/topics_dict.pkl'\n",
    "file = open(filename,'rb')\n",
    "topics_dict = pickle.load(file)                                                                                                                                                  "
   ]
  },
  {
   "cell_type": "code",
   "execution_count": 7,
   "id": "962fb981",
   "metadata": {},
   "outputs": [],
   "source": [
    "tech_labels = ['robots & robotics','meat substitutes','tech m&a','laptops, mobile devices, gadgets','audio tech',\n",
    "              'climate science','digital advertising','ridesharing services e-scooters & e-bikes',\n",
    "               'wireless charging technology','e-commerce & online delivery','apple devices','astrophysics',\n",
    "               'automotive technology1','virtual reality','audio streaming and apps','virtual assistants, smart home tech',\n",
    "              'data breaches & data privacy','data protection & govt intervention','drones & unmanned aerial tech',\n",
    "              '5g % mobile networks','autonomous vehicles1','hacks & data theft','astrophysics','battery technology',\n",
    "              'tech investments, vc, new initiatives1','space exploration','cryptocurrency','cybersecurity',\n",
    "               'gene editing, genetic engineering','cutting-edge mobile devices, gadgets','quantum computing',\n",
    "               'fintech & payments','microsoft apps, os, devices','earth sciences','faang','climate science & technology',\n",
    "               'meteorology','automotive technology2','tech investments, vc, new initiatives2','artificial intelligence',\n",
    "               'chips & processors','astronomy & astrophysics','software/service glitches, bugs & outages',\n",
    "               'tech investments, vc, new initiatives3','nuclear tech','aviation & aerospace','code & software',\n",
    "               'satellites & rockets','dark web & online privacy','autonomous vehicles1','surveillance tech',\n",
    "               'mobile networks, carriers & eqpt','space exploration','apps, gadgets & devices'\n",
    "              ]\n",
    "\n",
    "health_labels = ['drugs, clinical trials, approvals','intl big business','marijuana & CBD',\n",
    "             'menstrual health','cancer treatments & trials','food poisoning, allergies, household chemicals',\n",
    "            'health insurance & washington legislation','organ donation','livestock viral diseases','skincare',\n",
    "            'food & diet','fitness, exercise & diet','mood disorders','product recalls','sleep health','infectious diseases',\n",
    "            'big tech govt intervention','sexual assault & harassment','health aspects of body art',\n",
    "            'infant nutrition','smoking, vaping & e-cigs','bloodborne diseases & vaccines','medical devices',\n",
    "             'bacteria & viruses','the human brain','blood and blood diseases','sex and relationships','clinical care',\n",
    "             'birth control & reproductive health',\"children's health\",'lgbtq issues','mental health & disorders',\n",
    "             'prescription drugs',\n",
    "             \n",
    "              ]\n",
    "\n",
    "tech_health_labels = tech_labels + health_labels"
   ]
  },
  {
   "cell_type": "markdown",
   "id": "22487940",
   "metadata": {},
   "source": [
    "## Visualize 2"
   ]
  },
  {
   "cell_type": "code",
   "execution_count": 21,
   "id": "91246bc7",
   "metadata": {},
   "outputs": [
    {
     "data": {
      "text/plain": [
       "(27, 16)"
      ]
     },
     "execution_count": 21,
     "metadata": {},
     "output_type": "execute_result"
    }
   ],
   "source": [
    "start = '2018-05-12'\n",
    "end = '2018-05-12'\n",
    "\n",
    "mini_df = dft[(dft['date'] >= start) & (dft['date'] <= end)]\n",
    "mini_df.shape"
   ]
  },
  {
   "cell_type": "code",
   "execution_count": 22,
   "id": "41128611",
   "metadata": {},
   "outputs": [],
   "source": [
    "def dummy_func(doc):\n",
    "    return doc\n",
    "\n",
    "tfidf = TfidfVectorizer(\n",
    "    analyzer='word',\n",
    "    tokenizer=dummy_func,\n",
    "    preprocessor=dummy_func,\n",
    "    token_pattern=None,\n",
    "    max_df=0.8,\n",
    "    min_df=3,\n",
    "    use_idf=True,)  \n",
    "\n",
    "tfidf_matrix = tfidf.fit_transform(mini_df['article_words'])\n",
    "\n",
    "dist = 1 - cosine_similarity(tfidf_matrix)"
   ]
  },
  {
   "cell_type": "code",
   "execution_count": 23,
   "id": "5ab17cfa",
   "metadata": {},
   "outputs": [
    {
     "data": {
      "image/png": "[encoded data removed]",
      "text/plain": [
       "<Figure size 1080x1440 with 1 Axes>"
      ]
     },
     "metadata": {
      "needs_background": "light"
     },
     "output_type": "display_data"
    }
   ],
   "source": [
    "linkage_matrix = ward(dist) #define the linkage_matrix using ward clustering pre-computed distances\n",
    "\n",
    "fig, ax = plt.subplots(figsize=(15, 20)) # set size\n",
    "\n",
    "lda_topics = [mini_df.iloc[i,14] for i in range(len(mini_df))]\n",
    "label_names = [topics_dict[topic] for topic in lda_topics]\n",
    "label_names = [label if label in tech_health_labels else '' for label in label_names]\n",
    "\n",
    "ax = dendrogram(linkage_matrix, orientation=\"right\", labels=label_names);\n",
    "\n",
    "plt.tick_params(\\\n",
    "    axis= 'x',          # changes apply to the x-axis\n",
    "    which='both',      # both major and minor ticks are affected\n",
    "    bottom='off',      # ticks along the bottom edge are off\n",
    "    top='off',         # ticks along the top edge are off\n",
    "    labelbottom='off')\n",
    "\n",
    "#plt.tight_layout() #show plot with tight layout"
   ]
  },
  {
   "cell_type": "code",
   "execution_count": null,
   "id": "40255579",
   "metadata": {},
   "outputs": [],
   "source": []
  },
  {
   "cell_type": "code",
   "execution_count": null,
   "id": "93c41b0e",
   "metadata": {},
   "outputs": [],
   "source": []
  }
 ],
 "metadata": {
  "kernelspec": {
   "display_name": "Python 3",
   "language": "python",
   "name": "python3"
  },
  "language_info": {
   "codemirror_mode": {
    "name": "ipython",
    "version": 3
   },
   "file_extension": ".py",
   "mimetype": "text/x-python",
   "name": "python",
   "nbconvert_exporter": "python",
   "pygments_lexer": "ipython3",
   "version": "3.8.8"
  }
 },
 "nbformat": 4,
 "nbformat_minor": 5
}
