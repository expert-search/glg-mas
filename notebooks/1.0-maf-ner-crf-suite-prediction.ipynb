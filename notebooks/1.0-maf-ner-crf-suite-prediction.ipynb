{
 "cells": [
  {
   "cell_type": "code",
   "execution_count": 13,
   "id": "c953e86b-5235-48cf-8125-7bb650f1dfa3",
   "metadata": {},
   "outputs": [],
   "source": [
    "# !python -m spacy download en_core_web_sm"
   ]
  },
  {
   "cell_type": "code",
   "execution_count": 4,
   "id": "21a5e48a-b06f-4039-90c5-1f01281e9432",
   "metadata": {},
   "outputs": [],
   "source": [
    "# !pip install spacy"
   ]
  },
  {
   "cell_type": "code",
   "execution_count": 16,
   "id": "589f41c6-0375-4674-a4d4-02affff4dc90",
   "metadata": {},
   "outputs": [],
   "source": [
    "# !pip install sklearn_crfsuite"
   ]
  },
  {
   "cell_type": "code",
   "execution_count": 1,
   "id": "1d088cbc",
   "metadata": {},
   "outputs": [],
   "source": [
    "import pandas as pd\n",
    "import numpy as np\n",
    "import pickle\n",
    "import re\n",
    "from nltk import pos_tag\n",
    "import spacy\n",
    "from spacy import displacy\n",
    "import sklearn_crfsuite"
   ]
  },
  {
   "cell_type": "code",
   "execution_count": 2,
   "id": "97a7dc4e",
   "metadata": {},
   "outputs": [],
   "source": [
    "class SentenceGetter(object):\n",
    "    \n",
    "    def __init__(self, data):\n",
    "        self.n_sent = 1\n",
    "        self.data = data\n",
    "        self.empty = False\n",
    "        agg_func = lambda s: [(w, p, t) for w, p, t in zip(s['Word'].values.tolist(), \n",
    "                                                           s['POS'].values.tolist(), \n",
    "                                                           s['Tag'].values.tolist())]\n",
    "        self.grouped = self.data.groupby('Sentence #').apply(agg_func)\n",
    "        self.sentences = [s for s in self.grouped]"
   ]
  },
  {
   "cell_type": "code",
   "execution_count": 3,
   "id": "a0dccdc0",
   "metadata": {},
   "outputs": [],
   "source": [
    "def word2features(sent, i):\n",
    "    word = sent[i][0]\n",
    "    postag = sent[i][1]\n",
    "    \n",
    "    features = {\n",
    "        'bias': 1.0, \n",
    "        'word.lower()': word.lower(), \n",
    "        'word[-3:]': word[-3:],\n",
    "        'word[-2:]': word[-2:],\n",
    "        'word.isupper()': word.isupper(),\n",
    "        'word.istitle()': word.istitle(),\n",
    "        'word.isdigit()': word.isdigit(),\n",
    "        'postag': postag,\n",
    "        'postag[:2]': postag[:2],\n",
    "    }\n",
    "    if i > 0:\n",
    "        word1 = sent[i-1][0]\n",
    "        postag1 = sent[i-1][1]\n",
    "        features.update({\n",
    "            '-1:word.lower()': word1.lower(),\n",
    "            '-1:word.istitle()': word1.istitle(),\n",
    "            '-1:word.isupper()': word1.isupper(),\n",
    "            '-1:postag': postag1,\n",
    "            '-1:postag[:2]': postag1[:2],\n",
    "        })\n",
    "    else:\n",
    "        features['BOS'] = True\n",
    "    if i < len(sent)-1:\n",
    "        word1 = sent[i+1][0]\n",
    "        postag1 = sent[i+1][1]\n",
    "        features.update({\n",
    "            '+1:word.lower()': word1.lower(),\n",
    "            '+1:word.istitle()': word1.istitle(),\n",
    "            '+1:word.isupper()': word1.isupper(),\n",
    "            '+1:postag': postag1,\n",
    "            '+1:postag[:2]': postag1[:2],\n",
    "        })\n",
    "    else:\n",
    "        features['EOS'] = True\n",
    "    return features\n",
    "\n",
    "def sent2features(sent):\n",
    "    return [word2features(sent, i) for i in range(len(sent))]\n",
    "\n",
    "def sent2labels(sent):\n",
    "    return [label for token, postag, label in sent]\n",
    "\n",
    "def sent2tokens(sent):\n",
    "    return [token for token, postag, label in sent]"
   ]
  },
  {
   "cell_type": "code",
   "execution_count": 4,
   "id": "9230bdd3-555d-47b5-8e6a-a888b233ddee",
   "metadata": {},
   "outputs": [
    {
     "data": {
      "text/plain": [
       "'/Users/spenno_fr/Projects/nlp-glg-mas/notebooks'"
      ]
     },
     "execution_count": 4,
     "metadata": {},
     "output_type": "execute_result"
    }
   ],
   "source": [
    "import os\n",
    "os.getcwd()"
   ]
  },
  {
   "cell_type": "code",
   "execution_count": 5,
   "id": "4b2b98ce",
   "metadata": {},
   "outputs": [],
   "source": [
    "NER_MODEL_PATH = '/Users/spenno_fr/Projects/nlp-glg-mas/models/ner_crf/'\n",
    "filename = '0.1-maf-crf_ner_model.sav'\n",
    "#pickle.dump(crf, open(filename, 'wb'))\n",
    "\n",
    "crf = pickle.load(open(NER_MODEL_PATH + filename, 'rb'))"
   ]
  },
  {
   "cell_type": "code",
   "execution_count": 6,
   "id": "ea0a5cba",
   "metadata": {},
   "outputs": [],
   "source": [
    "def prep_query(phrase):\n",
    "    split_query = re.findall(r\"[\\w']+|[.,!?;]\", phrase)\n",
    "    \n",
    "    pos_tags = pos_tag(split_query)\n",
    "    \n",
    "    df_query = pd.DataFrame({'Sentence #':['Sentence: 1'] * len(pos_tags),\n",
    "                            'Word':[pair[0] for pair in pos_tags],\n",
    "                            'POS':[pair[1] for pair in pos_tags],\n",
    "                            'Tag':[None] * len(pos_tags)})\n",
    "       \n",
    "    return df_query"
   ]
  },
  {
   "cell_type": "code",
   "execution_count": 106,
   "id": "ea72db0f",
   "metadata": {},
   "outputs": [],
   "source": [
    "# s = \"Donald Trump is a former host on The Apprentice. He is an American businessman and former President.\"\n",
    "# s = 'hello how are you'\n",
    "# s = 'The Second World War started in 1914 and ended in 1918'\n",
    "# s = 'The Korean War started in 1939 and ended in 1945'\n",
    "# s = 'Iraq and Iran were once at war. Saddam Hussein was involved'\n",
    "# s = 'The World Cup is a quadrennial sporting event. FIFA is the governing body involved.'\n",
    "# s = 'Biden under pressure over Afghanistan and Covid as approval ratings slide'\n",
    "# s = 'But the Taliban warned on Monday there would be “consequences” if the US and its allies linger beyond that date.'\n",
    "# s = 'Thousands of American troops have poured back into the country to oversee the chaotic airlift of foreigners and \\\n",
    "# selected Afghans from Kabul airport, and Biden is being called upon to extend a 31 August deadline for full US withdrawal'\n",
    "# s = 'As it leaves Afghanistan in chaos, America’s decline mirrors Britain’s a century ago. It may also invite wider \\\n",
    "# conflict, warns a historian'\n",
    "# s = 'In March the joint study reported that it was “extremely unlikely” that the virus had been released in a laboratory \\\n",
    "# accident. Dr Ben Embarek revealed that this conclusion did not come from a balanced assessment of all the relevant \\\n",
    "# evidence but from a steadfast refusal by the Chinese members of the joint study to support anything stronger.'\n",
    "\n",
    "# Test Cases for Presentation:\n",
    "# s = 'SoftBank needs a Plan B. One year on, prospects for its planned $54bn sale of UK chip designer Arm to Nvidia are souring. Antitrust watchdogs are circling. The European Commission is set to launch a formal competition probe while the UK’s Competition and Markets Authority has dismissed Nvidia’s efforts as insufficient. China, where Arm has its own problems with a rogue joint venture partner, is likely to join the chorus.The deal is far from dead. A handful of Arm clients have rallied round Nvidia. South Korea’s Samsung provides precedent for vertical integration without compromising access to third party clients. Contractual remedies may save the day.'\n",
    "s = 'In Palermo, Sicily’s capital, 80 percent of the hospitalized Covid patients are unvaccinated, and a vast majority of those in the I.C.U. have not received a vaccine, said Dr. Renato Costa, the city’s Covid emergency commissioner. Similar rates are observed throughout the region.“If we had a higher vaccination rate,” said Dr. Costa, “our hospitals would be emptier.”Local doctors said the drop in vaccination rates during the month of August was related to the summer holidays, a time when it is more difficult to distribute shots to the region, which has among Italy’s lowest income and education levels.'\n",
    "\n",
    "x = prep_query(s)"
   ]
  },
  {
   "cell_type": "markdown",
   "id": "834787c9-3950-4733-89b8-8150f942e556",
   "metadata": {},
   "source": [
    "### Preprocess the input query into a cleaned sequence of words"
   ]
  },
  {
   "cell_type": "code",
   "execution_count": 107,
   "id": "27f25ed2",
   "metadata": {},
   "outputs": [],
   "source": [
    "getter_query = SentenceGetter(x)\n",
    "sentences_query = getter_query.sentences\n",
    "\n",
    "X_query = [sent2features(s) for s in sentences_query]\n",
    "X_words = [s[0] for s in sentences_query[0]]"
   ]
  },
  {
   "cell_type": "markdown",
   "id": "6608e83e-ca3d-47ca-a24f-8109038b7ae3",
   "metadata": {},
   "source": [
    "### Predict the Entities using CRFSuite's Trained NER Model"
   ]
  },
  {
   "cell_type": "code",
   "execution_count": 108,
   "id": "1c24e03b-97a5-4a3c-87d3-97d159e4b6d2",
   "metadata": {},
   "outputs": [],
   "source": [
    "pred = crf.predict(X_query)"
   ]
  },
  {
   "cell_type": "markdown",
   "id": "f2a92070-19a2-4471-9caa-619592943480",
   "metadata": {},
   "source": [
    "### Parse the Predicted Entities into a list of tuples pairing the recognized entities with their original word"
   ]
  },
  {
   "cell_type": "code",
   "execution_count": 109,
   "id": "1b26edf3-d38c-4290-9317-ed3554aff844",
   "metadata": {},
   "outputs": [],
   "source": [
    "ents = list(zip(pred[0], X_words))"
   ]
  },
  {
   "cell_type": "code",
   "execution_count": 110,
   "id": "b05b23e2-e8f8-43c4-b9ae-57e8839dd53a",
   "metadata": {},
   "outputs": [
    {
     "data": {
      "text/plain": [
       "[('O', 'In'),\n",
       " ('B-geo', 'Palermo'),\n",
       " ('O', ','),\n",
       " ('B-geo', 'Sicily'),\n",
       " ('O', 's'),\n",
       " ('O', 'capital'),\n",
       " ('O', ','),\n",
       " ('O', '80'),\n",
       " ('O', 'percent'),\n",
       " ('O', 'of')]"
      ]
     },
     "execution_count": 110,
     "metadata": {},
     "output_type": "execute_result"
    }
   ],
   "source": [
    "# Check Output:\n",
    "ents[:10]"
   ]
  },
  {
   "cell_type": "markdown",
   "id": "fcdeea20-5fa7-4bdb-a962-4480b507868c",
   "metadata": {},
   "source": [
    "### Filter to only include the entities which have valid (non-O) tags"
   ]
  },
  {
   "cell_type": "code",
   "execution_count": 111,
   "id": "cfbdd8ce-23a2-44f4-9df7-4aa378457c6c",
   "metadata": {},
   "outputs": [],
   "source": [
    "named_ents = [pair for pair in ents if pair[0] != 'O']"
   ]
  },
  {
   "cell_type": "code",
   "execution_count": 112,
   "id": "cd94b6d6-8ca4-48e7-9e27-f9d537d2d5d3",
   "metadata": {},
   "outputs": [
    {
     "data": {
      "text/plain": [
       "[('B-geo', 'Palermo'),\n",
       " ('B-geo', 'Sicily'),\n",
       " ('B-org', 'Covid'),\n",
       " ('B-org', 'C'),\n",
       " ('B-org', 'U'),\n",
       " ('B-geo', 'Dr'),\n",
       " ('B-per', 'Renato'),\n",
       " ('I-per', 'Costa'),\n",
       " ('B-geo', 'Dr'),\n",
       " ('B-geo', 'Costa'),\n",
       " ('B-tim', 'of'),\n",
       " ('I-tim', 'August'),\n",
       " ('B-tim', 'summer'),\n",
       " ('B-geo', 'Italy')]"
      ]
     },
     "execution_count": 112,
     "metadata": {},
     "output_type": "execute_result"
    }
   ],
   "source": [
    "# Check Output:\n",
    "named_ents"
   ]
  },
  {
   "cell_type": "code",
   "execution_count": 30,
   "id": "9940d830-e6f2-47c2-80c5-49cb863125c5",
   "metadata": {},
   "outputs": [],
   "source": [
    "# import en_core_web_sm\n",
    "# nlp = en_core_web_sm.load()"
   ]
  },
  {
   "cell_type": "code",
   "execution_count": 12,
   "id": "19f0312b-5222-4b6d-8876-00e8765a155a",
   "metadata": {},
   "outputs": [],
   "source": [
    "nlp = spacy.load('en_core_web_sm')\n",
    "# docs = []\n",
    "# for text, annot in TRAIN_DATA:\n",
    "#     doc = nlp(text)\n",
    "#     tags = biluo_tags_from_offsets(doc, annot['entities'])\n",
    "#     # then convert L->I and U->B to have IOB tags for the tokens in the doc"
   ]
  },
  {
   "cell_type": "code",
   "execution_count": 25,
   "id": "01a200d2-bddc-42ae-b81c-f486ebaa35ce",
   "metadata": {},
   "outputs": [],
   "source": [
    "# X_words"
   ]
  },
  {
   "cell_type": "code",
   "execution_count": 22,
   "id": "c0943412-035c-4584-bbbf-f24734418388",
   "metadata": {},
   "outputs": [],
   "source": [
    "# words = []\n",
    "# for tag, word in ents:\n",
    "#     words.append(word)"
   ]
  },
  {
   "cell_type": "code",
   "execution_count": 78,
   "id": "b78c7332-d345-4af2-a71d-f3eef477dbeb",
   "metadata": {},
   "outputs": [],
   "source": [
    "# doc = nlp(s)"
   ]
  },
  {
   "cell_type": "code",
   "execution_count": 26,
   "id": "9c2017c7-253c-46a4-807a-a6d58bef3da0",
   "metadata": {},
   "outputs": [
    {
     "name": "stdout",
     "output_type": "stream",
     "text": [
      "Help on function render in module spacy.displacy:\n",
      "\n",
      "render(docs: Union[Iterable[Union[spacy.tokens.doc.Doc, spacy.tokens.span.Span]], spacy.tokens.doc.Doc, spacy.tokens.span.Span], style: str = 'dep', page: bool = False, minify: bool = False, jupyter: Optional[bool] = None, options: Dict[str, Any] = {}, manual: bool = False) -> str\n",
      "    Render displaCy visualisation.\n",
      "    \n",
      "    docs (Union[Iterable[Doc], Doc]): Document(s) to visualise.\n",
      "    style (str): Visualisation style, 'dep' or 'ent'.\n",
      "    page (bool): Render markup as full HTML page.\n",
      "    minify (bool): Minify HTML markup.\n",
      "    jupyter (bool): Override Jupyter auto-detection.\n",
      "    options (dict): Visualiser-specific options, e.g. colors.\n",
      "    manual (bool): Don't parse `Doc` and instead expect a dict/list of dicts.\n",
      "    RETURNS (str): Rendered HTML markup.\n",
      "    \n",
      "    DOCS: https://spacy.io/api/top-level#displacy.render\n",
      "    USAGE: https://spacy.io/usage/visualizers\n",
      "\n"
     ]
    }
   ],
   "source": [
    "# help(displacy.render)"
   ]
  },
  {
   "cell_type": "code",
   "execution_count": 87,
   "id": "29d2a4eb",
   "metadata": {},
   "outputs": [],
   "source": [
    "# Attempt \n",
    "# displacy.render(doc, jupyter=True, style = 'ent')"
   ]
  },
  {
   "cell_type": "code",
   "execution_count": 88,
   "id": "7e1242ec-7c61-4171-aee5-c3e3b14fda03",
   "metadata": {},
   "outputs": [],
   "source": [
    "# help(doc.char_span)"
   ]
  },
  {
   "cell_type": "code",
   "execution_count": 89,
   "id": "f39816be-9b00-4ad1-a41f-dd41f6cafb0f",
   "metadata": {},
   "outputs": [],
   "source": [
    "# # import spacy\n",
    "# # from spacy import displacy\n",
    "\n",
    "# nlp = spacy.blank('en')\n",
    "# raw_text = \"The Indian Space Research Organisation or is the national space agency of India, headquartered in Bengaluru. It operates under Department of Space which is directly overseen by the Prime Minister of India while Chairman of ISRO acts as executive of DOS as well.\"\n",
    "\n",
    "# doc = nlp.make_doc(raw_text)\n",
    "# spans = [[4, 10, \"POS\"], [838, 853, \"ORG\"]]   #[870, 888, \"POS\"], [892, 920, \"ORG\"], [925, 929, \"ENGLEVEL\"],          [987, 1002, \"SKILL\"]\n",
    "# ents = []\n",
    "# for span_start, span_end, label in spans:\n",
    "#     print(span_start, span_end, label)\n",
    "\n",
    "#     ent = doc.char_span(span_start, span_end, label=label)\n",
    "    \n",
    "#     print(ent)\n",
    "#     if ent is None:\n",
    "#         continue\n",
    "\n",
    "#     ents.append(ent)\n",
    "\n",
    "# doc.ents = ents\n",
    "# displacy.render(doc, style=\"ent\", jupyter=True)"
   ]
  },
  {
   "cell_type": "code",
   "execution_count": 90,
   "id": "44a152a7-25fe-4a1d-ab8b-4a2887238bde",
   "metadata": {},
   "outputs": [],
   "source": [
    "# len(raw_text)"
   ]
  },
  {
   "cell_type": "code",
   "execution_count": 91,
   "id": "212328d1-3f95-42ff-ad8f-fbb239611cc9",
   "metadata": {},
   "outputs": [],
   "source": [
    "# doc"
   ]
  },
  {
   "cell_type": "code",
   "execution_count": 92,
   "id": "ed4bcf9d-bfea-4963-853c-c67990b7b120",
   "metadata": {},
   "outputs": [],
   "source": [
    "# spacy.util.get_words_and_spaces(words, s)"
   ]
  },
  {
   "cell_type": "code",
   "execution_count": 121,
   "id": "c27a0771-253b-4bb6-8413-96c3f369af44",
   "metadata": {},
   "outputs": [],
   "source": [
    "named_ent_tags = [tag.upper() for tag, word in ents]"
   ]
  },
  {
   "cell_type": "code",
   "execution_count": 122,
   "id": "2fcd493d-e05e-4836-aed3-09f625d8d639",
   "metadata": {},
   "outputs": [
    {
     "data": {
      "text/plain": [
       "['O', 'B-GEO', 'O', 'B-GEO', 'O', 'O', 'O', 'O', 'O', 'O']"
      ]
     },
     "execution_count": 122,
     "metadata": {},
     "output_type": "execute_result"
    }
   ],
   "source": [
    "# Check Output\n",
    "named_ent_tags[:10]"
   ]
  },
  {
   "cell_type": "code",
   "execution_count": 115,
   "id": "7c038e46-6f3f-4b26-a3ed-74a39aa6c6e8",
   "metadata": {},
   "outputs": [
    {
     "name": "stdout",
     "output_type": "stream",
     "text": [
      "Help on function get_words_and_spaces in module spacy.util:\n",
      "\n",
      "get_words_and_spaces(words: Iterable[str], text: str) -> Tuple[List[str], List[bool]]\n",
      "    Given a list of words and a text, reconstruct the original tokens and\n",
      "    return a list of words and spaces that can be used to create a Doc. This\n",
      "    can help recover destructive tokenization that didn't preserve any\n",
      "    whitespace information.\n",
      "    \n",
      "    words (Iterable[str]): The words.\n",
      "    text (str): The original text.\n",
      "    RETURNS (Tuple[List[str], List[bool]]): The words and spaces.\n",
      "\n"
     ]
    }
   ],
   "source": [
    "help(spacy.util.get_words_and_spaces)"
   ]
  },
  {
   "cell_type": "code",
   "execution_count": 116,
   "id": "3fafa82f-282e-4472-9f9c-df0c0bb20449",
   "metadata": {},
   "outputs": [
    {
     "data": {
      "text/plain": [
       "'In Palermo, Sicily’s capital, 80 percent of the hospitalized Covid patients are unvaccinated, and a vast majority of those in the I.C.U. have not received a vaccine, said Dr. Renato Costa, the city’s Covid emergency commissioner. Similar rates are observed throughout the region.“If we had a higher vaccination rate,” said Dr. Costa, “our hospitals would be emptier.”Local doctors said the drop in vaccination rates during the month of August was related to the summer holidays, a time when it is more difficult to distribute shots to the region, which has among Italy’s lowest income and education levels.'"
      ]
     },
     "execution_count": 116,
     "metadata": {},
     "output_type": "execute_result"
    }
   ],
   "source": [
    "# Check Original Input String\n",
    "s"
   ]
  },
  {
   "cell_type": "code",
   "execution_count": 117,
   "id": "137eddb1-3f74-485e-a8e0-6c1caf6a81fc",
   "metadata": {},
   "outputs": [],
   "source": [
    "# spacy.training.iob_utils.biluo_tags_to_spans"
   ]
  },
  {
   "cell_type": "markdown",
   "id": "66f18823-b980-4a90-b6a5-4bc278c9251f",
   "metadata": {},
   "source": [
    "### Create a SpaCy Doc using the custom tags from CRFSuite and the original sequence of input words"
   ]
  },
  {
   "cell_type": "code",
   "execution_count": 123,
   "id": "b4ee5d97-4115-4a42-8cf7-82fb54ca3b60",
   "metadata": {},
   "outputs": [],
   "source": [
    "from spacy.tokens import Doc\n",
    "doc = Doc(nlp.vocab, words= X_words, ents = named_ent_tags)"
   ]
  },
  {
   "cell_type": "code",
   "execution_count": 124,
   "id": "5bed92ae-49fb-4d05-9396-6041e038c443",
   "metadata": {},
   "outputs": [],
   "source": [
    "# X_words"
   ]
  },
  {
   "cell_type": "code",
   "execution_count": 125,
   "id": "b34efcb4-3a97-495f-8b05-9bc81869a5c6",
   "metadata": {},
   "outputs": [
    {
     "data": {
      "text/plain": [
       "'<div class=\"entities\" style=\"line-height: 2.5; direction: ltr\">In \\n<mark class=\"entity\" style=\"background: #ddd; padding: 0.45em 0.6em; margin: 0 0.25em; line-height: 1; border-radius: 0.35em;\">\\n    Palermo\\n    <span style=\"font-size: 0.8em; font-weight: bold; line-height: 1; border-radius: 0.35em; vertical-align: middle; margin-left: 0.5rem\">GEO</span>\\n</mark>\\n , \\n<mark class=\"entity\" style=\"background: #ddd; padding: 0.45em 0.6em; margin: 0 0.25em; line-height: 1; border-radius: 0.35em;\">\\n    Sicily\\n    <span style=\"font-size: 0.8em; font-weight: bold; line-height: 1; border-radius: 0.35em; vertical-align: middle; margin-left: 0.5rem\">GEO</span>\\n</mark>\\n s capital , 80 percent of the hospitalized \\n<mark class=\"entity\" style=\"background: #7aecec; padding: 0.45em 0.6em; margin: 0 0.25em; line-height: 1; border-radius: 0.35em;\">\\n    Covid\\n    <span style=\"font-size: 0.8em; font-weight: bold; line-height: 1; border-radius: 0.35em; vertical-align: middle; margin-left: 0.5rem\">ORG</span>\\n</mark>\\n patients are unvaccinated , and a vast majority of those in the I . \\n<mark class=\"entity\" style=\"background: #7aecec; padding: 0.45em 0.6em; margin: 0 0.25em; line-height: 1; border-radius: 0.35em;\">\\n    C\\n    <span style=\"font-size: 0.8em; font-weight: bold; line-height: 1; border-radius: 0.35em; vertical-align: middle; margin-left: 0.5rem\">ORG</span>\\n</mark>\\n . \\n<mark class=\"entity\" style=\"background: #7aecec; padding: 0.45em 0.6em; margin: 0 0.25em; line-height: 1; border-radius: 0.35em;\">\\n    U\\n    <span style=\"font-size: 0.8em; font-weight: bold; line-height: 1; border-radius: 0.35em; vertical-align: middle; margin-left: 0.5rem\">ORG</span>\\n</mark>\\n . have not received a vaccine , said \\n<mark class=\"entity\" style=\"background: #ddd; padding: 0.45em 0.6em; margin: 0 0.25em; line-height: 1; border-radius: 0.35em;\">\\n    Dr\\n    <span style=\"font-size: 0.8em; font-weight: bold; line-height: 1; border-radius: 0.35em; vertical-align: middle; margin-left: 0.5rem\">GEO</span>\\n</mark>\\n . \\n<mark class=\"entity\" style=\"background: #ddd; padding: 0.45em 0.6em; margin: 0 0.25em; line-height: 1; border-radius: 0.35em;\">\\n    Renato Costa\\n    <span style=\"font-size: 0.8em; font-weight: bold; line-height: 1; border-radius: 0.35em; vertical-align: middle; margin-left: 0.5rem\">PER</span>\\n</mark>\\n , the city s Covid emergency commissioner . Similar rates are observed throughout the region . If we had a higher vaccination rate , said \\n<mark class=\"entity\" style=\"background: #ddd; padding: 0.45em 0.6em; margin: 0 0.25em; line-height: 1; border-radius: 0.35em;\">\\n    Dr\\n    <span style=\"font-size: 0.8em; font-weight: bold; line-height: 1; border-radius: 0.35em; vertical-align: middle; margin-left: 0.5rem\">GEO</span>\\n</mark>\\n . \\n<mark class=\"entity\" style=\"background: #ddd; padding: 0.45em 0.6em; margin: 0 0.25em; line-height: 1; border-radius: 0.35em;\">\\n    Costa\\n    <span style=\"font-size: 0.8em; font-weight: bold; line-height: 1; border-radius: 0.35em; vertical-align: middle; margin-left: 0.5rem\">GEO</span>\\n</mark>\\n , our hospitals would be emptier . Local doctors said the drop in vaccination rates during the month \\n<mark class=\"entity\" style=\"background: #ddd; padding: 0.45em 0.6em; margin: 0 0.25em; line-height: 1; border-radius: 0.35em;\">\\n    of August\\n    <span style=\"font-size: 0.8em; font-weight: bold; line-height: 1; border-radius: 0.35em; vertical-align: middle; margin-left: 0.5rem\">TIM</span>\\n</mark>\\n was related to the \\n<mark class=\"entity\" style=\"background: #ddd; padding: 0.45em 0.6em; margin: 0 0.25em; line-height: 1; border-radius: 0.35em;\">\\n    summer\\n    <span style=\"font-size: 0.8em; font-weight: bold; line-height: 1; border-radius: 0.35em; vertical-align: middle; margin-left: 0.5rem\">TIM</span>\\n</mark>\\n holidays , a time when it is more difficult to distribute shots to the region , which has among \\n<mark class=\"entity\" style=\"background: #ddd; padding: 0.45em 0.6em; margin: 0 0.25em; line-height: 1; border-radius: 0.35em;\">\\n    Italy\\n    <span style=\"font-size: 0.8em; font-weight: bold; line-height: 1; border-radius: 0.35em; vertical-align: middle; margin-left: 0.5rem\">GEO</span>\\n</mark>\\n s lowest income and education levels . </div>'"
      ]
     },
     "execution_count": 125,
     "metadata": {},
     "output_type": "execute_result"
    }
   ],
   "source": [
    "displacy.render(doc, style = \"ent\", jupyter = False)"
   ]
  },
  {
   "cell_type": "code",
   "execution_count": 75,
   "id": "319f9411-b4da-44f6-b582-74407434caee",
   "metadata": {},
   "outputs": [],
   "source": [
    "# [ent for ent in named_ent_tags if len(ent) > 1]"
   ]
  },
  {
   "cell_type": "code",
   "execution_count": null,
   "id": "729b2257-27b9-4276-bf2b-cd55fed2ec51",
   "metadata": {},
   "outputs": [],
   "source": []
  }
 ],
 "metadata": {
  "kernelspec": {
   "display_name": "Python 3 (ipykernel)",
   "language": "python",
   "name": "python3"
  },
  "language_info": {
   "codemirror_mode": {
    "name": "ipython",
    "version": 3
   },
   "file_extension": ".py",
   "mimetype": "text/x-python",
   "name": "python",
   "nbconvert_exporter": "python",
   "pygments_lexer": "ipython3",
   "version": "3.9.6"
  }
 },
 "nbformat": 4,
 "nbformat_minor": 5
}
