{
 "cells": [
  {
   "cell_type": "code",
   "execution_count": 13,
   "id": "c953e86b-5235-48cf-8125-7bb650f1dfa3",
   "metadata": {},
   "outputs": [],
   "source": [
    "# !python -m spacy download en_core_web_sm"
   ]
  },
  {
   "cell_type": "code",
   "execution_count": 4,
   "id": "21a5e48a-b06f-4039-90c5-1f01281e9432",
   "metadata": {},
   "outputs": [],
   "source": [
    "# !pip install spacy"
   ]
  },
  {
   "cell_type": "code",
   "execution_count": 16,
   "id": "589f41c6-0375-4674-a4d4-02affff4dc90",
   "metadata": {},
   "outputs": [],
   "source": [
    "# !pip install sklearn_crfsuite"
   ]
  },
  {
   "cell_type": "code",
   "execution_count": 1,
   "id": "1d088cbc",
   "metadata": {},
   "outputs": [],
   "source": [
    "import pandas as pd\n",
    "import numpy as np\n",
    "import pickle\n",
    "import re\n",
    "from nltk import pos_tag\n",
    "import spacy\n",
    "from spacy import displacy\n",
    "import sklearn_crfsuite"
   ]
  },
  {
   "cell_type": "code",
   "execution_count": 2,
   "id": "97a7dc4e",
   "metadata": {},
   "outputs": [],
   "source": [
    "class SentenceGetter(object):\n",
    "    \n",
    "    def __init__(self, data):\n",
    "        self.n_sent = 1\n",
    "        self.data = data\n",
    "        self.empty = False\n",
    "        agg_func = lambda s: [(w, p, t) for w, p, t in zip(s['Word'].values.tolist(), \n",
    "                                                           s['POS'].values.tolist(), \n",
    "                                                           s['Tag'].values.tolist())]\n",
    "        self.grouped = self.data.groupby('Sentence #').apply(agg_func)\n",
    "        self.sentences = [s for s in self.grouped]"
   ]
  },
  {
   "cell_type": "code",
   "execution_count": 3,
   "id": "a0dccdc0",
   "metadata": {},
   "outputs": [],
   "source": [
    "def word2features(sent, i):\n",
    "    word = sent[i][0]\n",
    "    postag = sent[i][1]\n",
    "    \n",
    "    features = {\n",
    "        'bias': 1.0, \n",
    "        'word.lower()': word.lower(), \n",
    "        'word[-3:]': word[-3:],\n",
    "        'word[-2:]': word[-2:],\n",
    "        'word.isupper()': word.isupper(),\n",
    "        'word.istitle()': word.istitle(),\n",
    "        'word.isdigit()': word.isdigit(),\n",
    "        'postag': postag,\n",
    "        'postag[:2]': postag[:2],\n",
    "    }\n",
    "    if i > 0:\n",
    "        word1 = sent[i-1][0]\n",
    "        postag1 = sent[i-1][1]\n",
    "        features.update({\n",
    "            '-1:word.lower()': word1.lower(),\n",
    "            '-1:word.istitle()': word1.istitle(),\n",
    "            '-1:word.isupper()': word1.isupper(),\n",
    "            '-1:postag': postag1,\n",
    "            '-1:postag[:2]': postag1[:2],\n",
    "        })\n",
    "    else:\n",
    "        features['BOS'] = True\n",
    "    if i < len(sent)-1:\n",
    "        word1 = sent[i+1][0]\n",
    "        postag1 = sent[i+1][1]\n",
    "        features.update({\n",
    "            '+1:word.lower()': word1.lower(),\n",
    "            '+1:word.istitle()': word1.istitle(),\n",
    "            '+1:word.isupper()': word1.isupper(),\n",
    "            '+1:postag': postag1,\n",
    "            '+1:postag[:2]': postag1[:2],\n",
    "        })\n",
    "    else:\n",
    "        features['EOS'] = True\n",
    "    return features\n",
    "def sent2features(sent):\n",
    "    return [word2features(sent, i) for i in range(len(sent))]\n",
    "def sent2labels(sent):\n",
    "    return [label for token, postag, label in sent]\n",
    "def sent2tokens(sent):\n",
    "    return [token for token, postag, label in sent]"
   ]
  },
  {
   "cell_type": "code",
   "execution_count": 4,
   "id": "9230bdd3-555d-47b5-8e6a-a888b233ddee",
   "metadata": {},
   "outputs": [
    {
     "data": {
      "text/plain": [
       "'/Users/spenno_fr/Projects/nlp-glg-mas/notebooks'"
      ]
     },
     "execution_count": 4,
     "metadata": {},
     "output_type": "execute_result"
    }
   ],
   "source": [
    "import os\n",
    "os.getcwd()"
   ]
  },
  {
   "cell_type": "code",
   "execution_count": 5,
   "id": "4b2b98ce",
   "metadata": {},
   "outputs": [],
   "source": [
    "NER_MODEL_PATH = '/Users/spenno_fr/Projects/nlp-glg-mas/models/ner_crf/'\n",
    "filename = '0.1-maf-crf_ner_model.sav'\n",
    "#pickle.dump(crf, open(filename, 'wb'))\n",
    "\n",
    "crf = pickle.load(open(NER_MODEL_PATH + filename, 'rb'))"
   ]
  },
  {
   "cell_type": "code",
   "execution_count": 6,
   "id": "ea0a5cba",
   "metadata": {},
   "outputs": [],
   "source": [
    "def prep_query(phrase):\n",
    "    split_query = re.findall(r\"[\\w']+|[.,!?;]\", phrase)\n",
    "    \n",
    "    pos_tags = pos_tag(split_query)\n",
    "    \n",
    "    df_query = pd.DataFrame({'Sentence #':['Sentence: 1'] * len(pos_tags),\n",
    "                            'Word':[pair[0] for pair in pos_tags],\n",
    "                            'POS':[pair[1] for pair in pos_tags],\n",
    "                            'Tag':[None] * len(pos_tags)})\n",
    "       \n",
    "    return df_query"
   ]
  },
  {
   "cell_type": "code",
   "execution_count": 53,
   "id": "ea72db0f",
   "metadata": {},
   "outputs": [],
   "source": [
    "s = \"Donald Trump is a former host on The Apprentice. He is an American businessman and former President.\"\n",
    "s = 'hello how are you'\n",
    "s = 'The Second World War started in 1914 and ended in 1918'\n",
    "s = 'The Korean War started in 1939 and ended in 1945'\n",
    "s = 'Iraq and Iran were once at war. Saddam Hussein was involved'\n",
    "s = 'The World Cup is a quadrennial sporting event. FIFA is the governing body involved.'\n",
    "s = 'Biden under pressure over Afghanistan and Covid as approval ratings slide'\n",
    "s = 'But the Taliban warned on Monday there would be “consequences” if the US and its allies linger beyond that date.'\n",
    "s = 'Thousands of American troops have poured back into the country to oversee the chaotic airlift of foreigners and \\\n",
    "selected Afghans from Kabul airport, and Biden is being called upon to extend a 31 August deadline for full US withdrawal'\n",
    "s = 'As it leaves Afghanistan in chaos, America’s decline mirrors Britain’s a century ago. It may also invite wider \\\n",
    "conflict, warns a historian'\n",
    "s = 'In March the joint study reported that it was “extremely unlikely” that the virus had been released in a laboratory \\\n",
    "accident. Dr Ben Embarek revealed that this conclusion did not come from a balanced assessment of all the relevant \\\n",
    "evidence but from a steadfast refusal by the Chinese members of the joint study to support anything stronger.'\n",
    "\n",
    "\n",
    "x = prep_query(s)"
   ]
  },
  {
   "cell_type": "code",
   "execution_count": 54,
   "id": "27f25ed2",
   "metadata": {},
   "outputs": [
    {
     "data": {
      "text/plain": [
       "[('B-tim', 'March'),\n",
       " ('B-per', 'Dr'),\n",
       " ('I-per', 'Ben'),\n",
       " ('I-per', 'Embarek'),\n",
       " ('B-gpe', 'Chinese')]"
      ]
     },
     "execution_count": 54,
     "metadata": {},
     "output_type": "execute_result"
    }
   ],
   "source": [
    "getter_query = SentenceGetter(x)\n",
    "sentences_query = getter_query.sentences\n",
    "\n",
    "X_query = [sent2features(s) for s in sentences_query]\n",
    "X_words = [s[0] for s in sentences_query[0]]\n",
    "\n",
    "pred = crf.predict(X_query)\n",
    "\n",
    "ents = list(zip(pred[0],X_words))\n",
    "named_ents = [pair for pair in ents if pair[0] != 'O']\n",
    "named_ents"
   ]
  },
  {
   "cell_type": "code",
   "execution_count": 30,
   "id": "9940d830-e6f2-47c2-80c5-49cb863125c5",
   "metadata": {},
   "outputs": [],
   "source": [
    "# import en_core_web_sm\n",
    "# nlp = en_core_web_sm.load()"
   ]
  },
  {
   "cell_type": "code",
   "execution_count": 12,
   "id": "19f0312b-5222-4b6d-8876-00e8765a155a",
   "metadata": {},
   "outputs": [],
   "source": [
    "nlp = spacy.load('en_core_web_sm')\n",
    "# docs = []\n",
    "# for text, annot in TRAIN_DATA:\n",
    "#     doc = nlp(text)\n",
    "#     tags = biluo_tags_from_offsets(doc, annot['entities'])\n",
    "#     # then convert L->I and U->B to have IOB tags for the tokens in the doc"
   ]
  },
  {
   "cell_type": "code",
   "execution_count": 25,
   "id": "01a200d2-bddc-42ae-b81c-f486ebaa35ce",
   "metadata": {},
   "outputs": [],
   "source": [
    "# X_words"
   ]
  },
  {
   "cell_type": "code",
   "execution_count": 22,
   "id": "c0943412-035c-4584-bbbf-f24734418388",
   "metadata": {},
   "outputs": [],
   "source": [
    "words = []\n",
    "for tag, word in ents:\n",
    "    words.append(word)"
   ]
  },
  {
   "cell_type": "code",
   "execution_count": 31,
   "id": "b78c7332-d345-4af2-a71d-f3eef477dbeb",
   "metadata": {},
   "outputs": [],
   "source": [
    "doc = nlp(s)"
   ]
  },
  {
   "cell_type": "code",
   "execution_count": 26,
   "id": "9c2017c7-253c-46a4-807a-a6d58bef3da0",
   "metadata": {},
   "outputs": [
    {
     "name": "stdout",
     "output_type": "stream",
     "text": [
      "Help on function render in module spacy.displacy:\n",
      "\n",
      "render(docs: Union[Iterable[Union[spacy.tokens.doc.Doc, spacy.tokens.span.Span]], spacy.tokens.doc.Doc, spacy.tokens.span.Span], style: str = 'dep', page: bool = False, minify: bool = False, jupyter: Optional[bool] = None, options: Dict[str, Any] = {}, manual: bool = False) -> str\n",
      "    Render displaCy visualisation.\n",
      "    \n",
      "    docs (Union[Iterable[Doc], Doc]): Document(s) to visualise.\n",
      "    style (str): Visualisation style, 'dep' or 'ent'.\n",
      "    page (bool): Render markup as full HTML page.\n",
      "    minify (bool): Minify HTML markup.\n",
      "    jupyter (bool): Override Jupyter auto-detection.\n",
      "    options (dict): Visualiser-specific options, e.g. colors.\n",
      "    manual (bool): Don't parse `Doc` and instead expect a dict/list of dicts.\n",
      "    RETURNS (str): Rendered HTML markup.\n",
      "    \n",
      "    DOCS: https://spacy.io/api/top-level#displacy.render\n",
      "    USAGE: https://spacy.io/usage/visualizers\n",
      "\n"
     ]
    }
   ],
   "source": [
    "help(displacy.render)"
   ]
  },
  {
   "cell_type": "code",
   "execution_count": 32,
   "id": "29d2a4eb",
   "metadata": {},
   "outputs": [
    {
     "data": {
      "text/html": [
       "<span class=\"tex2jax_ignore\"><div class=\"entities\" style=\"line-height: 2.5; direction: ltr\">In \n",
       "<mark class=\"entity\" style=\"background: #bfe1d9; padding: 0.45em 0.6em; margin: 0 0.25em; line-height: 1; border-radius: 0.35em;\">\n",
       "    March\n",
       "    <span style=\"font-size: 0.8em; font-weight: bold; line-height: 1; border-radius: 0.35em; vertical-align: middle; margin-left: 0.5rem\">DATE</span>\n",
       "</mark>\n",
       " the joint study reported that it was “extremely unlikely” that the virus had been released in a laboratory accident. Dr \n",
       "<mark class=\"entity\" style=\"background: #aa9cfc; padding: 0.45em 0.6em; margin: 0 0.25em; line-height: 1; border-radius: 0.35em;\">\n",
       "    Ben Embarek\n",
       "    <span style=\"font-size: 0.8em; font-weight: bold; line-height: 1; border-radius: 0.35em; vertical-align: middle; margin-left: 0.5rem\">PERSON</span>\n",
       "</mark>\n",
       " revealed that this conclusion did not come from a balanced assessment of all the relevant evidence but from a steadfast refusal by the \n",
       "<mark class=\"entity\" style=\"background: #c887fb; padding: 0.45em 0.6em; margin: 0 0.25em; line-height: 1; border-radius: 0.35em;\">\n",
       "    Chinese\n",
       "    <span style=\"font-size: 0.8em; font-weight: bold; line-height: 1; border-radius: 0.35em; vertical-align: middle; margin-left: 0.5rem\">NORP</span>\n",
       "</mark>\n",
       " members of the joint study to support anything stronger.</div></span>"
      ],
      "text/plain": [
       "<IPython.core.display.HTML object>"
      ]
     },
     "metadata": {},
     "output_type": "display_data"
    }
   ],
   "source": [
    "# Attempt \n",
    "displacy.render(doc, jupyter=True, style = 'ent')"
   ]
  },
  {
   "cell_type": "code",
   "execution_count": 42,
   "id": "7e1242ec-7c61-4171-aee5-c3e3b14fda03",
   "metadata": {},
   "outputs": [
    {
     "name": "stdout",
     "output_type": "stream",
     "text": [
      "Help on built-in function char_span:\n",
      "\n",
      "char_span(...) method of spacy.tokens.doc.Doc instance\n",
      "    Doc.char_span(self, int start_idx, int end_idx, label=0, kb_id=0, vector=None, alignment_mode='strict')\n",
      "    Create a `Span` object from the slice\n",
      "            `doc.text[start_idx : end_idx]`. Returns None if no valid `Span` can be\n",
      "            created.\n",
      "    \n",
      "            doc (Doc): The parent document.\n",
      "            start_idx (int): The index of the first character of the span.\n",
      "            end_idx (int): The index of the first character after the span.\n",
      "            label (uint64 or string): A label to attach to the Span, e.g. for\n",
      "                named entities.\n",
      "            kb_id (uint64 or string):  An ID from a KB to capture the meaning of a\n",
      "                named entity.\n",
      "            vector (ndarray[ndim=1, dtype='float32']): A meaning representation of\n",
      "                the span.\n",
      "            alignment_mode (str): How character indices are aligned to token\n",
      "                boundaries. Options: \"strict\" (character indices must be aligned\n",
      "                with token boundaries), \"contract\" (span of all tokens completely\n",
      "                within the character span), \"expand\" (span of all tokens at least\n",
      "                partially covered by the character span). Defaults to \"strict\".\n",
      "            RETURNS (Span): The newly constructed object.\n",
      "    \n",
      "            DOCS: https://spacy.io/api/doc#char_span\n",
      "\n"
     ]
    }
   ],
   "source": [
    "help(doc.char_span)"
   ]
  },
  {
   "cell_type": "code",
   "execution_count": 44,
   "id": "f39816be-9b00-4ad1-a41f-dd41f6cafb0f",
   "metadata": {},
   "outputs": [
    {
     "name": "stdout",
     "output_type": "stream",
     "text": [
      "4 10 POS\n",
      "Indian\n",
      "838 853 ORG\n",
      "None\n"
     ]
    },
    {
     "data": {
      "text/html": [
       "<span class=\"tex2jax_ignore\"><div class=\"entities\" style=\"line-height: 2.5; direction: ltr\">The \n",
       "<mark class=\"entity\" style=\"background: #ddd; padding: 0.45em 0.6em; margin: 0 0.25em; line-height: 1; border-radius: 0.35em;\">\n",
       "    Indian\n",
       "    <span style=\"font-size: 0.8em; font-weight: bold; line-height: 1; border-radius: 0.35em; vertical-align: middle; margin-left: 0.5rem\">POS</span>\n",
       "</mark>\n",
       " Space Research Organisation or is the national space agency of India, headquartered in Bengaluru. It operates under Department of Space which is directly overseen by the Prime Minister of India while Chairman of ISRO acts as executive of DOS as well.</div></span>"
      ],
      "text/plain": [
       "<IPython.core.display.HTML object>"
      ]
     },
     "metadata": {},
     "output_type": "display_data"
    }
   ],
   "source": [
    "# import spacy\n",
    "# from spacy import displacy\n",
    "\n",
    "nlp = spacy.blank('en')\n",
    "raw_text = \"The Indian Space Research Organisation or is the national space agency of India, headquartered in Bengaluru. It operates under Department of Space which is directly overseen by the Prime Minister of India while Chairman of ISRO acts as executive of DOS as well.\"\n",
    "\n",
    "doc = nlp.make_doc(raw_text)\n",
    "spans = [[4, 10, \"POS\"], [838, 853, \"ORG\"]]   #[870, 888, \"POS\"], [892, 920, \"ORG\"], [925, 929, \"ENGLEVEL\"],          [987, 1002, \"SKILL\"]\n",
    "ents = []\n",
    "for span_start, span_end, label in spans:\n",
    "    print(span_start, span_end, label)\n",
    "\n",
    "    ent = doc.char_span(span_start, span_end, label=label)\n",
    "    \n",
    "    print(ent)\n",
    "    if ent is None:\n",
    "        continue\n",
    "\n",
    "    ents.append(ent)\n",
    "\n",
    "doc.ents = ents\n",
    "displacy.render(doc, style=\"ent\", jupyter=True)"
   ]
  },
  {
   "cell_type": "code",
   "execution_count": 43,
   "id": "44a152a7-25fe-4a1d-ab8b-4a2887238bde",
   "metadata": {},
   "outputs": [
    {
     "data": {
      "text/plain": [
       "261"
      ]
     },
     "execution_count": 43,
     "metadata": {},
     "output_type": "execute_result"
    }
   ],
   "source": [
    "len(raw_text)"
   ]
  },
  {
   "cell_type": "code",
   "execution_count": 35,
   "id": "212328d1-3f95-42ff-ad8f-fbb239611cc9",
   "metadata": {},
   "outputs": [
    {
     "data": {
      "text/plain": [
       "The Indian Space Research Organisation or is the national space agency of India, headquartered in Bengaluru. It operates under Department of Space which is directly overseen by the Prime Minister of India while Chairman of ISRO acts as executive of DOS as well."
      ]
     },
     "execution_count": 35,
     "metadata": {},
     "output_type": "execute_result"
    }
   ],
   "source": [
    "doc"
   ]
  },
  {
   "cell_type": "code",
   "execution_count": 62,
   "id": "ed4bcf9d-bfea-4963-853c-c67990b7b120",
   "metadata": {},
   "outputs": [
    {
     "ename": "ValueError",
     "evalue": "[E194] Unable to aligned mismatched text 'In March the joint study reported that it was “extremely unlikely” that the virus had been released in a laboratory accident. Dr Ben Embarek revealed that this conclusion did not come from a balanced assessment of all the relevant evidence but from a steadfast refusal by the Chinese members of the joint study to support anything stronger.' and words '['In', 'March', 'the', 'joint', 'study', 'reported', 'that', 'it', 'was', 'extremely', 'unlikely', 'that', 'the', 'virus', 'had', 'been', 'released', 'in', 'a', 'laboratory', 'accident', '.', 'Dr', 'Ben', 'Embarek', 'revealed', 'that', 'this', 'conclusion', 'did', 'not', 'come', 'from', 'a', 'balanced', 'assessment', 'of', 'all', 'the', 'relevant', 'evidence', 'but', 'from', 'a', 'steadfast', 'refusal', 'by', 'the', 'Chinese', 'members', 'of', 'the', 'joint', 'study', 'to', 'support', 'anything', 'stronger', '.']'.",
     "output_type": "error",
     "traceback": [
      "\u001b[0;31m---------------------------------------------------------------------------\u001b[0m",
      "\u001b[0;31mValueError\u001b[0m                                Traceback (most recent call last)",
      "\u001b[0;32m/var/folders/4m/q87n_21926l1_ggb72_9dmq00000gp/T/ipykernel_13587/3946600607.py\u001b[0m in \u001b[0;36m<module>\u001b[0;34m\u001b[0m\n\u001b[0;32m----> 1\u001b[0;31m \u001b[0mspacy\u001b[0m\u001b[0;34m.\u001b[0m\u001b[0mutil\u001b[0m\u001b[0;34m.\u001b[0m\u001b[0mget_words_and_spaces\u001b[0m\u001b[0;34m(\u001b[0m\u001b[0mwords\u001b[0m\u001b[0;34m,\u001b[0m \u001b[0ms\u001b[0m\u001b[0;34m)\u001b[0m\u001b[0;34m\u001b[0m\u001b[0;34m\u001b[0m\u001b[0m\n\u001b[0m",
      "\u001b[0;32m~/Applications/conda_installs/anaconda3/envs/glg_research/lib/python3.9/site-packages/spacy/util.py\u001b[0m in \u001b[0;36mget_words_and_spaces\u001b[0;34m(words, text)\u001b[0m\n\u001b[1;32m   1252\u001b[0m     \"\"\"\n\u001b[1;32m   1253\u001b[0m     \u001b[0;32mif\u001b[0m \u001b[0;34m\"\"\u001b[0m\u001b[0;34m.\u001b[0m\u001b[0mjoin\u001b[0m\u001b[0;34m(\u001b[0m\u001b[0;34m\"\"\u001b[0m\u001b[0;34m.\u001b[0m\u001b[0mjoin\u001b[0m\u001b[0;34m(\u001b[0m\u001b[0mwords\u001b[0m\u001b[0;34m)\u001b[0m\u001b[0;34m.\u001b[0m\u001b[0msplit\u001b[0m\u001b[0;34m(\u001b[0m\u001b[0;34m)\u001b[0m\u001b[0;34m)\u001b[0m \u001b[0;34m!=\u001b[0m \u001b[0;34m\"\"\u001b[0m\u001b[0;34m.\u001b[0m\u001b[0mjoin\u001b[0m\u001b[0;34m(\u001b[0m\u001b[0mtext\u001b[0m\u001b[0;34m.\u001b[0m\u001b[0msplit\u001b[0m\u001b[0;34m(\u001b[0m\u001b[0;34m)\u001b[0m\u001b[0;34m)\u001b[0m\u001b[0;34m:\u001b[0m\u001b[0;34m\u001b[0m\u001b[0;34m\u001b[0m\u001b[0m\n\u001b[0;32m-> 1254\u001b[0;31m         \u001b[0;32mraise\u001b[0m \u001b[0mValueError\u001b[0m\u001b[0;34m(\u001b[0m\u001b[0mErrors\u001b[0m\u001b[0;34m.\u001b[0m\u001b[0mE194\u001b[0m\u001b[0;34m.\u001b[0m\u001b[0mformat\u001b[0m\u001b[0;34m(\u001b[0m\u001b[0mtext\u001b[0m\u001b[0;34m=\u001b[0m\u001b[0mtext\u001b[0m\u001b[0;34m,\u001b[0m \u001b[0mwords\u001b[0m\u001b[0;34m=\u001b[0m\u001b[0mwords\u001b[0m\u001b[0;34m)\u001b[0m\u001b[0;34m)\u001b[0m\u001b[0;34m\u001b[0m\u001b[0;34m\u001b[0m\u001b[0m\n\u001b[0m\u001b[1;32m   1255\u001b[0m     \u001b[0mtext_words\u001b[0m \u001b[0;34m=\u001b[0m \u001b[0;34m[\u001b[0m\u001b[0;34m]\u001b[0m\u001b[0;34m\u001b[0m\u001b[0;34m\u001b[0m\u001b[0m\n\u001b[1;32m   1256\u001b[0m     \u001b[0mtext_spaces\u001b[0m \u001b[0;34m=\u001b[0m \u001b[0;34m[\u001b[0m\u001b[0;34m]\u001b[0m\u001b[0;34m\u001b[0m\u001b[0;34m\u001b[0m\u001b[0m\n",
      "\u001b[0;31mValueError\u001b[0m: [E194] Unable to aligned mismatched text 'In March the joint study reported that it was “extremely unlikely” that the virus had been released in a laboratory accident. Dr Ben Embarek revealed that this conclusion did not come from a balanced assessment of all the relevant evidence but from a steadfast refusal by the Chinese members of the joint study to support anything stronger.' and words '['In', 'March', 'the', 'joint', 'study', 'reported', 'that', 'it', 'was', 'extremely', 'unlikely', 'that', 'the', 'virus', 'had', 'been', 'released', 'in', 'a', 'laboratory', 'accident', '.', 'Dr', 'Ben', 'Embarek', 'revealed', 'that', 'this', 'conclusion', 'did', 'not', 'come', 'from', 'a', 'balanced', 'assessment', 'of', 'all', 'the', 'relevant', 'evidence', 'but', 'from', 'a', 'steadfast', 'refusal', 'by', 'the', 'Chinese', 'members', 'of', 'the', 'joint', 'study', 'to', 'support', 'anything', 'stronger', '.']'."
     ]
    }
   ],
   "source": [
    "spacy.util.get_words_and_spaces(words, s)"
   ]
  },
  {
   "cell_type": "code",
   "execution_count": 73,
   "id": "c27a0771-253b-4bb6-8413-96c3f369af44",
   "metadata": {},
   "outputs": [
    {
     "data": {
      "text/plain": [
       "['O',\n",
       " 'B-tim',\n",
       " 'O',\n",
       " 'O',\n",
       " 'O',\n",
       " 'O',\n",
       " 'O',\n",
       " 'O',\n",
       " 'O',\n",
       " 'O',\n",
       " 'O',\n",
       " 'O',\n",
       " 'O',\n",
       " 'O',\n",
       " 'O',\n",
       " 'O',\n",
       " 'O',\n",
       " 'O',\n",
       " 'O',\n",
       " 'O',\n",
       " 'O',\n",
       " 'O',\n",
       " 'B-per',\n",
       " 'I-per',\n",
       " 'I-per',\n",
       " 'O',\n",
       " 'O',\n",
       " 'O',\n",
       " 'O',\n",
       " 'O',\n",
       " 'O',\n",
       " 'O',\n",
       " 'O',\n",
       " 'O',\n",
       " 'O',\n",
       " 'O',\n",
       " 'O',\n",
       " 'O',\n",
       " 'O',\n",
       " 'O',\n",
       " 'O',\n",
       " 'O',\n",
       " 'O',\n",
       " 'O',\n",
       " 'O',\n",
       " 'O',\n",
       " 'O',\n",
       " 'O',\n",
       " 'B-gpe',\n",
       " 'O',\n",
       " 'O',\n",
       " 'O',\n",
       " 'O',\n",
       " 'O',\n",
       " 'O',\n",
       " 'O',\n",
       " 'O',\n",
       " 'O',\n",
       " 'O']"
      ]
     },
     "execution_count": 73,
     "metadata": {},
     "output_type": "execute_result"
    }
   ],
   "source": [
    "# named_ent_tags = \n",
    "[tag for tag, word in ents]"
   ]
  },
  {
   "cell_type": "code",
   "execution_count": 57,
   "id": "2fcd493d-e05e-4836-aed3-09f625d8d639",
   "metadata": {},
   "outputs": [
    {
     "data": {
      "text/plain": [
       "'In March the joint study reported that it was “extremely unlikely” that the virus had been released in a laboratory accident. Dr Ben Embarek revealed that this conclusion did not come from a balanced assessment of all the relevant evidence but from a steadfast refusal by the Chinese members of the joint study to support anything stronger.'"
      ]
     },
     "execution_count": 57,
     "metadata": {},
     "output_type": "execute_result"
    }
   ],
   "source": [
    "s"
   ]
  },
  {
   "cell_type": "code",
   "execution_count": 60,
   "id": "7c038e46-6f3f-4b26-a3ed-74a39aa6c6e8",
   "metadata": {},
   "outputs": [
    {
     "name": "stdout",
     "output_type": "stream",
     "text": [
      "Help on function get_words_and_spaces in module spacy.util:\n",
      "\n",
      "get_words_and_spaces(words: Iterable[str], text: str) -> Tuple[List[str], List[bool]]\n",
      "    Given a list of words and a text, reconstruct the original tokens and\n",
      "    return a list of words and spaces that can be used to create a Doc. This\n",
      "    can help recover destructive tokenization that didn't preserve any\n",
      "    whitespace information.\n",
      "    \n",
      "    words (Iterable[str]): The words.\n",
      "    text (str): The original text.\n",
      "    RETURNS (Tuple[List[str], List[bool]]): The words and spaces.\n",
      "\n"
     ]
    }
   ],
   "source": [
    "help(spacy.util.get_words_and_spaces)"
   ]
  },
  {
   "cell_type": "code",
   "execution_count": 64,
   "id": "3fafa82f-282e-4472-9f9c-df0c0bb20449",
   "metadata": {},
   "outputs": [
    {
     "data": {
      "text/plain": [
       "'In March the joint study reported that it was “extremely unlikely” that the virus had been released in a laboratory accident. Dr Ben Embarek revealed that this conclusion did not come from a balanced assessment of all the relevant evidence but from a steadfast refusal by the Chinese members of the joint study to support anything stronger.'"
      ]
     },
     "execution_count": 64,
     "metadata": {},
     "output_type": "execute_result"
    }
   ],
   "source": [
    "s"
   ]
  },
  {
   "cell_type": "code",
   "execution_count": null,
   "id": "137eddb1-3f74-485e-a8e0-6c1caf6a81fc",
   "metadata": {},
   "outputs": [],
   "source": [
    "spacy.training.iob_utils.biluo_tags_to_spans"
   ]
  },
  {
   "cell_type": "code",
   "execution_count": 69,
   "id": "b4ee5d97-4115-4a42-8cf7-82fb54ca3b60",
   "metadata": {},
   "outputs": [],
   "source": [
    "from spacy.tokens import Doc\n",
    "doc = Doc(nlp.vocab, words=words, ents=named_ent_tags)"
   ]
  },
  {
   "cell_type": "code",
   "execution_count": 70,
   "id": "5bed92ae-49fb-4d05-9396-6041e038c443",
   "metadata": {},
   "outputs": [
    {
     "data": {
      "text/plain": [
       "In March the joint study reported that it was extremely unlikely that the virus had been released in a laboratory accident . Dr Ben Embarek revealed that this conclusion did not come from a balanced assessment of all the relevant evidence but from a steadfast refusal by the Chinese members of the joint study to support anything stronger . "
      ]
     },
     "execution_count": 70,
     "metadata": {},
     "output_type": "execute_result"
    }
   ],
   "source": [
    "doc"
   ]
  },
  {
   "cell_type": "code",
   "execution_count": 74,
   "id": "b34efcb4-3a97-495f-8b05-9bc81869a5c6",
   "metadata": {},
   "outputs": [
    {
     "data": {
      "text/plain": [
       "'<div class=\"entities\" style=\"line-height: 2.5; direction: ltr\">In \\n<mark class=\"entity\" style=\"background: #ddd; padding: 0.45em 0.6em; margin: 0 0.25em; line-height: 1; border-radius: 0.35em;\">\\n    March\\n    <span style=\"font-size: 0.8em; font-weight: bold; line-height: 1; border-radius: 0.35em; vertical-align: middle; margin-left: 0.5rem\">tim</span>\\n</mark>\\n the joint study reported that it was extremely unlikely that the virus had been released in a laboratory accident . \\n<mark class=\"entity\" style=\"background: #ddd; padding: 0.45em 0.6em; margin: 0 0.25em; line-height: 1; border-radius: 0.35em;\">\\n    Dr Ben Embarek\\n    <span style=\"font-size: 0.8em; font-weight: bold; line-height: 1; border-radius: 0.35em; vertical-align: middle; margin-left: 0.5rem\">per</span>\\n</mark>\\n revealed that this conclusion did not come from a balanced assessment of all the relevant evidence but from a steadfast refusal by the \\n<mark class=\"entity\" style=\"background: #feca74; padding: 0.45em 0.6em; margin: 0 0.25em; line-height: 1; border-radius: 0.35em;\">\\n    Chinese\\n    <span style=\"font-size: 0.8em; font-weight: bold; line-height: 1; border-radius: 0.35em; vertical-align: middle; margin-left: 0.5rem\">gpe</span>\\n</mark>\\n members of the joint study to support anything stronger . </div>'"
      ]
     },
     "execution_count": 74,
     "metadata": {},
     "output_type": "execute_result"
    }
   ],
   "source": [
    "displacy.render(doc, style = \"ent\", jupyter = False)"
   ]
  },
  {
   "cell_type": "code",
   "execution_count": 75,
   "id": "319f9411-b4da-44f6-b582-74407434caee",
   "metadata": {},
   "outputs": [],
   "source": [
    "# [ent for ent in named_ent_tags if len(ent) > 1]"
   ]
  },
  {
   "cell_type": "code",
   "execution_count": null,
   "id": "729b2257-27b9-4276-bf2b-cd55fed2ec51",
   "metadata": {},
   "outputs": [],
   "source": []
  }
 ],
 "metadata": {
  "kernelspec": {
   "display_name": "Python 3 (ipykernel)",
   "language": "python",
   "name": "python3"
  },
  "language_info": {
   "codemirror_mode": {
    "name": "ipython",
    "version": 3
   },
   "file_extension": ".py",
   "mimetype": "text/x-python",
   "name": "python",
   "nbconvert_exporter": "python",
   "pygments_lexer": "ipython3",
   "version": "3.9.6"
  }
 },
 "nbformat": 4,
 "nbformat_minor": 5
}
